{
 "cells": [
  {
   "cell_type": "markdown",
   "metadata": {},
   "source": [
    "# Different ways of programming :\n",
    "1. procedural programming\n",
    "2. functional programming\n",
    "3. object oriented programming "
   ]
  },
  {
   "cell_type": "markdown",
   "metadata": {},
   "source": [
    "# object oriented programming : It is a way of programming which groups similar functions in one class to make it a single unit so that the functions cannot be accessed outside the class. It divides the program into different classes which contains similar functions at one place. \n",
    "\n",
    "Need of object oriented programming :\n",
    "1. Data security. \n",
    "2. It makes our code cleaner and less complex.\n",
    "3. To avoid repeatation."
   ]
  },
  {
   "cell_type": "code",
   "execution_count": 2,
   "metadata": {},
   "outputs": [
    {
     "name": "stdout",
     "output_type": "stream",
     "text": [
      "35\n"
     ]
    }
   ],
   "source": [
    "# procedural way of programming :      top to bottom approach\n",
    "first_number = 15\n",
    "second_number = 20\n",
    "add = first_number + second_number\n",
    "print(add)\n"
   ]
  },
  {
   "cell_type": "code",
   "execution_count": 3,
   "metadata": {},
   "outputs": [
    {
     "data": {
      "text/plain": [
       "9"
      ]
     },
     "execution_count": 3,
     "metadata": {},
     "output_type": "execute_result"
    }
   ],
   "source": [
    "# functional way of programming :     Bottom to top approach\n",
    "def addition(x,y):\n",
    "    add = x+y\n",
    "    return add\n",
    "\n",
    "addition(3,6)\n"
   ]
  },
  {
   "cell_type": "markdown",
   "metadata": {},
   "source": [
    "methods : methods are the functions defined inside the class.\n",
    "functions : functions are defined outside a class."
   ]
  },
  {
   "cell_type": "code",
   "execution_count": 4,
   "metadata": {},
   "outputs": [
    {
     "name": "stdout",
     "output_type": "stream",
     "text": [
      "30\n"
     ]
    }
   ],
   "source": [
    "class addition:              # Bottom to top approach\n",
    "    def __init__(itself, x,y):\n",
    "        itself.x = x\n",
    "        itself.y = y\n",
    "\n",
    "    def add(itself):\n",
    "        result = itself.x + itself.y\n",
    "        return result\n",
    "    \n",
    "    def fun1(itself):\n",
    "        itself.add()\n",
    "\n",
    "obj = addition(10,20)\n",
    "result = obj.add()\n",
    "print(result)\n"
   ]
  },
  {
   "cell_type": "markdown",
   "metadata": {},
   "source": [
    "# class : class is a blueprint, it is made by binding the attributes (variables) and the behaviours (methods) at one place, It is made by the keyword \"class\"\n",
    "syntax : \n",
    "class class_name:\n",
    "    pass\n",
    "\n",
    "# object : An object is an instance of the class, it is a real world entity which takes some memory in the system and executes the methods of class. \n"
   ]
  },
  {
   "cell_type": "markdown",
   "metadata": {},
   "source": [
    "# constructor : It is a special method inside the class named as __init__(). This method is not called explicitly, it gets called as soon as we make an object of this class. If we need to take any arguments from user while making the object of that class so we can define it inside __init__ method. we can also make instance variables using constructor. \n",
    "\n",
    "# self : self is a representation to the current class. by using this 'self' we can access all the instance variables and methods through out the class.\n"
   ]
  },
  {
   "cell_type": "code",
   "execution_count": null,
   "metadata": {},
   "outputs": [],
   "source": []
  },
  {
   "cell_type": "code",
   "execution_count": 7,
   "metadata": {},
   "outputs": [],
   "source": [
    "class Bike:\n",
    "    def __init__(self,name, brand,color):\n",
    "        self.name = name\n",
    "        self.brand = brand\n",
    "        self.color = color\n",
    "        self.no_of_wheels = 2\n",
    "        self.no_of_persons = 2\n",
    "        self.property = 'riding'\n",
    "        self.fuel = 'petrol'\n",
    "\n",
    "    def riding(self):\n",
    "        print(\"It can be used for riding\")\n",
    "\n",
    "    def features(self):\n",
    "        print(f\"This is {self.brand} {self.name}, It is of {self.color} colour and it uses {self.fuel} for riding it\")\n",
    "\n",
    "    "
   ]
  },
  {
   "cell_type": "markdown",
   "metadata": {},
   "source": [
    "# make a car class and define two functionalities associated with car inside it. \n"
   ]
  },
  {
   "cell_type": "code",
   "execution_count": null,
   "metadata": {},
   "outputs": [],
   "source": [
    "class car:\n",
    "    def __init__(self,name, brand, color):\n",
    "        self.name = name\n",
    "        self.brand = brand\n",
    "        self.color = color\n",
    "        self.no_of_wheels = 4\n",
    "        self.no_of_persons = 4\n",
    "        self.property = 'moving'\n",
    "        self.fuel = 'petrol'\n",
    "\n",
    "    def property(self):\n",
    "        (\"Driving\")\n",
    "\n",
    "    def features(self):\n",
    "        print(f\"This is {self.brand} {self.name}, It is of {self.color} colour and it uses {self.fuel} for driving it\")\n",
    "\n",
    "    "
   ]
  },
  {
   "cell_type": "code",
   "execution_count": 8,
   "metadata": {},
   "outputs": [
    {
     "name": "stdout",
     "output_type": "stream",
     "text": [
      "It can be used for riding\n"
     ]
    }
   ],
   "source": [
    "bike1 = Bike('Activa','Honda','Blue')\n",
    "bike1.riding()"
   ]
  },
  {
   "cell_type": "code",
   "execution_count": 9,
   "metadata": {},
   "outputs": [
    {
     "name": "stdout",
     "output_type": "stream",
     "text": [
      "This is Honda Activa, It is of Blue colour and it uses petrol for riding it\n"
     ]
    }
   ],
   "source": [
    "bike1.features()"
   ]
  }
 ],
 "metadata": {
  "kernelspec": {
   "display_name": "base",
   "language": "python",
   "name": "python3"
  },
  "language_info": {
   "codemirror_mode": {
    "name": "ipython",
    "version": 3
   },
   "file_extension": ".py",
   "mimetype": "text/x-python",
   "name": "python",
   "nbconvert_exporter": "python",
   "pygments_lexer": "ipython3",
   "version": "3.9.13"
  }
 },
 "nbformat": 4,
 "nbformat_minor": 2
}
