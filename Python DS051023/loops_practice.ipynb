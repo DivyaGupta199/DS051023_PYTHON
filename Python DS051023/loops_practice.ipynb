{
 "cells": [
  {
   "cell_type": "markdown",
   "metadata": {},
   "source": [
    "# Number guessing game : \n",
    "\n",
    "you will take a number between 1 to 50 and then ask the user to enter a number in that range, if the user guess it right so print \"Well done, you guessed it right\"\n",
    "else ask the user if they wish to play again if they say yes so repeat the same process till they guess it right otherwise close the game.\n",
    "\n"
   ]
  },
  {
   "cell_type": "code",
   "execution_count": 1,
   "metadata": {},
   "outputs": [
    {
     "name": "stdout",
     "output_type": "stream",
     "text": [
      "Lets play again!!!\n",
      "Lets play again!!!\n"
     ]
    }
   ],
   "source": [
    "number = 15\n",
    "while True:\n",
    "    guess = int(input(\"Guess a number between 1 to 30\"))\n",
    "    if guess == number:\n",
    "        print(\"Well done, you have guessed it right\")\n",
    "        break\n",
    "\n",
    "    else:\n",
    "        ch = int(input(\"Press 1 to play again and Press any other number to exit\"))\n",
    "        if ch == 1:\n",
    "            print(\"Lets play again!!!\")\n",
    "        else:\n",
    "            break\n"
   ]
  },
  {
   "cell_type": "code",
   "execution_count": null,
   "metadata": {},
   "outputs": [],
   "source": [
    "gamer = 9\n",
    "\n",
    "while True:\n",
    "    guess = int(input(\"Enter the guess\"))\n",
    "    if gamer == guess:\n",
    "        print(\"Congratulation! You Won\")\n",
    "        \n",
    "\n",
    "    else:\n",
    "        print(\"Sorry!you Lost the game\")"
   ]
  },
  {
   "cell_type": "code",
   "execution_count": 4,
   "metadata": {},
   "outputs": [
    {
     "data": {
      "text/plain": [
       "[50, 20, 'String']"
      ]
     },
     "execution_count": 4,
     "metadata": {},
     "output_type": "execute_result"
    }
   ],
   "source": [
    "# Write a program to take input of list from the user. for loop, while loop.\n",
    "# list.append(value)\n",
    "# list.append(variable)"
   ]
  },
  {
   "cell_type": "code",
   "execution_count": 6,
   "metadata": {},
   "outputs": [
    {
     "name": "stdout",
     "output_type": "stream",
     "text": [
      "[1, 2, 3, 4, 5, 6, 7, 8, 9, 10]\n"
     ]
    }
   ],
   "source": [
    "List = []\n",
    "\n",
    "for i in range(1,11):\n",
    "    var = i\n",
    "    List.append(var)\n",
    "print(List)"
   ]
  },
  {
   "cell_type": "code",
   "execution_count": 9,
   "metadata": {},
   "outputs": [
    {
     "name": "stdout",
     "output_type": "stream",
     "text": [
      "[4, 'data', 100, 100, 100, 100]\n"
     ]
    }
   ],
   "source": [
    "List = []\n",
    "n = int(input(\"Enter the size of list : \"))\n",
    "\n",
    "for i in range(1,n+1):\n",
    "    data_type = input(\"Enter the type of element\")\n",
    "    if data_type == 'str':\n",
    "        var = input(\"Enter the element\")\n",
    "    elif data_type == 'int':\n",
    "        var = int(input(\"Enter the element\"))\n",
    "    List.append(var)\n",
    "print(List)"
   ]
  },
  {
   "cell_type": "code",
   "execution_count": 10,
   "metadata": {},
   "outputs": [
    {
     "name": "stdout",
     "output_type": "stream",
     "text": [
      "['12', '15', 'w']\n"
     ]
    }
   ],
   "source": [
    "# while loop\n",
    "list = []\n",
    "n = int(input(\"Enter the size of list\"))\n",
    "i = 1\n",
    "while i<=n:\n",
    "    element = input(\"Enter the element\")\n",
    "    list.append(element)\n",
    "    i+=1\n",
    "\n",
    "print(list)"
   ]
  },
  {
   "cell_type": "code",
   "execution_count": null,
   "metadata": {},
   "outputs": [],
   "source": [
    "list = []\n",
    "while True:\n",
    "    element = input(\"Enter the element\")\n",
    "    list.append(element)\n",
    "    ch = input(\"Enter y to continue and any other character to exit\")\n",
    "    if ch == 'y':\n",
    "        continue\n",
    "    else:\n",
    "        break\n"
   ]
  },
  {
   "cell_type": "code",
   "execution_count": 11,
   "metadata": {},
   "outputs": [
    {
     "name": "stdout",
     "output_type": "stream",
     "text": [
      "The list of prime numbers between 1 to 100 :  [2, 3, 5, 7, 11, 13, 17, 19, 23, 29, 31, 37, 41, 43, 47, 53, 59, 61, 67, 71, 73, 79, 83, 89, 97]\n"
     ]
    }
   ],
   "source": [
    "# Nested loop:\n",
    "# Write a program to print all the prime numbers from 1 to 100\n",
    "lst = [2]\n",
    "for i in range(3,101):\n",
    "    n = i\n",
    "    status = True\n",
    "    for j in range(2,n):\n",
    "        if n % j == 0:\n",
    "            status = False\n",
    "            break\n",
    "\n",
    "    if status == True:\n",
    "        lst.append(n)\n",
    "\n",
    "print(\"The list of prime numbers between 1 to 100 : \", lst)\n",
    "\n",
    "\n",
    "\n"
   ]
  },
  {
   "cell_type": "code",
   "execution_count": null,
   "metadata": {},
   "outputs": [],
   "source": [
    "n = int(input(\"Enter the number : \"))\n",
    "status = True\n",
    "for i in range(2,n):\n",
    "    print(i)\n",
    "    if n % i == 0:\n",
    "        status = False\n",
    "        break\n",
    "\n",
    "if status == True:\n",
    "    print(\"It is a prime number\")\n",
    "else:\n",
    "    print(\"It is not a prime number\")"
   ]
  },
  {
   "cell_type": "code",
   "execution_count": 14,
   "metadata": {},
   "outputs": [
    {
     "name": "stdout",
     "output_type": "stream",
     "text": [
      "6 * 1 = 6\n",
      "6 * 2 = 12\n",
      "6 * 3 = 18\n",
      "6 * 4 = 24\n",
      "6 * 5 = 30\n",
      "6 * 6 = 36\n",
      "6 * 7 = 42\n",
      "6 * 8 = 48\n",
      "6 * 9 = 54\n",
      "6 * 10 = 60\n"
     ]
    }
   ],
   "source": [
    "#Write a program to print a multiplication table of any number\n",
    "number = int(input(\"Enter the number : \"))\n",
    "for i in range(1,11):\n",
    "    multiply = number * i \n",
    "    print(f\"{number} * {i} = {multiply}\")\n",
    "    # print(number,\"*\",i,\"=\",multiply)\n"
   ]
  },
  {
   "cell_type": "markdown",
   "metadata": {},
   "source": [
    "*\n",
    "* *\n",
    "* * *\n",
    "* * * *\n",
    "* * * * *\n",
    "* * * * * *"
   ]
  },
  {
   "cell_type": "code",
   "execution_count": 18,
   "metadata": {},
   "outputs": [
    {
     "name": "stdout",
     "output_type": "stream",
     "text": [
      "* \n",
      "* * \n",
      "* * * \n",
      "* * * * \n",
      "* * * * * \n"
     ]
    }
   ],
   "source": [
    "n = int(input(\"Enter the no. of lines : \"))\n",
    "for i in range(1,n+1):\n",
    "    if i == 1:\n",
    "        print(\"*\",end = \" \")\n",
    "    else:\n",
    "        for j in range(1,i+1):\n",
    "            print(\"*\",end = \" \")\n",
    "\n",
    "    print()\n"
   ]
  },
  {
   "cell_type": "code",
   "execution_count": null,
   "metadata": {},
   "outputs": [],
   "source": [
    "n = 5\n",
    "\n",
    "* * * * *\n",
    "* * * * \n",
    "* * *\n",
    "* *\n",
    "*"
   ]
  },
  {
   "cell_type": "code",
   "execution_count": null,
   "metadata": {},
   "outputs": [],
   "source": [
    "1\n",
    "1 2\n",
    "1 2 3\n",
    "1 2 3 4\n",
    "1 2 3 4 5\n",
    "1 2 3 4 5 6"
   ]
  },
  {
   "cell_type": "code",
   "execution_count": null,
   "metadata": {},
   "outputs": [],
   "source": [
    "1\n",
    "1 1 \n",
    "1 1 1\n",
    "1 1 1 1\n",
    "1 1 1 1 1\n",
    "1 1 1 1 1 1"
   ]
  },
  {
   "cell_type": "code",
   "execution_count": null,
   "metadata": {},
   "outputs": [],
   "source": [
    "A\n",
    "A A\n",
    "A A A \n",
    "A A A A\n",
    "A A A A A"
   ]
  },
  {
   "cell_type": "markdown",
   "metadata": {},
   "source": [
    "A\n",
    "A B\n",
    "A B C\n",
    "A B C D E\n",
    "A B C D E F\n",
    "A B C D E F G"
   ]
  },
  {
   "cell_type": "code",
   "execution_count": null,
   "metadata": {},
   "outputs": [],
   "source": [
    "**********MULTIPLICATION TABLE OF 1***********\n",
    "1*1 =1\n",
    ".\n",
    ".\n",
    ".\n",
    ".\n",
    "1*10 =10\n",
    "\n",
    "************MULTIPLICATION TABLE OF 2**************\n",
    ".\n",
    ".\n",
    ".\n",
    ".\n",
    ".\n",
    ".\n"
   ]
  },
  {
   "cell_type": "code",
   "execution_count": null,
   "metadata": {},
   "outputs": [],
   "source": [
    "**********\n",
    " ********\n",
    "  ******\n",
    "   ****\n",
    "    **\n",
    "    *"
   ]
  }
 ],
 "metadata": {
  "kernelspec": {
   "display_name": "base",
   "language": "python",
   "name": "python3"
  },
  "language_info": {
   "codemirror_mode": {
    "name": "ipython",
    "version": 3
   },
   "file_extension": ".py",
   "mimetype": "text/x-python",
   "name": "python",
   "nbconvert_exporter": "python",
   "pygments_lexer": "ipython3",
   "version": "3.9.13"
  }
 },
 "nbformat": 4,
 "nbformat_minor": 2
}
