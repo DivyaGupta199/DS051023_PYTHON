{
 "cells": [
  {
   "cell_type": "code",
   "execution_count": null,
   "metadata": {},
   "outputs": [],
   "source": [
    "# Conditional statements : Theseestatements are used to check some conditions.\n",
    "# if  --> Can be used independently\n",
    "# else --> Always written with if statement\n",
    "# elif  -- "
   ]
  },
  {
   "cell_type": "code",
   "execution_count": 15,
   "metadata": {},
   "outputs": [
    {
     "name": "stdout",
     "output_type": "stream",
     "text": [
      "Both the numbers are equal\n"
     ]
    }
   ],
   "source": [
    "number1 = int(input(\"Enter the first number\"))\n",
    "number2 = int(input(\"Enter the second number\"))\n",
    "if number1 > number2: \n",
    "   print(\"Number 1 is greater\")\n",
    "\n",
    "elif number2 > number1:\n",
    "   print(\"Number 2 is greater\")\n",
    "\n",
    "else:\n",
    "   print(\"Both the numbers are equal\")"
   ]
  },
  {
   "cell_type": "code",
   "execution_count": 11,
   "metadata": {},
   "outputs": [
    {
     "name": "stdout",
     "output_type": "stream",
     "text": [
      "Number is odd\n"
     ]
    }
   ],
   "source": [
    "# Write a program to check if a number is even or not.\n",
    "\n",
    "number = int(input(\"Enter the number\"))\n",
    "if number%2 == 0:  #True\n",
    "    print(\"Number is even\")\n",
    "\n",
    "else:\n",
    "    print(\"Number is odd\")\n",
    "\n"
   ]
  },
  {
   "cell_type": "code",
   "execution_count": 12,
   "metadata": {},
   "outputs": [
    {
     "name": "stdout",
     "output_type": "stream",
     "text": [
      "Number is divisible by 7\n"
     ]
    }
   ],
   "source": [
    "# Write a program to check if a number is divisible by 7 or not.\n",
    "\n",
    "number = 49\n",
    "if number % 7 == 0:\n",
    "    print(\"Number is divisible by 7\")\n",
    "\n",
    "else:\n",
    "    print(\"Number is not divisible by 7\")"
   ]
  },
  {
   "cell_type": "code",
   "execution_count": null,
   "metadata": {},
   "outputs": [],
   "source": [
    "# Take input of marks from the users  (out of 100)\n",
    "'''\n",
    "marks > 90 ---> A+\n",
    "marks > 75 and marks<90 ---> A\n",
    "between 60 to 75 --> B+\n",
    "between 50 to 60 --> B\n",
    "between 40 to 50 ---> c \n",
    "marks < 40 ---> Fail\n",
    "\n",
    "'''"
   ]
  },
  {
   "cell_type": "code",
   "execution_count": 17,
   "metadata": {},
   "outputs": [
    {
     "name": "stdout",
     "output_type": "stream",
     "text": [
      "A+ GRADE\n"
     ]
    }
   ],
   "source": [
    "marks = int(input(\"Enter the marks\"))\n",
    "if marks > 90:\n",
    "    print(\"A+ GRADE\")\n",
    "\n",
    "elif marks >75 and marks <=90:\n",
    "    print(\"A GRADE\")\n",
    "\n",
    "elif marks>60 and marks <=75:\n",
    "    print(\"B+ GRADE\")\n",
    "\n",
    "elif marks>50 and marks<=60:\n",
    "    print(\"B GRADE\")\n",
    "\n",
    "elif marks>40 and marks <=50:\n",
    "    print(\"C GRADE\")\n",
    "\n",
    "else:\n",
    "    print(\"FAIL\")"
   ]
  },
  {
   "cell_type": "code",
   "execution_count": null,
   "metadata": {},
   "outputs": [],
   "source": [
    "# Nested if statements :\n",
    "\n",
    "subject = input(\"Enter your subject\")\n",
    "marks_12 = int(input(\"Enter your 12th percentage\"))\n",
    "marks_10 = int(input(\"Enter your 10th percentage\"))\n",
    "entrance_exam = int(input(\"Enter the marks of entrance exam\"))\n",
    "\n",
    "if subject == \"PCM\":\n",
    "    if marks_12 > 80:\n",
    "        if marks_10 > 80:\n",
    "            if entrance_exam > 75:\n",
    "                print(\"Application for admission is approval\")\n",
    "                print(\"You are eligible for admission!!!\")\n",
    "\n",
    "            else:\n",
    "                print(\"Not eligible\")\n",
    "                print(\"Low marks in Entrance exam\")\n",
    "\n",
    "        else:\n",
    "            print(\"10th class marks are less than the criteria\")\n",
    "\n",
    "\n",
    "    else:\n",
    "        print(\"Low marks in 12th standard\")\n",
    "\n",
    "else:\n",
    "    print(\"Subject is not matchng the criteria\")\n",
    "\n",
    "            "
   ]
  },
  {
   "cell_type": "code",
   "execution_count": null,
   "metadata": {},
   "outputs": [],
   "source": [
    "# Write a program to check if the person is eligible to drive or not.\n",
    "\"\"\"\n",
    "Prechecks : \n",
    "    age > 18\n",
    "    driving license = yes\n",
    "    drunk - No\n",
    "    helmet -- yes\n",
    "    insaurance -- Yes\n",
    "    RC card -- Yes\n",
    "if all the above conditions are met :\n",
    "    print(\"Yes the person is eligible to drive\")\n",
    "\n",
    "else :  \n",
    "    print(\"Person is not eligible for driving\")\n",
    "\n",
    "\"\"\"\n",
    "\n",
    "\n"
   ]
  }
 ],
 "metadata": {
  "kernelspec": {
   "display_name": "base",
   "language": "python",
   "name": "python3"
  },
  "language_info": {
   "codemirror_mode": {
    "name": "ipython",
    "version": 3
   },
   "file_extension": ".py",
   "mimetype": "text/x-python",
   "name": "python",
   "nbconvert_exporter": "python",
   "pygments_lexer": "ipython3",
   "version": "3.9.13"
  }
 },
 "nbformat": 4,
 "nbformat_minor": 2
}
