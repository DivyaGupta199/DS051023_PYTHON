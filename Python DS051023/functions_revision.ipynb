{
 "cells": [
  {
   "cell_type": "markdown",
   "metadata": {},
   "source": [
    "# Different ways of programming\n",
    "1. procedural way of programming\n",
    "2. functional programming\n",
    "3. object oriented programming"
   ]
  },
  {
   "cell_type": "markdown",
   "metadata": {},
   "source": [
    "# Types of arguments :\n",
    "1. Default argument\n",
    "2. Positional argument\n",
    "3. Keyword argument\n",
    "4. arbitrary argument (*args)\n",
    "5. Arbitrary keyword argument (**kwargs)\n"
   ]
  },
  {
   "cell_type": "code",
   "execution_count": null,
   "metadata": {},
   "outputs": [],
   "source": [
    "def prime_number(number = 5):\n",
    "    if number>2:\n",
    "        status = True\n",
    "        for i in range(2,number):\n",
    "            if number%i:\n",
    "                return False\n",
    "            \n",
    "        if status == True:\n",
    "            return True\n",
    "            \n"
   ]
  }
 ],
 "metadata": {
  "language_info": {
   "name": "python"
  }
 },
 "nbformat": 4,
 "nbformat_minor": 2
}
