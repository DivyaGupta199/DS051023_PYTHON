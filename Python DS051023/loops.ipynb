{
 "cells": [
  {
   "cell_type": "code",
   "execution_count": null,
   "metadata": {},
   "outputs": [],
   "source": [
    "# loops : loops are used to execute any block of code multiple times and avoid repeatation.\n",
    "'''\n",
    "There are two types of loops in python :\n",
    "1. for loop : for loop is used to iterate any sequencial and collection datatype or iterate through a block of code for a fixed number of time. \n",
    "2. while loop : When we do not know the fixed number of iterations but certain condition, so we use a while loop.\n",
    "\n",
    "'''"
   ]
  },
  {
   "cell_type": "code",
   "execution_count": 5,
   "metadata": {},
   "outputs": [
    {
     "name": "stdout",
     "output_type": "stream",
     "text": [
      "(1, 'one')\n",
      "(2, 'two')\n",
      "(3, 'three')\n",
      "(4, 'four')\n",
      "(5, 'five')\n",
      "--------------finish-------------------\n"
     ]
    }
   ],
   "source": [
    "# for loop :\n",
    "# sequential and collection datatype : string, list, tuple, dictionary, sets.\n",
    "\n",
    "set = {1:\"one\",2:\"two\",3:\"three\",4:\"four\",5:\"five\"}\n",
    "for i in set.items():         \n",
    "    print(i)\n",
    "\n",
    "print(\"--------------finish-------------------\")\n"
   ]
  },
  {
   "cell_type": "code",
   "execution_count": 11,
   "metadata": {},
   "outputs": [
    {
     "name": "stdout",
     "output_type": "stream",
     "text": [
      "10\n",
      "14\n",
      "18\n",
      "22\n",
      "26\n",
      "30\n",
      "34\n",
      "38\n",
      "42\n",
      "46\n"
     ]
    }
   ],
   "source": [
    "# range(start = 0,end,steps = 1)\n",
    "for cursor in range(10,50,4):\n",
    "    print(cursor)"
   ]
  },
  {
   "cell_type": "code",
   "execution_count": 13,
   "metadata": {},
   "outputs": [
    {
     "name": "stdout",
     "output_type": "stream",
     "text": [
      "14\n",
      "19\n",
      "20\n",
      "23\n",
      "43\n",
      "48\n",
      "98\n",
      "45\n",
      "65\n",
      "66\n"
     ]
    }
   ],
   "source": [
    "list = [14,19,20,23,43,48,98,45,65,66]\n",
    "length = len(list)\n",
    "for i in range(length):                        # i = 2\n",
    "    print(list[i])                             # list[2]\n"
   ]
  },
  {
   "cell_type": "code",
   "execution_count": null,
   "metadata": {},
   "outputs": [],
   "source": [
    "# Write a program to get sum of first n natural numbers using loop and take the value of n from user input.\n",
    "'''\n",
    "Input : n = 10\n",
    "n natural numbers : 1,2,3,4,5,6,7,8,9,10\n",
    "sum : 1+2+3+4+5+6+7+8+9+10 = 55\n",
    "Output : 55\n",
    "'''\n",
    "1,2,3,4,5,6,7,8,9,10\n"
   ]
  },
  {
   "cell_type": "code",
   "execution_count": 17,
   "metadata": {},
   "outputs": [
    {
     "name": "stdout",
     "output_type": "stream",
     "text": [
      "The sum of first 5 natural numbers is : 0\n"
     ]
    }
   ],
   "source": [
    "n = int(input(\"Enter the range : \"))\n",
    "sum = 1\n",
    "for i in range(n+1):\n",
    "    sum*=i\n",
    "\n",
    "print(f\"The sum of first {n} natural numbers is : {sum}\")"
   ]
  },
  {
   "cell_type": "code",
   "execution_count": 19,
   "metadata": {},
   "outputs": [],
   "source": [
    "# Write a program to check if a number is prime or not. take the input of number from user and print if it is prime or not.\n",
    "\n",
    "# e.g Input : 9\n",
    "# # Output : Not Prime\n",
    "# Input : 11\n",
    "# Output : Prime\n"
   ]
  },
  {
   "cell_type": "code",
   "execution_count": 22,
   "metadata": {},
   "outputs": [
    {
     "name": "stdout",
     "output_type": "stream",
     "text": [
      "2\n",
      "3\n",
      "4\n",
      "5\n",
      "6\n",
      "7\n",
      "8\n",
      "9\n",
      "10\n",
      "It is a prime number\n"
     ]
    }
   ],
   "source": [
    "n = int(input(\"Enter the number : \"))\n",
    "status = True\n",
    "for i in range(2,n):\n",
    "    print(i)\n",
    "    if n % i == 0:\n",
    "        status = False\n",
    "        break\n",
    "\n",
    "if status == True:\n",
    "    print(\"It is a prime number\")\n",
    "else:\n",
    "    print(\"It is not a prime number\")"
   ]
  },
  {
   "cell_type": "code",
   "execution_count": null,
   "metadata": {},
   "outputs": [],
   "source": [
    "n = 10 \n",
    "for i in range(2,10):\n",
    "    if 10%2 == 0:\n",
    "        status = False\n",
    "        break\n",
    "    \n"
   ]
  }
 ],
 "metadata": {
  "kernelspec": {
   "display_name": "base",
   "language": "python",
   "name": "python3"
  },
  "language_info": {
   "codemirror_mode": {
    "name": "ipython",
    "version": 3
   },
   "file_extension": ".py",
   "mimetype": "text/x-python",
   "name": "python",
   "nbconvert_exporter": "python",
   "pygments_lexer": "ipython3",
   "version": "3.9.13"
  }
 },
 "nbformat": 4,
 "nbformat_minor": 2
}
