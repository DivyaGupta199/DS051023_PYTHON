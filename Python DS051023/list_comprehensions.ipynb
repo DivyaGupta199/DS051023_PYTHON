{
 "cells": [
  {
   "cell_type": "markdown",
   "metadata": {},
   "source": [
    "# List comprehensions : List comprehensions are used to create a list on the basis of another list. It provides shorter syntax for making a new list."
   ]
  },
  {
   "cell_type": "code",
   "execution_count": 1,
   "metadata": {},
   "outputs": [
    {
     "name": "stdout",
     "output_type": "stream",
     "text": [
      "[3, 6, 9, 12, 15, 18, 21, 24, 27]\n"
     ]
    }
   ],
   "source": [
    "lst = [1,2,3,4,5,6,7,8,9]\n",
    "new_lst = []\n",
    "for i in lst:\n",
    "    element = i*3\n",
    "    new_lst.append(element)\n",
    "\n",
    "print(new_lst)"
   ]
  },
  {
   "cell_type": "code",
   "execution_count": 2,
   "metadata": {},
   "outputs": [
    {
     "name": "stdout",
     "output_type": "stream",
     "text": [
      "[5, 10, 15, 20, 25, 30, 35, 40, 45]\n"
     ]
    }
   ],
   "source": [
    "lst = [1,2,3,4,5,6,7,8,9]\n",
    "new_lst = [i*5 for i in lst]\n",
    "print(new_lst)\n"
   ]
  },
  {
   "cell_type": "code",
   "execution_count": 3,
   "metadata": {},
   "outputs": [
    {
     "data": {
      "text/plain": [
       "['apple', 'cherry', 'pineapple', 'strawberry']"
      ]
     },
     "execution_count": 3,
     "metadata": {},
     "output_type": "execute_result"
    }
   ],
   "source": [
    "# create a list which contains all the strings which contains the letter 'e' from existing list \n",
    "\n",
    "lst = ['apple','banana','cherry','mango','guava','pineapple','strawberry']\n",
    "new_lst = [word for word in lst if 'e' in word]\n",
    "new_lst\n"
   ]
  },
  {
   "cell_type": "code",
   "execution_count": 4,
   "metadata": {},
   "outputs": [
    {
     "name": "stdout",
     "output_type": "stream",
     "text": [
      "['apple', 'cherry', 'pineapple', 'strawberry']\n"
     ]
    }
   ],
   "source": [
    "lst = ['apple','banana','cherry','mango','guava','pineapple','strawberry']\n",
    "new_lst = []\n",
    "for word in lst:\n",
    "    if 'e' in word:\n",
    "        new_lst.append(word)\n",
    "\n",
    "print(new_lst)\n",
    "\n"
   ]
  },
  {
   "cell_type": "code",
   "execution_count": null,
   "metadata": {},
   "outputs": [],
   "source": [
    "# you have a list of numbers, if a number is a multiple of 3 then you need to append 'True' else you need to append 'False'\n",
    "\n",
    "lst = [1,2,3,4,5,6,7,8,9,0,10]\n",
    "new_lst = [False, False, True, False, False, True, False, False, True, False, False]"
   ]
  },
  {
   "cell_type": "code",
   "execution_count": 6,
   "metadata": {},
   "outputs": [
    {
     "data": {
      "text/plain": [
       "[False, False, True, False, False, True, False, False, True, True, False]"
      ]
     },
     "execution_count": 6,
     "metadata": {},
     "output_type": "execute_result"
    }
   ],
   "source": [
    "lst = [1,2,3,4,5,6,7,8,9,0,10]\n",
    "new_lst = [True if number%3 == 0 else False for number in lst]\n",
    "new_lst"
   ]
  },
  {
   "cell_type": "code",
   "execution_count": null,
   "metadata": {},
   "outputs": [],
   "source": [
    "lst = [1,2,3,4,5,6,7,8,9,0,10]\n",
    "new_lst = []\n",
    "for i in lst:\n",
    "    if i%3 == 0 :\n",
    "        new_lst.append(True)\n",
    "\n",
    "    else:\n",
    "        new_lst.append(False)\n",
    "\n",
    "print(new_lst)"
   ]
  },
  {
   "cell_type": "code",
   "execution_count": 8,
   "metadata": {},
   "outputs": [
    {
     "data": {
      "text/plain": [
       "[1, 8, 27, 64, 125]"
      ]
     },
     "execution_count": 8,
     "metadata": {},
     "output_type": "execute_result"
    }
   ],
   "source": [
    "# Write a program to get the new list which contains the cube of all elements present in existing list. \n",
    "lst =[1,2,3,4,5]\n",
    "# new_lst = [1,8,27,64,125]\n",
    "new_lst = [i**3 for i in lst]\n",
    "new_lst"
   ]
  },
  {
   "cell_type": "markdown",
   "metadata": {},
   "source": [
    "# Dictionary comprehensions : dictionary comprehensions are used to create a dictionary on the basis of some existing data/list. It provides a shorter syntax for creating a dictionary. \n",
    "\n"
   ]
  },
  {
   "cell_type": "code",
   "execution_count": 9,
   "metadata": {},
   "outputs": [
    {
     "data": {
      "text/plain": [
       "{1: 10, 2: 20, 3: 30, 4: 40, 5: 50, 6: 60}"
      ]
     },
     "execution_count": 9,
     "metadata": {},
     "output_type": "execute_result"
    }
   ],
   "source": [
    "list1 = [1,2,3,4,5,6]\n",
    "# dict = {1 : 10, 2 : 20, 3:30 , 4:40, 5: 50, 6:60}\n",
    "dict1 = {}\n",
    "for n in list1:\n",
    "    dict1[n] = n*10\n",
    "\n",
    "dict1"
   ]
  },
  {
   "cell_type": "code",
   "execution_count": 10,
   "metadata": {},
   "outputs": [
    {
     "name": "stdout",
     "output_type": "stream",
     "text": [
      "{1: 10, 2: 20, 3: 30, 4: 40, 5: 50, 6: 60}\n"
     ]
    }
   ],
   "source": [
    "list1 = [1,2,3,4,5,6]\n",
    "dict1 = {i : i*10 for i in list1}\n",
    "print(dict1)"
   ]
  },
  {
   "cell_type": "code",
   "execution_count": 12,
   "metadata": {},
   "outputs": [
    {
     "data": {
      "text/plain": [
       "{1: 1, 2: 4, 3: 9, 4: 16, 5: 25, 6: 36}"
      ]
     },
     "execution_count": 12,
     "metadata": {},
     "output_type": "execute_result"
    }
   ],
   "source": [
    "list1 = [1,2,3,4,5,6]\n",
    "# square = {1 : 1, 2:4 , 3:9, 4:16, 5:25, 6:36}\n",
    "square = {i : i**2 for i in list1}\n",
    "square\n"
   ]
  },
  {
   "cell_type": "code",
   "execution_count": 13,
   "metadata": {},
   "outputs": [
    {
     "data": {
      "text/plain": [
       "{'P': 'Python', 'J': 'Javascript', 'R': 'Ruby', 'C': 'C#'}"
      ]
     },
     "execution_count": 13,
     "metadata": {},
     "output_type": "execute_result"
    }
   ],
   "source": [
    "list1 = [\"python\",\"java\",\"ruby\",\"javascript\",\"c++\", \"c#\"]\n",
    "\n",
    "# dict1 = {'P' : 'Python', 'J': 'Java',.....}\n",
    "dict1 = {i[0].upper() : i.title() for i in list1}\n",
    "dict1"
   ]
  },
  {
   "cell_type": "code",
   "execution_count": null,
   "metadata": {},
   "outputs": [],
   "source": [
    "list = [1,2,3,4,5,6,7,8,9,10]\n",
    "table = {\n",
    "    1 : [1,2,3,4,5,6,7,8,9,10],\n",
    "    2 : [2,4,6,8,10,12,14,16,18,20],\n",
    "    3 : [3,6,9,12,15,18,21,24,27,30],\n",
    "    .\n",
    "    . \n",
    "    .\n",
    "    .\n",
    "    10 : [10,20,30,40,50,60,70,80,90,100]\n",
    "\n",
    "}"
   ]
  },
  {
   "cell_type": "code",
   "execution_count": 16,
   "metadata": {},
   "outputs": [
    {
     "data": {
      "text/plain": [
       "{1: [1, 2, 3, 4, 5, 6, 7, 8, 9, 10],\n",
       " 2: [2, 4, 6, 8, 10, 12, 14, 16, 18, 20],\n",
       " 3: [3, 6, 9, 12, 15, 18, 21, 24, 27, 30],\n",
       " 4: [4, 8, 12, 16, 20, 24, 28, 32, 36, 40],\n",
       " 5: [5, 10, 15, 20, 25, 30, 35, 40, 45, 50],\n",
       " 6: [6, 12, 18, 24, 30, 36, 42, 48, 54, 60],\n",
       " 7: [7, 14, 21, 28, 35, 42, 49, 56, 63, 70],\n",
       " 8: [8, 16, 24, 32, 40, 48, 56, 64, 72, 80],\n",
       " 9: [9, 18, 27, 36, 45, 54, 63, 72, 81, 90],\n",
       " 10: [10, 20, 30, 40, 50, 60, 70, 80, 90, 100]}"
      ]
     },
     "execution_count": 16,
     "metadata": {},
     "output_type": "execute_result"
    }
   ],
   "source": [
    "list = [1,2,3,4,5,6,7,8,9,10]\n",
    "dict1 = { number : [number * i for i in list] for number in list}\n",
    "dict1"
   ]
  },
  {
   "cell_type": "code",
   "execution_count": 15,
   "metadata": {},
   "outputs": [
    {
     "data": {
      "text/plain": [
       "{3: [3, 6, 9, 12, 15, 18, 21, 24, 27, 30],\n",
       " 4: [4, 8, 12, 16, 20, 24, 28, 32, 36, 40],\n",
       " 5: [5, 10, 15, 20, 25, 30, 35, 40, 45, 50],\n",
       " 6: [6, 12, 18, 24, 30, 36, 42, 48, 54, 60],\n",
       " 7: [7, 14, 21, 28, 35, 42, 49, 56, 63, 70],\n",
       " 8: [8, 16, 24, 32, 40, 48, 56, 64, 72, 80]}"
      ]
     },
     "execution_count": 15,
     "metadata": {},
     "output_type": "execute_result"
    }
   ],
   "source": [
    "dict2 = {number : [number *i for i in range(1,11)] for number in range(3,9)}\n",
    "dict2"
   ]
  },
  {
   "cell_type": "code",
   "execution_count": null,
   "metadata": {},
   "outputs": [],
   "source": [
    "# Create a login page for user for a website : \n",
    "'''\n",
    "\"Welcome to our website\"\n",
    "Press 1 : To sign in \n",
    "Press 2 : To sign up\n",
    "if the user enters 2 : Ask for the following details \n",
    "Name : \n",
    "email id :\n",
    "phone : \n",
    "password : \n",
    "\n",
    "after getting the details you will store it in a file and display the message \"Signed up successfully!!!\", \n",
    "and then ask the user to sign in to their account\n",
    "'''\n",
    "'''\n",
    "when user choose option 1 to sign in their account : \n",
    "ask for email id and password and validate it from the file. If data is correct so print \"Signed in successfully !!!\" otherwise display the msg\n",
    "    \"Invalid credentials \"\n",
    "'''"
   ]
  },
  {
   "cell_type": "code",
   "execution_count": 34,
   "metadata": {},
   "outputs": [
    {
     "name": "stdout",
     "output_type": "stream",
     "text": [
      "Welcome to our website!!!\n",
      "Press 1 : To sign in \n",
      "Press 2 : To sign up\n",
      "Signed in successfully\n"
     ]
    }
   ],
   "source": [
    "print(\"Welcome to our website!!!\")\n",
    "print(\"Press 1 : To sign in \")\n",
    "print(\"Press 2 : To sign up\")\n",
    "ch = int(input())\n",
    "if ch == 1:\n",
    "    status = False\n",
    "    email = input(\"Enter your email_id\")\n",
    "    password = input(\"Enter your password\")\n",
    "    Email_id = f\"Email_id = {email}\"\n",
    "    Password = f\"Password = {password}\"\n",
    "    # print(Email_id)\n",
    "    # print(Password)\n",
    "\n",
    "    with open(\"user_data.txt\",'r') as file:\n",
    "        data = file.readlines()\n",
    "\n",
    "    for i in data:\n",
    "        # print(i)\n",
    "        lst = i.split(\", \")\n",
    "        # print(lst[1], lst[3])\n",
    "        if lst[1] == Email_id and lst[3] == Password:\n",
    "            status = True\n",
    "            print(\"Signed in successfully\")\n",
    "            break\n",
    "\n",
    "    if status == False:\n",
    "        print(\"Invalid credentials !!!\")\n",
    "    \n",
    "\n",
    "elif ch == 2:\n",
    "    Name = input(\"Enter your name : \")\n",
    "    Email_id = input(\"Enter your email id :\")\n",
    "    Phone = input(\"Enter your phone number : \")\n",
    "    while True:\n",
    "        password = input(\"Create a strong password for your account : \")\n",
    "        match = input(\"Enter the password again : \")\n",
    "        if password == match:\n",
    "            print(\"Password matched !!!\")\n",
    "            break\n",
    "\n",
    "    file = open(\"user_data.txt\",'a')\n",
    "    data = f\"\\nName = {Name}, Email_id = {Email_id}, Phone = {Phone}, Password = {password}\"\n",
    "    file.write(data)\n",
    "    file.close()\n",
    "    print(\"Signed up successfully !!!\")\n",
    "\n",
    "else:\n",
    "    print(\"Invalid choice\")"
   ]
  },
  {
   "cell_type": "code",
   "execution_count": 22,
   "metadata": {},
   "outputs": [
    {
     "name": "stdout",
     "output_type": "stream",
     "text": [
      "['Name = Nitya, Email_id = Nitya@gmail.com, Phone = 123456789, Password = Nitya@123456\\n', 'Name = Divya, Email_id = Divya@gmail.com, Phone = 987566978, Password = Divya#1234']\n"
     ]
    }
   ],
   "source": [
    "with open(\"user_data.txt\",'r') as file:\n",
    "    data = file.readlines()\n",
    "\n",
    "print(data)\n",
    "\n"
   ]
  },
  {
   "cell_type": "code",
   "execution_count": 27,
   "metadata": {},
   "outputs": [
    {
     "data": {
      "text/plain": [
       "['Name = Divya',\n",
       " 'Email_id = Divya@gmail.com',\n",
       " 'Phone = 987566978',\n",
       " 'Password = Divya#1234']"
      ]
     },
     "execution_count": 27,
     "metadata": {},
     "output_type": "execute_result"
    }
   ],
   "source": [
    "for i in data:\n",
    "    lst = i.split(\", \")\n",
    "\n",
    "lst\n"
   ]
  },
  {
   "cell_type": "code",
   "execution_count": 28,
   "metadata": {},
   "outputs": [
    {
     "name": "stdout",
     "output_type": "stream",
     "text": [
      "Name = Divya\n",
      "Email_id = Divya@gmail.com\n",
      "Phone = 987566978\n",
      "Password = Divya#1234\n"
     ]
    }
   ],
   "source": [
    "for i in lst:\n",
    "    print(i)"
   ]
  }
 ],
 "metadata": {
  "kernelspec": {
   "display_name": "base",
   "language": "python",
   "name": "python3"
  },
  "language_info": {
   "codemirror_mode": {
    "name": "ipython",
    "version": 3
   },
   "file_extension": ".py",
   "mimetype": "text/x-python",
   "name": "python",
   "nbconvert_exporter": "python",
   "pygments_lexer": "ipython3",
   "version": "3.9.13"
  }
 },
 "nbformat": 4,
 "nbformat_minor": 2
}
