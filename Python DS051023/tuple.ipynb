{
 "cells": [
  {
   "cell_type": "code",
   "execution_count": null,
   "metadata": {},
   "outputs": [],
   "source": [
    "# Tuple : \n",
    "'''\n",
    "tuple is a sequence datatype, it is a heterogeneous collection of elements.\n",
    "tuples are ordered. It allows indexing of elements.\n",
    "tuples are immutable, we cannot add, delete or modify an element in a tuple.\n",
    "Since tuples doesnot allow modification so tuples are faster than list.\n",
    "tuples are used for data security.\n",
    "\n",
    "'''\n"
   ]
  },
  {
   "cell_type": "code",
   "execution_count": 8,
   "metadata": {},
   "outputs": [
    {
     "name": "stdout",
     "output_type": "stream",
     "text": [
      "<class 'tuple'>\n",
      "<class 'tuple'>\n",
      "<class 'tuple'>\n",
      "<class 'tuple'>\n"
     ]
    }
   ],
   "source": [
    "# Defining a tuple :\n",
    "tuple1 = (2,3,5,6,7)\n",
    "print(type(tuple1))\n",
    "\n",
    "tuple2 = tuple((1,2,3,4))\n",
    "print(type(tuple2))\n",
    "\n",
    "tuple3 = tuple()\n",
    "print(type(tuple3))\n",
    "\n",
    "tuple4 = (3,)\n",
    "print(type(tuple4))"
   ]
  },
  {
   "cell_type": "code",
   "execution_count": 13,
   "metadata": {},
   "outputs": [
    {
     "name": "stdout",
     "output_type": "stream",
     "text": [
      "[1, 2, 3, 4]\n",
      "('a', 'b')\n"
     ]
    }
   ],
   "source": [
    "# Accessing elements of a tuple \n",
    "tup1 = (12,'A',13.00,\"tuples\",[1,2,3,4],('a','b'),100,200,12,12,13.00)\n",
    "print(tup1[4])\n",
    "\n",
    "tup2 = tup1[5]\n",
    "print(tup2)"
   ]
  },
  {
   "cell_type": "code",
   "execution_count": 12,
   "metadata": {},
   "outputs": [
    {
     "name": "stdout",
     "output_type": "stream",
     "text": [
      "8\n"
     ]
    }
   ],
   "source": [
    "# len() :\n",
    "\n",
    "l = len(tup1)\n",
    "print(l)"
   ]
  },
  {
   "cell_type": "code",
   "execution_count": null,
   "metadata": {},
   "outputs": [],
   "source": []
  },
  {
   "cell_type": "code",
   "execution_count": 14,
   "metadata": {},
   "outputs": [
    {
     "name": "stdout",
     "output_type": "stream",
     "text": [
      "3\n"
     ]
    }
   ],
   "source": [
    "# count() : \n",
    "c = tup1.count(12)\n",
    "print(c)\n"
   ]
  },
  {
   "cell_type": "code",
   "execution_count": 15,
   "metadata": {},
   "outputs": [
    {
     "name": "stdout",
     "output_type": "stream",
     "text": [
      "[12, 'A', 13.0, 'tuples', [1, 2, 3, 4], ('a', 'b'), 100, 200, 12, 12, 13.0]\n"
     ]
    }
   ],
   "source": [
    "list1 = list(tup1)\n",
    "print(list1)"
   ]
  },
  {
   "cell_type": "code",
   "execution_count": 17,
   "metadata": {},
   "outputs": [
    {
     "name": "stdout",
     "output_type": "stream",
     "text": [
      "(12, 'A', 200, 'tuples', [1, 2, 3, 4], ('a', 'b'), 100, 200, 12, 12, 13.0)\n"
     ]
    }
   ],
   "source": [
    "list1[2] = 200\n",
    "list1\n",
    "\n",
    "tup1 = tuple(list1)\n",
    "print(tup1)"
   ]
  },
  {
   "cell_type": "code",
   "execution_count": 20,
   "metadata": {},
   "outputs": [
    {
     "name": "stdout",
     "output_type": "stream",
     "text": [
      "(1, 2, 3, 4, 5, 6, 7, 8)\n"
     ]
    }
   ],
   "source": [
    "# concatenation \n",
    "tuple1 = (1,2,3,4)\n",
    "tuple2 = (5,6,7,8)\n",
    "tuple3 = tuple1 + tuple2\n",
    "print(tuple3)"
   ]
  },
  {
   "cell_type": "code",
   "execution_count": 21,
   "metadata": {},
   "outputs": [
    {
     "data": {
      "text/plain": [
       "(1, 2, 3, 4, 1, 2, 3, 4, 1, 2, 3, 4)"
      ]
     },
     "execution_count": 21,
     "metadata": {},
     "output_type": "execute_result"
    }
   ],
   "source": [
    "# multiplication \n",
    "tuple1 = (1,2,3,4)\n",
    "tuple1 * 3\n"
   ]
  },
  {
   "cell_type": "code",
   "execution_count": 26,
   "metadata": {},
   "outputs": [
    {
     "data": {
      "text/plain": [
       "([1, 2, 3, 4], ('a', 'b'), 100, 200, 12, 12)"
      ]
     },
     "execution_count": 26,
     "metadata": {},
     "output_type": "execute_result"
    }
   ],
   "source": [
    "# slicing in tuple\n",
    "\n",
    "tup1[1:8]\n",
    "tup1[:6]\n",
    "tup1[3:]\n",
    "tup1[::-1]\n",
    "tup1[-7:-1]"
   ]
  },
  {
   "cell_type": "code",
   "execution_count": 27,
   "metadata": {},
   "outputs": [
    {
     "name": "stdout",
     "output_type": "stream",
     "text": [
      "12\n",
      "A\n",
      "200\n",
      "tuples\n",
      "[1, 2, 3, 4]\n",
      "('a', 'b')\n",
      "100\n",
      "200\n",
      "12\n",
      "12\n",
      "13.0\n"
     ]
    }
   ],
   "source": [
    "for i in range(len(tup1)):\n",
    "    print(tup1[i])"
   ]
  },
  {
   "cell_type": "code",
   "execution_count": 28,
   "metadata": {},
   "outputs": [
    {
     "name": "stdout",
     "output_type": "stream",
     "text": [
      "12\n",
      "A\n",
      "200\n",
      "tuples\n",
      "[1, 2, 3, 4]\n",
      "('a', 'b')\n",
      "100\n",
      "200\n",
      "12\n",
      "12\n",
      "13.0\n"
     ]
    }
   ],
   "source": [
    "for i in tup1:\n",
    "    print(i)"
   ]
  },
  {
   "cell_type": "code",
   "execution_count": 31,
   "metadata": {},
   "outputs": [
    {
     "name": "stdout",
     "output_type": "stream",
     "text": [
      "12\n",
      "A\n",
      "200\n",
      "tuples\n",
      "[1, 2, 3, 4]\n",
      "('a', 'b')\n",
      "100\n",
      "200\n",
      "12\n",
      "12\n",
      "13.0\n"
     ]
    }
   ],
   "source": [
    "i = 0\n",
    "\n",
    "while i < len(tup1):\n",
    "    print(tup1[i])\n",
    "    i+=1"
   ]
  },
  {
   "cell_type": "markdown",
   "metadata": {},
   "source": [
    "Write a Python program to find repeated items in a tuple.\n"
   ]
  },
  {
   "cell_type": "code",
   "execution_count": 34,
   "metadata": {},
   "outputs": [
    {
     "name": "stdout",
     "output_type": "stream",
     "text": [
      "{12: 3, 200: 2}\n"
     ]
    }
   ],
   "source": [
    "tup1 = (12, 'A', 200, 'tuples', [1, 2, 3, 4], ('a', 'b'), 100, 200, 12, 12, 13.0)\n",
    "dict1 = {}\n",
    "for i in tup1:\n",
    "    c = tup1.count(i)\n",
    "    if c>1:\n",
    "        dict1[i] = c\n",
    "\n",
    "print(dict1)"
   ]
  },
  {
   "cell_type": "code",
   "execution_count": 36,
   "metadata": {},
   "outputs": [
    {
     "name": "stdout",
     "output_type": "stream",
     "text": [
      "(12, 'A', 200, [1, 2, 3, 4], ('a', 'b'), 100, 200, 12, 12, 13.0)\n"
     ]
    }
   ],
   "source": [
    "# Write a program to remove an element from an tuple.\n",
    "\n",
    "tup1 = (12, 'A', 200, 'tuples', [1, 2, 3, 4], ('a', 'b'), 100, 200, 12, 12, 13.0)\n",
    "# method1 \n",
    "tup1 = tup1[:3] + tup1[4:]\n",
    "print(tup1)"
   ]
  },
  {
   "cell_type": "code",
   "execution_count": 38,
   "metadata": {},
   "outputs": [
    {
     "name": "stdout",
     "output_type": "stream",
     "text": [
      "(12, 'A', 200, [1, 2, 3, 4], ('a', 'b'), 100, 200, 12, 12, 13.0)\n"
     ]
    }
   ],
   "source": [
    "tup1 = (12, 'A', 200, 'tuples', [1, 2, 3, 4], ('a', 'b'), 100, 200, 12, 12, 13.0)\n",
    "lst = list(tup1)\n",
    "lst.remove('tuples')\n",
    "tup1 = tuple(lst)\n",
    "print(tup1)"
   ]
  },
  {
   "cell_type": "code",
   "execution_count": 40,
   "metadata": {},
   "outputs": [
    {
     "name": "stdout",
     "output_type": "stream",
     "text": [
      "{2: 1, 4: 3, 6: 5, 8: 7}\n"
     ]
    }
   ],
   "source": [
    "# converting a tuple into dictionary \n",
    "tup = ((1,2),(3,4),(5,6),(7,8))\n",
    "dict1 = dict((y,x) for x,y in tup)\n",
    "print(dict1)"
   ]
  },
  {
   "cell_type": "code",
   "execution_count": 42,
   "metadata": {},
   "outputs": [
    {
     "data": {
      "text/plain": [
       "((2, 1), (4, 3), (6, 5), (8, 7))"
      ]
     },
     "execution_count": 42,
     "metadata": {},
     "output_type": "execute_result"
    }
   ],
   "source": [
    "# converting a dict into a tuple\n",
    "dict1 = {2: 1, 4: 3, 6: 5, 8: 7}\n",
    "tup = tuple(dict1.items())\n",
    "tup"
   ]
  },
  {
   "cell_type": "code",
   "execution_count": null,
   "metadata": {},
   "outputs": [],
   "source": []
  },
  {
   "cell_type": "code",
   "execution_count": null,
   "metadata": {},
   "outputs": [],
   "source": []
  },
  {
   "cell_type": "code",
   "execution_count": 45,
   "metadata": {},
   "outputs": [
    {
     "name": "stdout",
     "output_type": "stream",
     "text": [
      "* \n",
      "* * \n",
      "* * * \n",
      "* * * * \n",
      "* * * * * \n",
      "* * * * \n",
      "* * * \n",
      "* * \n",
      "* \n",
      "\n"
     ]
    }
   ],
   "source": [
    "n = 5\n",
    "for i in range(1,n+1):\n",
    "    for j in range(i):\n",
    "        print(\"*\",end = \" \")\n",
    "\n",
    "    print()\n",
    "\n",
    "for i in range(n,0,-1):\n",
    "    for j in range(1,i):\n",
    "        print(\"*\",end = \" \")\n",
    "\n",
    "    print()\n"
   ]
  },
  {
   "cell_type": "markdown",
   "metadata": {},
   "source": [
    "# using nested loops\n",
    "\n",
    "  * * * \n",
    "*       *\n",
    "*       *\n",
    "* * * * *\n",
    "*       *\n",
    "*       *"
   ]
  },
  {
   "cell_type": "code",
   "execution_count": null,
   "metadata": {},
   "outputs": [],
   "source": []
  },
  {
   "cell_type": "code",
   "execution_count": null,
   "metadata": {},
   "outputs": [],
   "source": []
  },
  {
   "cell_type": "code",
   "execution_count": null,
   "metadata": {},
   "outputs": [],
   "source": []
  },
  {
   "cell_type": "code",
   "execution_count": null,
   "metadata": {},
   "outputs": [],
   "source": []
  },
  {
   "cell_type": "code",
   "execution_count": null,
   "metadata": {},
   "outputs": [],
   "source": [
    "n = 7\n",
    "for i in range(n):\n",
    "    for j in range(i):\n",
    "        if (i != 0 and j == 1 or j == 5)"
   ]
  }
 ],
 "metadata": {
  "kernelspec": {
   "display_name": "base",
   "language": "python",
   "name": "python3"
  },
  "language_info": {
   "codemirror_mode": {
    "name": "ipython",
    "version": 3
   },
   "file_extension": ".py",
   "mimetype": "text/x-python",
   "name": "python",
   "nbconvert_exporter": "python",
   "pygments_lexer": "ipython3",
   "version": "3.9.13"
  }
 },
 "nbformat": 4,
 "nbformat_minor": 2
}
