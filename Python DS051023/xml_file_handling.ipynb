{
 "cells": [
  {
   "cell_type": "markdown",
   "metadata": {},
   "source": [
    "XML : xml stands for extensible markup language. This language is easily interpreted by both humans and computers that is why it is commonly used to store and transfer the data. The process of reading data from an xml file is called as parsing of data. \n",
    "\n",
    "For parsing the xml data in python we use Beautisoup library "
   ]
  },
  {
   "cell_type": "code",
   "execution_count": 1,
   "metadata": {},
   "outputs": [],
   "source": [
    "from bs4 import BeautifulSoup\n",
    "import pandas as pd"
   ]
  },
  {
   "cell_type": "code",
   "execution_count": 21,
   "metadata": {},
   "outputs": [],
   "source": [
    "file = open(\"students.xml\",\"r\")\n",
    "content = file.read()"
   ]
  },
  {
   "cell_type": "code",
   "execution_count": 22,
   "metadata": {},
   "outputs": [],
   "source": [
    "soup = BeautifulSoup(content, 'xml')\n"
   ]
  },
  {
   "cell_type": "code",
   "execution_count": 42,
   "metadata": {},
   "outputs": [],
   "source": [
    "name = soup.find_all('Name')\n",
    "Class = soup.find_all('class')\n",
    "percent = soup.find_all('percent')\n",
    "\n"
   ]
  },
  {
   "cell_type": "code",
   "execution_count": 39,
   "metadata": {},
   "outputs": [
    {
     "name": "stdout",
     "output_type": "stream",
     "text": [
      "[<Name>Sita</Name>, <Name>Ram</Name>, <Name>Geeta</Name>, <Name>Shivani</Name>, <Name>Raj</Name>]\n",
      "[<class>10</class>, <class>10</class>, <class>11</class>, <class>10</class>, <class>12</class>]\n",
      "<percent>80</percent>\n"
     ]
    }
   ],
   "source": [
    "print(name)\n",
    "print(Class)\n",
    "print(percent)"
   ]
  },
  {
   "cell_type": "code",
   "execution_count": 43,
   "metadata": {},
   "outputs": [
    {
     "name": "stdout",
     "output_type": "stream",
     "text": [
      "[['Sita', '10', '80'], ['Ram', '10', '90'], ['Geeta', '11', '60'], ['Shivani', '10', '76'], ['Raj', '12', '70']]\n"
     ]
    }
   ],
   "source": [
    "data = []\n",
    "for i in range(len(name)):\n",
    "    rows = [name[i].get_text(), Class[i].get_text(), percent[i].get_text()]\n",
    "    data.append(rows)\n",
    "\n",
    "print(data)"
   ]
  },
  {
   "cell_type": "code",
   "execution_count": 44,
   "metadata": {},
   "outputs": [],
   "source": [
    "col = ['Name','Class','Percent']"
   ]
  },
  {
   "cell_type": "code",
   "execution_count": 46,
   "metadata": {},
   "outputs": [
    {
     "name": "stdout",
     "output_type": "stream",
     "text": [
      "      Name Class Percent\n",
      "0     Sita    10      80\n",
      "1      Ram    10      90\n",
      "2    Geeta    11      60\n",
      "3  Shivani    10      76\n",
      "4      Raj    12      70\n"
     ]
    }
   ],
   "source": [
    "import pandas as pd\n",
    "\n",
    "df = pd.DataFrame(data)\n",
    "df.columns = col\n",
    "\n",
    "print(df)"
   ]
  }
 ],
 "metadata": {
  "kernelspec": {
   "display_name": "base",
   "language": "python",
   "name": "python3"
  },
  "language_info": {
   "codemirror_mode": {
    "name": "ipython",
    "version": 3
   },
   "file_extension": ".py",
   "mimetype": "text/x-python",
   "name": "python",
   "nbconvert_exporter": "python",
   "pygments_lexer": "ipython3",
   "version": "3.9.13"
  }
 },
 "nbformat": 4,
 "nbformat_minor": 2
}
