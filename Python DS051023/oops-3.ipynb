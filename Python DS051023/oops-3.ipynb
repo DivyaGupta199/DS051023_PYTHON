{
 "cells": [
  {
   "cell_type": "markdown",
   "metadata": {},
   "source": [
    "# Polymorphism : polymorphism defines the ability of a function to take different forms. multiple functions can be defined with the same name but every function will have different functionalities. \n",
    "poly - many\n",
    "morphism - forms"
   ]
  },
  {
   "cell_type": "code",
   "execution_count": 1,
   "metadata": {},
   "outputs": [
    {
     "ename": "TypeError",
     "evalue": "addition() missing 1 required positional argument: 'c'",
     "output_type": "error",
     "traceback": [
      "\u001b[1;31m---------------------------------------------------------------------------\u001b[0m",
      "\u001b[1;31mTypeError\u001b[0m                                 Traceback (most recent call last)",
      "\u001b[1;32m~\\AppData\\Local\\Temp\\ipykernel_33420\\2713701601.py\u001b[0m in \u001b[0;36m<module>\u001b[1;34m\u001b[0m\n\u001b[0;32m      5\u001b[0m     \u001b[1;32mreturn\u001b[0m \u001b[0ma\u001b[0m\u001b[1;33m+\u001b[0m\u001b[0mb\u001b[0m\u001b[1;33m+\u001b[0m\u001b[0mc\u001b[0m\u001b[1;33m\u001b[0m\u001b[1;33m\u001b[0m\u001b[0m\n\u001b[0;32m      6\u001b[0m \u001b[1;33m\u001b[0m\u001b[0m\n\u001b[1;32m----> 7\u001b[1;33m \u001b[0maddition\u001b[0m\u001b[1;33m(\u001b[0m\u001b[1;36m4\u001b[0m\u001b[1;33m,\u001b[0m\u001b[1;36m6\u001b[0m\u001b[1;33m)\u001b[0m\u001b[1;33m\u001b[0m\u001b[1;33m\u001b[0m\u001b[0m\n\u001b[0m",
      "\u001b[1;31mTypeError\u001b[0m: addition() missing 1 required positional argument: 'c'"
     ]
    }
   ],
   "source": [
    "def addition(a,b):\n",
    "    return a+b\n",
    "\n",
    "def addition(a,b,c):\n",
    "    return a+b+c\n",
    "\n",
    "addition(4,6)"
   ]
  },
  {
   "cell_type": "code",
   "execution_count": 2,
   "metadata": {},
   "outputs": [],
   "source": [
    "# method overriding : \n",
    "class A:\n",
    "    def fun1(self):\n",
    "        print(\"This is fun1 of A class\")\n",
    "\n",
    "    def fun2(self):\n",
    "        print(\"This is fun2 of A class\")\n",
    "\n",
    "class B(A):\n",
    "    def fun3(self):\n",
    "        print(\"This is fun3 of B class\")\n",
    "\n",
    "    def fun4(self):\n",
    "        print(\"This is fun4 of B class\")\n",
    "\n",
    "    def fun1(self):\n",
    "        print(\"This is the fun1 of B class\")"
   ]
  },
  {
   "cell_type": "code",
   "execution_count": 3,
   "metadata": {},
   "outputs": [
    {
     "name": "stdout",
     "output_type": "stream",
     "text": [
      "This is fun1 of A class\n",
      "This is fun2 of A class\n"
     ]
    }
   ],
   "source": [
    "obj_A = A()\n",
    "obj_A.fun1()\n",
    "obj_A.fun2()"
   ]
  },
  {
   "cell_type": "code",
   "execution_count": 4,
   "metadata": {},
   "outputs": [
    {
     "name": "stdout",
     "output_type": "stream",
     "text": [
      "This is fun3 of B class\n",
      "This is fun4 of B class\n",
      "This is the fun1 of B class\n",
      "This is fun2 of A class\n"
     ]
    }
   ],
   "source": [
    "obj_B = B()\n",
    "obj_B.fun3()\n",
    "obj_B.fun4()\n",
    "obj_B.fun1()\n",
    "obj_B.fun2()"
   ]
  },
  {
   "cell_type": "markdown",
   "metadata": {},
   "source": [
    "There are two types of polymorphism process : \n",
    "1. Method overloading -- In this type, functions with same name but different functionalities are present within the same class and as per the conditions one of them will get executed. \n",
    "It is not supported by python\n",
    "\n",
    "2. Method overriding : In this type, same function is defined with different functionalities in different classes, the method gets executed according to the object of that particular class. \n"
   ]
  },
  {
   "cell_type": "code",
   "execution_count": 6,
   "metadata": {},
   "outputs": [
    {
     "name": "stdout",
     "output_type": "stream",
     "text": [
      "This is funA of ABC class with 2 parameters\n"
     ]
    }
   ],
   "source": [
    "# method overloading : \n",
    "class ABC:\n",
    "    def funA(self,variable):\n",
    "        print(\"This is funA of ABC class, it is taking one parameter\")\n",
    "\n",
    "    def funA(self,variable1, variable2):\n",
    "        print(\"This is funA of ABC class with 2 parameters\")\n",
    "\n",
    "\n",
    "obj = ABC()\n",
    "obj.funA(100,300)"
   ]
  },
  {
   "cell_type": "markdown",
   "metadata": {},
   "source": [
    "# Abstraction : Hiding the unnecessary information from the user and showing only essential details is called abstraction. \n",
    "\n",
    "# Abstract class : It is a class which has an abstract method. objects of this class cannot be made, \n",
    "\n",
    "# Abstract method : A method which has declaration but no implementation. \n",
    "\n",
    "# concrete class : The concrete class is a class which does not have any abstract method. objects of concrete class can be made. \n"
   ]
  },
  {
   "cell_type": "code",
   "execution_count": 7,
   "metadata": {},
   "outputs": [
    {
     "ename": "TypeError",
     "evalue": "Can't instantiate abstract class abstract_class with abstract method abs_method",
     "output_type": "error",
     "traceback": [
      "\u001b[1;31m---------------------------------------------------------------------------\u001b[0m",
      "\u001b[1;31mTypeError\u001b[0m                                 Traceback (most recent call last)",
      "\u001b[1;32m~\\AppData\\Local\\Temp\\ipykernel_33420\\4007272149.py\u001b[0m in \u001b[0;36m<module>\u001b[1;34m\u001b[0m\n\u001b[0;32m     13\u001b[0m \u001b[1;33m\u001b[0m\u001b[0m\n\u001b[0;32m     14\u001b[0m \u001b[1;33m\u001b[0m\u001b[0m\n\u001b[1;32m---> 15\u001b[1;33m \u001b[0mobj\u001b[0m \u001b[1;33m=\u001b[0m \u001b[0mabstract_class\u001b[0m\u001b[1;33m(\u001b[0m\u001b[1;33m)\u001b[0m\u001b[1;33m\u001b[0m\u001b[1;33m\u001b[0m\u001b[0m\n\u001b[0m",
      "\u001b[1;31mTypeError\u001b[0m: Can't instantiate abstract class abstract_class with abstract method abs_method"
     ]
    }
   ],
   "source": [
    "from abc import ABC, abstractclassmethod\n",
    "\n",
    "class abstract_class(ABC): \n",
    "    @abstractclassmethod\n",
    "    def abs_method(self):\n",
    "        pass\n",
    "\n",
    "    def display(self):\n",
    "        pass\n",
    "\n",
    "    def function1(self):\n",
    "        print(\"Function 1 of abstract class method\")\n",
    "\n",
    "\n",
    "obj = abstract_class()"
   ]
  },
  {
   "cell_type": "code",
   "execution_count": 8,
   "metadata": {},
   "outputs": [],
   "source": [
    "class concrete_class(abstract_class):\n",
    "    def abs_method(self):\n",
    "        print(\"Abstract class method defined in the concrete class\")\n",
    "\n",
    "    def display(self):\n",
    "        print(\"Display method of concrete class\")\n",
    "\n",
    "    def function2(self):\n",
    "        print(\"function2 of concrete class\")\n",
    "\n",
    "\n",
    "object = concrete_class()"
   ]
  },
  {
   "cell_type": "code",
   "execution_count": 12,
   "metadata": {},
   "outputs": [
    {
     "name": "stdout",
     "output_type": "stream",
     "text": [
      "Abstract class method defined in the concrete class\n",
      "Display method of concrete class\n",
      "Function 1 of abstract class method\n",
      "function2 of concrete class\n"
     ]
    }
   ],
   "source": [
    "object.abs_method()\n",
    "object.display()\n",
    "object.function1()\n",
    "object.function2()"
   ]
  },
  {
   "cell_type": "markdown",
   "metadata": {},
   "source": [
    "An abstract class is used as a blueprint for other classes. It allow us to create some abstract methods which must be created in the child class which is inheriting the abstract class. When we are working on large projects, It is not easy to remember the whole structure of the project and not feasible to show to the other person the complete coding. At this kind of situations data abstraction plays an important role, It helps in giving the overview of overall structure and functionalities of the project."
   ]
  },
  {
   "cell_type": "markdown",
   "metadata": {},
   "source": [
    "# Types of variables : \n",
    "1. global variables : Those variables whose scope is throughout the program are called as global variables.\n",
    "2. Local variables : Those variables whose scope is limited to the method/function in which it is defined are called as Local variables. This variables\n",
    "are used to satisfy the temporary requirement of the function.\n",
    "3. static/class variables : This variables are defined in the class outside any method. static variables can be accessed throughout the class but not with an instance. this are fixed for all the objects of the class, they do not vary from object to object.\n",
    "4. instance variables : This variables are defined inside the class in the __init__ method, They vary from object to object. here we make instance variables with the self.variable_name where self refers to the current object. "
   ]
  },
  {
   "cell_type": "code",
   "execution_count": null,
   "metadata": {},
   "outputs": [],
   "source": [
    "name = 'abcd'                        # global variables\n",
    "\n",
    "def f1():\n",
    "    Name = 'xyz'                     # Local variables\n",
    "    age = 20\n"
   ]
  },
  {
   "cell_type": "code",
   "execution_count": 26,
   "metadata": {},
   "outputs": [],
   "source": [
    "class test:\n",
    "    static_var1 = \"This is a static variable\"                        # static/ class variable\n",
    "    def __init__(self,a,b):\n",
    "        self.a = a                                                   # instance variable\n",
    "        self.b = b\n",
    "\n",
    "    def display(self):\n",
    "        display_variable = \"Variable inside the display method\"\n",
    "        print(display_variable)                                    # Local variable "
   ]
  },
  {
   "cell_type": "code",
   "execution_count": 27,
   "metadata": {},
   "outputs": [
    {
     "name": "stdout",
     "output_type": "stream",
     "text": [
      "Variable inside the display method\n"
     ]
    }
   ],
   "source": [
    "object1 = test(10,20)\n",
    "object1.display().display_variable"
   ]
  },
  {
   "cell_type": "code",
   "execution_count": 30,
   "metadata": {},
   "outputs": [
    {
     "name": "stdout",
     "output_type": "stream",
     "text": [
      "Variable inside the display method\n"
     ]
    }
   ],
   "source": [
    "object1.display()"
   ]
  },
  {
   "cell_type": "code",
   "execution_count": 16,
   "metadata": {},
   "outputs": [
    {
     "name": "stdout",
     "output_type": "stream",
     "text": [
      "200\n",
      "2910817116816\n",
      "30\n",
      "2910816922832\n",
      "This is a static variable\n",
      "2910931786208\n"
     ]
    }
   ],
   "source": [
    "object2 = test(200,30)\n",
    "object2.display()"
   ]
  },
  {
   "cell_type": "code",
   "execution_count": 24,
   "metadata": {},
   "outputs": [],
   "source": [
    "object2.b = 50\n"
   ]
  },
  {
   "cell_type": "code",
   "execution_count": 25,
   "metadata": {},
   "outputs": [
    {
     "data": {
      "text/plain": [
       "50"
      ]
     },
     "execution_count": 25,
     "metadata": {},
     "output_type": "execute_result"
    }
   ],
   "source": [
    "object2.b"
   ]
  }
 ],
 "metadata": {
  "kernelspec": {
   "display_name": "base",
   "language": "python",
   "name": "python3"
  },
  "language_info": {
   "codemirror_mode": {
    "name": "ipython",
    "version": 3
   },
   "file_extension": ".py",
   "mimetype": "text/x-python",
   "name": "python",
   "nbconvert_exporter": "python",
   "pygments_lexer": "ipython3",
   "version": "3.9.13"
  }
 },
 "nbformat": 4,
 "nbformat_minor": 2
}
