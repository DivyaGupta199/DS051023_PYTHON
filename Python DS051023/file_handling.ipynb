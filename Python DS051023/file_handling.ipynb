{
 "cells": [
  {
   "cell_type": "markdown",
   "metadata": {},
   "source": [
    "File handling : file handling is used to store the data permanently in memory as the data generated during program executions gets removed from the memory as soon as the program is finished, so for permanently storing the data we use the files. \n",
    "Mainly there are two types of file : \n",
    "1. text mode\n",
    "2. Binary mode"
   ]
  },
  {
   "cell_type": "markdown",
   "metadata": {},
   "source": [
    "# Operations performed in a file :\n",
    "1. create\n",
    "2. open\n",
    "3. Read/Write\n",
    "4. close"
   ]
  },
  {
   "cell_type": "markdown",
   "metadata": {},
   "source": [
    "# modes of file :\n",
    "1. 'x' - To create a new file.\n",
    "2. 'r' - To read the data from the file. The position of cursor is at the beginning\n",
    "3. 'w' - To write the data to the file. The position of cursor is at the beginning. if the file does not exist, it creates a new file.\n",
    "4. 'a' - To append the data to the file, the position of cursor is at the end.  if the file does not exist, it creates a new file.\n",
    "5. 'r+' - This mode is used to read and write to the file, initially the position of the cursor is at the beginning, but after reading data from it or writing something in the file the position of cursor changes to the last character read/wrote. Basically it overrides the existing file\n",
    "6. 'w+' - In this mode we can write to the file as well as we can read the data from the it. Initially the position of cursor is at the beginning and the old data gets removed as soon as we open the file in w+ mode.\n",
    "7. 'a+'- In the mode, we can append the data to the file as well as read data from it, initially the position is at the end. "
   ]
  },
  {
   "cell_type": "markdown",
   "metadata": {},
   "source": [
    " write \"This is for testing\" in the file using write function, and then read datCreate a new file called sample.txt,a from the file using read function."
   ]
  },
  {
   "cell_type": "code",
   "execution_count": 30,
   "metadata": {},
   "outputs": [
    {
     "ename": "FileNotFoundError",
     "evalue": "[Errno 2] No such file or directory: 'file3.txt'",
     "output_type": "error",
     "traceback": [
      "\u001b[1;31m---------------------------------------------------------------------------\u001b[0m",
      "\u001b[1;31mFileNotFoundError\u001b[0m                         Traceback (most recent call last)",
      "\u001b[1;32m~\\AppData\\Local\\Temp\\ipykernel_37956\\2472378959.py\u001b[0m in \u001b[0;36m<module>\u001b[1;34m\u001b[0m\n\u001b[0;32m      1\u001b[0m \u001b[1;31m# opening a file\u001b[0m\u001b[1;33m\u001b[0m\u001b[1;33m\u001b[0m\u001b[0m\n\u001b[1;32m----> 2\u001b[1;33m \u001b[0mfile\u001b[0m \u001b[1;33m=\u001b[0m \u001b[0mopen\u001b[0m\u001b[1;33m(\u001b[0m\u001b[1;34m\"file3.txt\"\u001b[0m\u001b[1;33m,\u001b[0m \u001b[1;34m'r'\u001b[0m\u001b[1;33m)\u001b[0m\u001b[1;33m\u001b[0m\u001b[1;33m\u001b[0m\u001b[0m\n\u001b[0m\u001b[0;32m      3\u001b[0m \u001b[0mfile\u001b[0m\u001b[1;33m.\u001b[0m\u001b[0mclose\u001b[0m\u001b[1;33m(\u001b[0m\u001b[1;33m)\u001b[0m\u001b[1;33m\u001b[0m\u001b[1;33m\u001b[0m\u001b[0m\n",
      "\u001b[1;31mFileNotFoundError\u001b[0m: [Errno 2] No such file or directory: 'file3.txt'"
     ]
    }
   ],
   "source": [
    "# opening a file \n",
    "file = open(\"file3.txt\", 'r')\n",
    "file.close()\n"
   ]
  },
  {
   "cell_type": "code",
   "execution_count": 38,
   "metadata": {},
   "outputs": [
    {
     "name": "stdout",
     "output_type": "stream",
     "text": [
      "12\n",
      "0\n",
      "Hello Hello \n",
      "12\n"
     ]
    }
   ],
   "source": [
    "# tell() - This method is used to see the current position of the cursor.\n",
    "# seek() - This method is used to change the position of cursor\n",
    "file = open('file1.txt','a+')\n",
    "print(file.tell())\n",
    "file.seek(0)\n",
    "print(file.tell())\n",
    "print(file.read())\n",
    "# file.write(\"Hello \")\n",
    "print(file.tell())\n",
    "file.close()\n"
   ]
  },
  {
   "cell_type": "code",
   "execution_count": 42,
   "metadata": {},
   "outputs": [
    {
     "name": "stdout",
     "output_type": "stream",
     "text": [
      "['course - Data science\\n', 'module - Python\\n', 'topic - file handling.\\n']\n"
     ]
    }
   ],
   "source": [
    "# Reading data from the file \n",
    "# read() - it reads the entire file.\n",
    "# readline() - it reads only one line from the file\n",
    "# readlines() - it reads the data and store it in the form of list, where each element represents the data in one line.\n",
    "file = open('file1.txt','r')\n",
    "data = file.readlines()\n",
    "print(data)\n",
    "# data = file.readline()\n",
    "# print(data)\n",
    "# data = file.readline()\n",
    "# print(data)\n",
    "file.close()"
   ]
  },
  {
   "cell_type": "code",
   "execution_count": 43,
   "metadata": {},
   "outputs": [],
   "source": [
    "import os"
   ]
  },
  {
   "cell_type": "code",
   "execution_count": 46,
   "metadata": {},
   "outputs": [],
   "source": [
    "# Rename a file\n",
    "os.rename('file2.txt',\"file_renamed.txt\")"
   ]
  },
  {
   "cell_type": "code",
   "execution_count": 47,
   "metadata": {},
   "outputs": [],
   "source": [
    "# Removing a file\n",
    "os.remove('file_renamed.txt')"
   ]
  },
  {
   "cell_type": "code",
   "execution_count": 48,
   "metadata": {},
   "outputs": [],
   "source": [
    "# Creating a new directory in the current working directory\n",
    "os.mkdir('directory1')"
   ]
  },
  {
   "cell_type": "code",
   "execution_count": 49,
   "metadata": {},
   "outputs": [
    {
     "data": {
      "text/plain": [
       "'d:\\\\Divya.Gupta\\\\OneDrive - SUN Mobility\\\\Desktop\\\\Python\\\\Python DS051023\\\\modules_packages'"
      ]
     },
     "execution_count": 49,
     "metadata": {},
     "output_type": "execute_result"
    }
   ],
   "source": [
    "os.getcwd()"
   ]
  },
  {
   "cell_type": "code",
   "execution_count": 50,
   "metadata": {},
   "outputs": [],
   "source": [
    "os.chdir('d:\\\\Divya.Gupta\\\\OneDrive - SUN Mobility\\\\Desktop\\\\Python\\\\Python DS051023')"
   ]
  },
  {
   "cell_type": "code",
   "execution_count": 51,
   "metadata": {},
   "outputs": [
    {
     "data": {
      "text/plain": [
       "'d:\\\\Divya.Gupta\\\\OneDrive - SUN Mobility\\\\Desktop\\\\Python\\\\Python DS051023'"
      ]
     },
     "execution_count": 51,
     "metadata": {},
     "output_type": "execute_result"
    }
   ],
   "source": [
    "os.getcwd()"
   ]
  },
  {
   "cell_type": "code",
   "execution_count": 52,
   "metadata": {},
   "outputs": [],
   "source": [
    "os.rmdir('d:\\\\Divya.Gupta\\\\OneDrive - SUN Mobility\\\\Desktop\\\\Python\\\\Python DS051023\\\\modules_packages\\\\directory1')"
   ]
  },
  {
   "cell_type": "code",
   "execution_count": 54,
   "metadata": {},
   "outputs": [
    {
     "ename": "UnsupportedOperation",
     "evalue": "not readable",
     "output_type": "error",
     "traceback": [
      "\u001b[1;31m---------------------------------------------------------------------------\u001b[0m",
      "\u001b[1;31mUnsupportedOperation\u001b[0m                      Traceback (most recent call last)",
      "\u001b[1;32m~\\AppData\\Local\\Temp\\ipykernel_37956\\1834573973.py\u001b[0m in \u001b[0;36m<module>\u001b[1;34m\u001b[0m\n\u001b[0;32m     15\u001b[0m \u001b[1;33m\u001b[0m\u001b[0m\n\u001b[0;32m     16\u001b[0m \u001b[0mfile\u001b[0m\u001b[1;33m.\u001b[0m\u001b[0mseek\u001b[0m\u001b[1;33m(\u001b[0m\u001b[1;36m0\u001b[0m\u001b[1;33m)\u001b[0m\u001b[1;33m\u001b[0m\u001b[1;33m\u001b[0m\u001b[0m\n\u001b[1;32m---> 17\u001b[1;33m \u001b[0mdata\u001b[0m \u001b[1;33m=\u001b[0m \u001b[0mfile\u001b[0m\u001b[1;33m.\u001b[0m\u001b[0mread\u001b[0m\u001b[1;33m(\u001b[0m\u001b[1;33m)\u001b[0m\u001b[1;33m\u001b[0m\u001b[1;33m\u001b[0m\u001b[0m\n\u001b[0m\u001b[0;32m     18\u001b[0m \u001b[0mprint\u001b[0m\u001b[1;33m(\u001b[0m\u001b[0mdata\u001b[0m\u001b[1;33m)\u001b[0m\u001b[1;33m\u001b[0m\u001b[1;33m\u001b[0m\u001b[0m\n\u001b[0;32m     19\u001b[0m \u001b[0mfile\u001b[0m\u001b[1;33m.\u001b[0m\u001b[0mclose\u001b[0m\u001b[1;33m(\u001b[0m\u001b[1;33m)\u001b[0m\u001b[1;33m\u001b[0m\u001b[1;33m\u001b[0m\u001b[0m\n",
      "\u001b[1;31mUnsupportedOperation\u001b[0m: not readable"
     ]
    }
   ],
   "source": [
    "# Program to store the details of students permanently in a file\n",
    "\n",
    "file = open(\"student_data.txt\",'w')\n",
    "while True:\n",
    "    name = input(\"Enter the name of student : \")\n",
    "    email = input(\"Enter the email id of student\")\n",
    "    file.write(f\"{name} - {email}\")\n",
    "    file.write(\"\\n\")\n",
    "\n",
    "    ch = int(input(\"Enter 1 to add other student details, enter any other character to exit\"))\n",
    "    if ch == 1:\n",
    "        continue\n",
    "    else:\n",
    "        break\n",
    "\n",
    "file.seek(0)\n",
    "# data = file.read()\n",
    "# print(data)\n",
    "file.close()"
   ]
  }
 ],
 "metadata": {
  "kernelspec": {
   "display_name": "base",
   "language": "python",
   "name": "python3"
  },
  "language_info": {
   "codemirror_mode": {
    "name": "ipython",
    "version": 3
   },
   "file_extension": ".py",
   "mimetype": "text/x-python",
   "name": "python",
   "nbconvert_exporter": "python",
   "pygments_lexer": "ipython3",
   "version": "3.9.13"
  }
 },
 "nbformat": 4,
 "nbformat_minor": 2
}
