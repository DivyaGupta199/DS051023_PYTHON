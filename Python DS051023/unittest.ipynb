{
 "cells": [
  {
   "cell_type": "markdown",
   "metadata": {},
   "source": [
    "Testing : The process of validating and verifying if the software is working as designed or not. \n",
    "testing can be done in two ways : \n",
    "1. Manual testing\n",
    "2. Automation testing\n",
    "\n",
    "Testing can be done at two phases : \n",
    "1. At the time of development. (unit testing) -  In unit testing, the developer takes the small piece of code like a function, or a class and test it to check if there is any error and fix it. \n",
    "In python we do unit testing with the help of module called unittest.\n",
    "\n",
    "2. After the completion of development (Integration testing) - In integration testing, all the small units are joined together and the final program/ project is tested as a single unit to check if the software is working fine after integrating all the units."
   ]
  },
  {
   "cell_type": "markdown",
   "metadata": {},
   "source": [
    "# Unittest module : It is a builtin module in python, and it is used for testing a small unit of code. It gives three types of output : \n",
    "1. OK : If the program works fine and gives the expected output then it returns OK\n",
    "2. FAILED : If the program do not work as expected and gives different result then it returns FAILED Message\n",
    "3. ERROR : If some error occurs in the code while executing it, so It return ERROR message.\n",
    "\n",
    "# Necessary conditions for unittesting : \n",
    "1. The code that needs to be tested should be either written in a function or a class.\n",
    "2. The testcase should be written in object oriented programming (In a class)\n",
    "3. We need to inherit the unittest.Testcase class in the class in which testcase is written. "
   ]
  },
  {
   "cell_type": "markdown",
   "metadata": {},
   "source": []
  },
  {
   "cell_type": "code",
   "execution_count": 1,
   "metadata": {},
   "outputs": [],
   "source": [
    "import unittest\n"
   ]
  },
  {
   "cell_type": "code",
   "execution_count": 2,
   "metadata": {},
   "outputs": [
    {
     "name": "stdout",
     "output_type": "stream",
     "text": [
      "The program is working fine\n"
     ]
    }
   ],
   "source": [
    "def add(num1, num2):\n",
    "    return num1 + num2\n",
    "\n",
    "addition = add(6,5)\n",
    "if addition == 11:\n",
    "    print(\"The program is working fine\")\n",
    "\n",
    "else:\n",
    "    print(\"Program is not working as expected\")\n"
   ]
  },
  {
   "cell_type": "code",
   "execution_count": 5,
   "metadata": {},
   "outputs": [],
   "source": [
    "#assert is a keyword in python which is used for asserting some conditions, It raises assertion error if the condition fails\n",
    "\n",
    "assert add(8,5) == 13, \"Program is not working as expected\"\n"
   ]
  },
  {
   "cell_type": "code",
   "execution_count": 6,
   "metadata": {},
   "outputs": [],
   "source": [
    "import unittest\n",
    "\n",
    "def add(a,b):\n",
    "    return a+b\n"
   ]
  },
  {
   "cell_type": "code",
   "execution_count": 10,
   "metadata": {},
   "outputs": [
    {
     "name": "stderr",
     "output_type": "stream",
     "text": [
      "E\n",
      "======================================================================\n",
      "ERROR: test (__main__.check)\n",
      "----------------------------------------------------------------------\n",
      "Traceback (most recent call last):\n",
      "  File \"C:\\Users\\divya.gupta\\AppData\\Local\\Temp\\ipykernel_20504\\436534178.py\", line 4, in test\n",
      "    addition = add(7,\"string\")\n",
      "  File \"C:\\Users\\divya.gupta\\AppData\\Local\\Temp\\ipykernel_20504\\1959679667.py\", line 4, in add\n",
      "    return a+b\n",
      "TypeError: unsupported operand type(s) for +: 'int' and 'str'\n",
      "\n",
      "----------------------------------------------------------------------\n",
      "Ran 1 test in 0.002s\n",
      "\n",
      "FAILED (errors=1)\n"
     ]
    }
   ],
   "source": [
    "class check(unittest.TestCase):\n",
    "\n",
    "    def test(self):\n",
    "        addition = add(7,\"string\")\n",
    "        self.assertEqual(addition, 16)\n",
    "\n",
    "if __name__ == \"__main__\":\n",
    "    unittest.main(argv = ['ignored'], exit = False)"
   ]
  },
  {
   "cell_type": "markdown",
   "metadata": {},
   "source": [
    "make a program to check if a number is prime or not and test it by making a testcase using unittest module."
   ]
  },
  {
   "cell_type": "markdown",
   "metadata": {},
   "source": []
  },
  {
   "cell_type": "code",
   "execution_count": null,
   "metadata": {},
   "outputs": [],
   "source": []
  }
 ],
 "metadata": {
  "kernelspec": {
   "display_name": "base",
   "language": "python",
   "name": "python3"
  },
  "language_info": {
   "codemirror_mode": {
    "name": "ipython",
    "version": 3
   },
   "file_extension": ".py",
   "mimetype": "text/x-python",
   "name": "python",
   "nbconvert_exporter": "python",
   "pygments_lexer": "ipython3",
   "version": "3.9.13"
  }
 },
 "nbformat": 4,
 "nbformat_minor": 2
}
