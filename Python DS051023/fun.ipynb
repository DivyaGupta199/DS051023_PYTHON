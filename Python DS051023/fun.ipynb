{
 "cells": [
  {
   "cell_type": "code",
   "execution_count": null,
   "metadata": {},
   "outputs": [],
   "source": [
    "def display():\n",
    "    print(\"Demo function\")\n",
    "\n",
    "def sample():\n",
    "    print(\"Sample function\")"
   ]
  }
 ],
 "metadata": {
  "language_info": {
   "name": "python"
  }
 },
 "nbformat": 4,
 "nbformat_minor": 2
}
