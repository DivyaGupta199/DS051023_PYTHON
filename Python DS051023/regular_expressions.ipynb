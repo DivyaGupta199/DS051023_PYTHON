{
 "cells": [
  {
   "cell_type": "markdown",
   "metadata": {},
   "source": [
    "# Regular expression : It helps to find specific search patterns, It is a sequence of characters which we are finding/searching in our string. \n",
    "To use regular expressions (Regex) we need to import a module named 're'"
   ]
  },
  {
   "cell_type": "code",
   "execution_count": 2,
   "metadata": {},
   "outputs": [],
   "source": [
    "import re"
   ]
  },
  {
   "cell_type": "markdown",
   "metadata": {},
   "source": [
    "# Functions in regular expression :\n",
    "1. findall(pattern, string) - It searches for a pattern in the string and returns a list which contains all the match strings.\n",
    "2. search(pattern, string) -It searches for a pattern in the string and retuns a match object.\n",
    "3. split(pattern, string) - It searches for a pattern in the string, and returns a list of substrings, it breaks the strings whenever it finds a match.\n",
    "4. sub(pattern, newstring, string) - It searches for a pattern in the string, if it is found then it replaces it with the new string."
   ]
  },
  {
   "cell_type": "code",
   "execution_count": 2,
   "metadata": {},
   "outputs": [
    {
     "name": "stdout",
     "output_type": "stream",
     "text": [
      "['in', 'in', 'in']\n"
     ]
    }
   ],
   "source": [
    "# findall()\n",
    "string = \"We are searching for a pattern in string\"\n",
    "search = \"in\"\n",
    "find = re.findall(search, string)\n",
    "print(find)"
   ]
  },
  {
   "cell_type": "code",
   "execution_count": 7,
   "metadata": {},
   "outputs": [
    {
     "name": "stdout",
     "output_type": "stream",
     "text": [
      "<re.Match object; span=(23, 30), match='pattern'>\n"
     ]
    }
   ],
   "source": [
    "# search()\n",
    "\n",
    "string = \"We are searching for a pattern in string\"\n",
    "search = \"pattern\"\n",
    "find = re.search(search, string)\n",
    "print(find)"
   ]
  },
  {
   "cell_type": "code",
   "execution_count": 4,
   "metadata": {},
   "outputs": [
    {
     "name": "stdout",
     "output_type": "stream",
     "text": [
      "<re.Match object; span=(13, 15), match='in'>\n"
     ]
    }
   ],
   "source": [
    "# search()\n",
    "\n",
    "string = \"We are searching for a pattern in string\"\n",
    "search = \"in\"\n",
    "find = re.search(search, string)\n",
    "print(find)"
   ]
  },
  {
   "cell_type": "code",
   "execution_count": 5,
   "metadata": {},
   "outputs": [
    {
     "name": "stdout",
     "output_type": "stream",
     "text": [
      "['We are search', 'g for a pattern ', ' str', 'g']\n"
     ]
    }
   ],
   "source": [
    "# split()\n",
    "\n",
    "string = \"We are searching for a pattern in string\"\n",
    "search = \"in\"\n",
    "find = re.split(search, string)\n",
    "print(find)"
   ]
  },
  {
   "cell_type": "code",
   "execution_count": 8,
   "metadata": {},
   "outputs": [
    {
     "name": "stdout",
     "output_type": "stream",
     "text": [
      "We are searching for a Specific pattern in string\n"
     ]
    }
   ],
   "source": [
    "# sub()\n",
    "\n",
    "string = \"We are searching for a pattern in string\"\n",
    "search = \"pattern\"\n",
    "replace = \"Specific pattern\"\n",
    "find = re.sub(search,replace, string)\n",
    "print(find)"
   ]
  },
  {
   "cell_type": "markdown",
   "metadata": {},
   "source": [
    "# Metacharacters : This are the special characters which have some meaning in python.\n",
    "\n",
    "1. [] - A set of characters, [b-g], [a-z], [A-Z], [0-9], [M-P]\n",
    "2. \"\\\" - A special sequence, for e.g \\d\n",
    "3. \".\" - Any character\n",
    "4. \"*\" - Zero or more \n",
    "5. \"+\" - One or more characters. \n",
    "6. \"^\" (Starts with) - It searches for the pattern in the beginning of the string.\n",
    "7. \"$\" (ends with) - It searches for the pattern at the end of the string.\n",
    "8. \"?\" - zero or one character\n",
    "9. \"{}\" - Exact number of characters.\n",
    "10. \"|\" - either or"
   ]
  },
  {
   "cell_type": "code",
   "execution_count": 9,
   "metadata": {},
   "outputs": [
    {
     "name": "stdout",
     "output_type": "stream",
     "text": [
      "['e', 'a', 'e', 'e', 'a', 'c', 'h', 'i', 'g', 'f', 'a', 'a', 'e', 'i', 'i', 'g']\n"
     ]
    }
   ],
   "source": [
    "# 1. [] - A set of characters, [b-g], [a-z], [A-Z], [0-9], [M-P]\n",
    "\n",
    "string = \"We are searching for a pattern in string\"\n",
    "search = \"[a-j]\"\n",
    "find = re.findall(search, string)\n",
    "print(find)"
   ]
  },
  {
   "cell_type": "code",
   "execution_count": 11,
   "metadata": {},
   "outputs": [
    {
     "name": "stdout",
     "output_type": "stream",
     "text": [
      "['1', '2', '3', '4', '5', '6', '6', '0']\n"
     ]
    }
   ],
   "source": [
    "# \"\\\" - A special sequence, for e.g \\d\n",
    "\n",
    "string = \"We are searching for a pattern in string12345660i\"\n",
    "search = \"\\d\"\n",
    "find = re.findall(search, string)\n",
    "print(find)"
   ]
  },
  {
   "cell_type": "markdown",
   "metadata": {},
   "source": [
    "# using findall function search for a specific pattern in string.\n"
   ]
  },
  {
   "cell_type": "code",
   "execution_count": 14,
   "metadata": {},
   "outputs": [
    {
     "name": "stdout",
     "output_type": "stream",
     "text": [
      "['for']\n"
     ]
    }
   ],
   "source": [
    "# \".\" - Any character\n",
    "\n",
    "string = \"We are searching for a pattern in string12345660i\"\n",
    "search = \"f.r\"\n",
    "find = re.findall(search, string)\n",
    "print(find)"
   ]
  },
  {
   "cell_type": "code",
   "execution_count": null,
   "metadata": {},
   "outputs": [],
   "source": [
    "# \"*\" - Zero or more characters.\n",
    "\n",
    "string = \"We are searching for a pattern in string12345660i\"\n",
    "search = \"f.*r\"\n",
    "find = re.findall(search, string)\n",
    "print(find)"
   ]
  },
  {
   "cell_type": "code",
   "execution_count": 15,
   "metadata": {},
   "outputs": [
    {
     "name": "stdout",
     "output_type": "stream",
     "text": [
      "['for a pattern in str']\n"
     ]
    }
   ],
   "source": [
    "# \"+\" - one or more characters.\n",
    "\n",
    "string = \"We are searching for a pattern in string12345660i\"\n",
    "search = \"f.+r\"\n",
    "find = re.findall(search, string)\n",
    "print(find)"
   ]
  },
  {
   "cell_type": "code",
   "execution_count": 21,
   "metadata": {},
   "outputs": [
    {
     "name": "stdout",
     "output_type": "stream",
     "text": [
      "['We are']\n"
     ]
    }
   ],
   "source": [
    "# 6. \"^\" (Starts with) - It searches for the pattern in the beginning of the string.\n",
    "\n",
    "string = \"We are searching for a pattern in string\"\n",
    "search = \"^We are\"\n",
    "find = re.findall(search, string)\n",
    "print(find)"
   ]
  },
  {
   "cell_type": "code",
   "execution_count": 26,
   "metadata": {},
   "outputs": [
    {
     "name": "stdout",
     "output_type": "stream",
     "text": [
      "['in string']\n"
     ]
    }
   ],
   "source": [
    "# 7. \"$\" (ends with) - It searches for the pattern at the end of the string.\n",
    "\n",
    "string = \"We are searching for a pattern in string\"\n",
    "search = \"in string$\"\n",
    "find = re.findall(search, string)\n",
    "print(find)"
   ]
  },
  {
   "cell_type": "code",
   "execution_count": 31,
   "metadata": {},
   "outputs": [
    {
     "name": "stdout",
     "output_type": "stream",
     "text": [
      "['rn', 'rin']\n"
     ]
    }
   ],
   "source": [
    "# 8. \"?\" - zero or one character\n",
    "\n",
    "string = \"We are searching for a pattern in string\"\n",
    "search = \"r.?n\"\n",
    "find = re.findall(search, string)\n",
    "print(find)"
   ]
  },
  {
   "cell_type": "code",
   "execution_count": 33,
   "metadata": {},
   "outputs": [
    {
     "name": "stdout",
     "output_type": "stream",
     "text": [
      "['searching']\n"
     ]
    }
   ],
   "source": [
    "# {} - Specific number of characters.\n",
    "\n",
    "string = \"We are searching for a pattern in string\"\n",
    "search = \"s.{7}g\"\n",
    "find = re.findall(search, string)\n",
    "print(find)"
   ]
  },
  {
   "cell_type": "code",
   "execution_count": null,
   "metadata": {},
   "outputs": [],
   "source": [
    "# s.......g\n",
    "# s.{7}g"
   ]
  },
  {
   "cell_type": "code",
   "execution_count": 35,
   "metadata": {},
   "outputs": [
    {
     "name": "stdout",
     "output_type": "stream",
     "text": [
      "['search', 'pattern']\n"
     ]
    }
   ],
   "source": [
    "# 10. \"|\" - either or \n",
    "string = \"We are searching for a pattern in string\"\n",
    "search = \"pattern|search\"\n",
    "find = re.findall(search, string)\n",
    "print(find)"
   ]
  },
  {
   "cell_type": "markdown",
   "metadata": {},
   "source": [
    "# Write a program to check if the given pincode is valid or not. \n",
    "\n",
    "pincode = 124567\n",
    "check = if the pincode is valid or not.\n",
    "conditions : it should have 6 digits only and the first digit should not be zero\n",
    "if it is valid - print :  pincode verified\n",
    "not valid - print : Invalid pincode"
   ]
  },
  {
   "cell_type": "code",
   "execution_count": 39,
   "metadata": {},
   "outputs": [
    {
     "name": "stdout",
     "output_type": "stream",
     "text": [
      "Pincode is verified\n"
     ]
    }
   ],
   "source": [
    "pincode = input(\"Enter your pincode\")\n",
    "pattern = \"^[1-9][0-9]{5}$\"\n",
    "find = re.findall(pattern, pincode)\n",
    "if find:\n",
    "    print(\"Pincode is verified\")\n",
    "\n",
    "else:\n",
    "    print(\"Not a valid pincode\")\n"
   ]
  },
  {
   "cell_type": "code",
   "execution_count": null,
   "metadata": {},
   "outputs": [],
   "source": [
    "# Write a program to check if the given mobile number is valid or not. \n",
    "\n",
    "mobile number = '768890272'\n",
    "check = if the mobile number is valid or not.\n",
    "not valid - print : Invalid mobile number"
   ]
  },
  {
   "cell_type": "markdown",
   "metadata": {},
   "source": [
    "# sets : \n",
    "1. [aeiouAIEOU] - It will return a match whenever any of the specified characters is found.\n",
    "2. [a-m] - It will return a match whenever any of the character between the specified range is found.\n",
    "3. [12345] - It will return a match whenever any of the specified digits occurs.\n",
    "4. [2-7] - It will return a match whenever any of the digits between the specified range is found.\n",
    "5. [789][0-9] - It will return a match whenever any of this two number number is found.\n",
    "6. [^ABCD] - It will return a match whenever any character other than the specified characters is found."
   ]
  },
  {
   "cell_type": "code",
   "execution_count": 3,
   "metadata": {},
   "outputs": [
    {
     "name": "stdout",
     "output_type": "stream",
     "text": [
      "['e', 'a', 'e', 'e', 'a', 'i', 'o', 'a', 'a', 'e', 'i', 'i']\n"
     ]
    }
   ],
   "source": [
    "# 1. [aeiouAIEOU] - It will return a match whenever any of the specified characters is found.\n",
    "\n",
    "string = \"We are searching for a pattern in string\"\n",
    "search = \"[aioue]\"\n",
    "find = re.findall(search, string)\n",
    "print(find)"
   ]
  },
  {
   "cell_type": "code",
   "execution_count": 4,
   "metadata": {},
   "outputs": [
    {
     "name": "stdout",
     "output_type": "stream",
     "text": [
      "['e', 'a', 'e', 'e', 'a', 'c', 'a', 'a', 'e']\n"
     ]
    }
   ],
   "source": [
    "# 2. [a-m] - It will return a match whenever any of the character between the specified range is found.\n",
    "\n",
    "string = \"We are searching for a pattern in string\"\n",
    "search = \"[a-e]\"\n",
    "find = re.findall(search, string)\n",
    "print(find)"
   ]
  },
  {
   "cell_type": "code",
   "execution_count": 5,
   "metadata": {},
   "outputs": [
    {
     "name": "stdout",
     "output_type": "stream",
     "text": [
      "[]\n"
     ]
    }
   ],
   "source": [
    "# 3. [12345] - It will return a match whenever any of the specified digits occurs.\n",
    "\n",
    "string = \"We are searching for a pattern in string\"\n",
    "search = \"[23456]\"\n",
    "find = re.findall(search, string)\n",
    "print(find)"
   ]
  },
  {
   "cell_type": "code",
   "execution_count": 7,
   "metadata": {},
   "outputs": [
    {
     "name": "stdout",
     "output_type": "stream",
     "text": [
      "['6', '3', '2', '6', '2', '7']\n"
     ]
    }
   ],
   "source": [
    "# 4. [2-7] - It will return a match whenever any of the digits between the specified range is found.\n",
    "\n",
    "string = \"We are searching for a pattern in string  68r3026027\"\n",
    "search = \"[2-7]\"\n",
    "find = re.findall(search, string)\n",
    "print(find)"
   ]
  },
  {
   "cell_type": "code",
   "execution_count": 12,
   "metadata": {},
   "outputs": [
    {
     "name": "stdout",
     "output_type": "stream",
     "text": [
      "[]\n"
     ]
    }
   ],
   "source": [
    "# 5. [789][0-9] - It will return a match whenever any of this two number number is found.\n",
    "\n",
    "string = '4970820797'\n",
    "search = \"^[6789][0-9]{9}$\"\n",
    "find = re.findall(search, string)\n",
    "print(find)"
   ]
  },
  {
   "cell_type": "code",
   "execution_count": 13,
   "metadata": {},
   "outputs": [
    {
     "name": "stdout",
     "output_type": "stream",
     "text": [
      "['W', ' ', 'r', ' ', 's', 'r', 'c', 'h', 'n', 'g', ' ', 'f', 'r', ' ', ' ', 'p', 't', 't', 'r', 'n', ' ', 'n', ' ', 's', 't', 'r', 'n', 'g']\n"
     ]
    }
   ],
   "source": [
    "# 6. [^ABCD] - It will return a match whenever any character other than the specified characters is found.\n",
    "\n",
    "string = \"We are searching for a pattern in string\"\n",
    "search = \"[^aioue]\"\n",
    "find = re.findall(search, string)\n",
    "print(find)"
   ]
  },
  {
   "cell_type": "markdown",
   "metadata": {},
   "source": [
    "# Special sequences \n",
    "1. \\A - It will return a match if the substring is present at the beginning of the string. \n",
    "2. \\Z - It will return a match if the substring is present at the end of the string.\n",
    "3. \\d - It will return a match if the substring is a digit.\n",
    "4. \\D - It will return a match if the substring is not a digit.\n",
    "5. \\b - It will return a match if the substring is present at the beginning or at the end of the string.\n",
    "6. \\B - It will return a match if the substring is not present at the beginning or at the end of the string.\n",
    "7. \\s - It will return a match if the substring is a whitespace\n",
    "8. \\S - It will return a match if the substring is not a whitespace\n",
    "9. \\w - It will return a match if the substring is any word character (alphabet, underscore, digit)\n",
    "10. \\W - It will return a match if the substring is not a word character"
   ]
  },
  {
   "cell_type": "code",
   "execution_count": 16,
   "metadata": {},
   "outputs": [
    {
     "name": "stdout",
     "output_type": "stream",
     "text": [
      "[]\n"
     ]
    }
   ],
   "source": [
    "# 1. \\A - It will return a match if the substring is present at the beginning of the string. \n",
    "\n",
    "string = \"We are searching for a pattern in string\"\n",
    "search = \"\\AWe are\"\n",
    "find = re.findall(search, string)\n",
    "print(find)"
   ]
  },
  {
   "cell_type": "code",
   "execution_count": 19,
   "metadata": {},
   "outputs": [
    {
     "name": "stdout",
     "output_type": "stream",
     "text": [
      "['g']\n"
     ]
    }
   ],
   "source": [
    "# 2. \\Z - It will return a match if the substring is present at the end of the string.\n",
    "\n",
    "string = \"We are searching for a pattern in string\"\n",
    "search = \"g\\Z\"\n",
    "find = re.findall(search, string)\n",
    "print(find)"
   ]
  },
  {
   "cell_type": "code",
   "execution_count": 3,
   "metadata": {},
   "outputs": [
    {
     "name": "stdout",
     "output_type": "stream",
     "text": [
      "[]\n"
     ]
    }
   ],
   "source": [
    "# 3. \\d - It will return a match if the substring is a digit.\n",
    "\n",
    "string = \"We are searching for a pattern in string\"\n",
    "search = \"\\d\"\n",
    "find = re.findall(search, string)\n",
    "print(find)"
   ]
  },
  {
   "cell_type": "code",
   "execution_count": 4,
   "metadata": {},
   "outputs": [
    {
     "name": "stdout",
     "output_type": "stream",
     "text": [
      "['W', 'e', ' ', 'a', 'r', 'e', ' ', 's', 'e', 'a', 'r', 'c', 'h', 'i', 'n', 'g', ' ', 'f', 'o', 'r', ' ', 'a', ' ', 'p', 'a', 't', 't', 'e', 'r', 'n', ' ', 'i', 'n', ' ', 's', 't', 'r', 'i', 'n', 'g']\n"
     ]
    }
   ],
   "source": [
    "# 4. \\D - It will return a match if the substring is not a digit.\n",
    "\n",
    "string = \"We are searching for a pattern in string\"\n",
    "search = \"\\D\"\n",
    "find = re.findall(search, string)\n",
    "print(find)"
   ]
  },
  {
   "cell_type": "code",
   "execution_count": 16,
   "metadata": {},
   "outputs": [
    {
     "name": "stdout",
     "output_type": "stream",
     "text": [
      "['g', 'g']\n"
     ]
    }
   ],
   "source": [
    "# 5. \\b - It will return a match if the substring is present at the beginning or at the end of the string.\n",
    "\n",
    "string = \"We are searching for a pattern in string\"\n",
    "search = r\"g\\b\"\n",
    "find = re.findall(search, string)\n",
    "print(find)"
   ]
  },
  {
   "cell_type": "code",
   "execution_count": 15,
   "metadata": {},
   "outputs": [
    {
     "name": "stdout",
     "output_type": "stream",
     "text": [
      "['r', 'r', 'r', 'r']\n"
     ]
    }
   ],
   "source": [
    "# 6. \\B - It will return a match if the substring is not present at the beginning or at the end of the string.\n",
    "\n",
    "string = \"We are searching for a pattern in string\"\n",
    "search = r\"r\\B\"\n",
    "find = re.findall(search, string)\n",
    "print(find)"
   ]
  },
  {
   "cell_type": "code",
   "execution_count": 17,
   "metadata": {},
   "outputs": [
    {
     "name": "stdout",
     "output_type": "stream",
     "text": [
      "[' ', ' ', ' ', ' ', ' ', ' ', ' ']\n"
     ]
    }
   ],
   "source": [
    "# 7. \\s - It will return a match if the substring is a whitespace\n",
    "\n",
    "string = \"We are searching for a pattern in string\"\n",
    "search = \"\\s\"\n",
    "find = re.findall(search, string)\n",
    "print(find)"
   ]
  },
  {
   "cell_type": "code",
   "execution_count": 19,
   "metadata": {},
   "outputs": [
    {
     "name": "stdout",
     "output_type": "stream",
     "text": [
      "['W', 'e', 'a', 'r', 'e', 's', 'e', 'a', 'r', 'c', 'h', 'i', 'n', 'g', 'f', 'o', 'r', 'a', 'p', 'a', 't', 't', 'e', 'r', 'n', 'i', 'n', 's', 't', 'r', 'i', 'n', 'g']\n"
     ]
    }
   ],
   "source": [
    "# 8. \\S - It will return a match if the substring is not a whitespace\n",
    "\n",
    "string = \"We are searching for a pattern in string\"\n",
    "search = \"\\S\"\n",
    "find = re.findall(search, string)\n",
    "print(find)"
   ]
  },
  {
   "cell_type": "code",
   "execution_count": 21,
   "metadata": {},
   "outputs": [
    {
     "name": "stdout",
     "output_type": "stream",
     "text": [
      "['W', 'e', 'a', 'r', 'e', 's', 'e', 'a', 'r', 'c', 'h', 'i', 'n', 'g', 'f', 'o', 'r', 'a', 'p', 'a', 't', 't', 'e', 'r', 'n', 'i', 'n', 's', 't', 'r', 'i', 'n', 'g']\n"
     ]
    }
   ],
   "source": [
    "# 9. \\w - It will return a match if the substring is any word character (alphabet, underscore, digit)\n",
    "\n",
    "string = \"We are searching for a pattern in string\"\n",
    "search = \"\\w\"\n",
    "find = re.findall(search, string)\n",
    "print(find)"
   ]
  },
  {
   "cell_type": "code",
   "execution_count": 23,
   "metadata": {},
   "outputs": [
    {
     "name": "stdout",
     "output_type": "stream",
     "text": [
      "[' ', ' ', ' ', ' ', ' ', ' ', ' ']\n"
     ]
    }
   ],
   "source": [
    "# 10. \\W - It will return a match if the substring is not a word character\n",
    "\n",
    "string = \"We are searching for a pattern in string\"\n",
    "search = \"\\W\"\n",
    "find = re.findall(search, string)\n",
    "print(find)"
   ]
  },
  {
   "cell_type": "code",
   "execution_count": 25,
   "metadata": {},
   "outputs": [
    {
     "name": "stdout",
     "output_type": "stream",
     "text": [
      "A valid pancard\n"
     ]
    }
   ],
   "source": [
    "pancard = input (\"Enter the pancard\")\n",
    "pattern = \"^[A-Z]{5}\\d{4}[A-Z]{1}$\"\n",
    "find = re.findall(pattern, pancard)\n",
    "if find:\n",
    "    print(\"A valid pancard\")\n",
    "else:\n",
    "    print(\"Not a valid pancard\")"
   ]
  },
  {
   "cell_type": "code",
   "execution_count": 27,
   "metadata": {},
   "outputs": [
    {
     "name": "stdout",
     "output_type": "stream",
     "text": [
      "A valid email_ID\n"
     ]
    }
   ],
   "source": [
    "# Make a pattern for email id verification : \n",
    "\n",
    "# abc_001@gmail.com\n",
    "\n",
    "email_ID = input (\"Enter the email_ID\")\n",
    "pattern = \"^[A-Za-z]|\\d+@[A-Za-z]+[com]$\"\n",
    "find = re.findall(pattern, email_ID)\n",
    "if find:\n",
    "    print(\"A valid email_ID\")\n",
    "else:\n",
    "    print(\"Not a valid email_ID\")"
   ]
  },
  {
   "cell_type": "code",
   "execution_count": 34,
   "metadata": {},
   "outputs": [
    {
     "name": "stdout",
     "output_type": "stream",
     "text": [
      "A valid email_ID\n"
     ]
    }
   ],
   "source": [
    "email_ID = input (\"Enter the email_ID\")\n",
    "pattern = \"^\\w+[@][a-z]+[.][a-z]+$\"\n",
    "find = re.findall(pattern, email_ID)\n",
    "if find:\n",
    "    print(\"A valid email_ID\")\n",
    "else:\n",
    "    print(\"Not a valid email_ID\")"
   ]
  },
  {
   "cell_type": "markdown",
   "metadata": {},
   "source": [
    "abc_1234@domain\n",
    "@#$%^&&*\n",
    "   "
   ]
  }
 ],
 "metadata": {
  "kernelspec": {
   "display_name": "base",
   "language": "python",
   "name": "python3"
  },
  "language_info": {
   "codemirror_mode": {
    "name": "ipython",
    "version": 3
   },
   "file_extension": ".py",
   "mimetype": "text/x-python",
   "name": "python",
   "nbconvert_exporter": "python",
   "pygments_lexer": "ipython3",
   "version": "3.9.13"
  }
 },
 "nbformat": 4,
 "nbformat_minor": 2
}
