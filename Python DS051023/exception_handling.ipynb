{
 "cells": [
  {
   "cell_type": "markdown",
   "metadata": {},
   "source": [
    "Exception : It is an unwanted event/Error.\n",
    "\n",
    "Exception Handling : It is alternate way to gracefully terminate the program, it will not fix the error but handle it in a better way. \n",
    "\n",
    "Exception handling blocks : \n",
    "1. try block : The code which is suspicious is kept inside the try block.\n",
    "\n",
    "2. except block : If the code present in the try block gives some error, exception then the except block is executed. It handles the exceptions.\n",
    "\n",
    "3. finally block : It is used to execute certain block of code regardless of errors.\n",
    "\n",
    "4. else block : It is used to execute certain block of code if there is no error.\n",
    "\n"
   ]
  },
  {
   "cell_type": "code",
   "execution_count": 1,
   "metadata": {},
   "outputs": [
    {
     "ename": "TypeError",
     "evalue": "unsupported operand type(s) for +: 'int' and 'str'",
     "output_type": "error",
     "traceback": [
      "\u001b[1;31m---------------------------------------------------------------------------\u001b[0m",
      "\u001b[1;31mTypeError\u001b[0m                                 Traceback (most recent call last)",
      "\u001b[1;32m~\\AppData\\Local\\Temp\\ipykernel_8420\\4244523760.py\u001b[0m in \u001b[0;36m<module>\u001b[1;34m\u001b[0m\n\u001b[0;32m      1\u001b[0m \u001b[0ma\u001b[0m \u001b[1;33m=\u001b[0m \u001b[1;36m8\u001b[0m\u001b[1;33m\u001b[0m\u001b[1;33m\u001b[0m\u001b[0m\n\u001b[0;32m      2\u001b[0m \u001b[0mb\u001b[0m \u001b[1;33m=\u001b[0m \u001b[1;34m\"nine\"\u001b[0m\u001b[1;33m\u001b[0m\u001b[1;33m\u001b[0m\u001b[0m\n\u001b[1;32m----> 3\u001b[1;33m \u001b[0msum\u001b[0m \u001b[1;33m=\u001b[0m \u001b[0ma\u001b[0m \u001b[1;33m+\u001b[0m \u001b[0mb\u001b[0m\u001b[1;33m\u001b[0m\u001b[1;33m\u001b[0m\u001b[0m\n\u001b[0m\u001b[0;32m      4\u001b[0m \u001b[0mprint\u001b[0m\u001b[1;33m(\u001b[0m\u001b[1;34m\"Sum is : \"\u001b[0m\u001b[1;33m,\u001b[0m\u001b[0msum\u001b[0m\u001b[1;33m)\u001b[0m\u001b[1;33m\u001b[0m\u001b[1;33m\u001b[0m\u001b[0m\n\u001b[0;32m      5\u001b[0m \u001b[0mprint\u001b[0m\u001b[1;33m(\u001b[0m\u001b[1;34m\"_____________The program is finished_____________\"\u001b[0m\u001b[1;33m)\u001b[0m\u001b[1;33m\u001b[0m\u001b[1;33m\u001b[0m\u001b[0m\n",
      "\u001b[1;31mTypeError\u001b[0m: unsupported operand type(s) for +: 'int' and 'str'"
     ]
    }
   ],
   "source": [
    "a = 8\n",
    "b = \"nine\"\n",
    "sum = a + b\n",
    "print(\"Sum is : \",sum)\n",
    "print(\"_____________The program is finished_____________\")"
   ]
  },
  {
   "cell_type": "code",
   "execution_count": 2,
   "metadata": {},
   "outputs": [
    {
     "name": "stdout",
     "output_type": "stream",
     "text": [
      "Error occured while executing the code\n",
      "unsupported operand type(s) for +: 'int' and 'str'\n"
     ]
    }
   ],
   "source": [
    "try:\n",
    "    a = 8\n",
    "    b = \"nine\"\n",
    "    sum = a + b\n",
    "    print(\"Sum is : \",sum)\n",
    "\n",
    "except Exception as ex:\n",
    "    print(\"Error occured while executing the code\")\n",
    "    print(ex)\n",
    "\n",
    "    \n"
   ]
  },
  {
   "cell_type": "markdown",
   "metadata": {},
   "source": [
    "# try to open a file which does not exist in your system in read mode."
   ]
  },
  {
   "cell_type": "code",
   "execution_count": 7,
   "metadata": {},
   "outputs": [
    {
     "name": "stdout",
     "output_type": "stream",
     "text": [
      "---------------The program is finished--------------------------\n"
     ]
    }
   ],
   "source": [
    "try:\n",
    "    file = open(\"Books.json\",\"r\")\n",
    "    file.read()\n",
    "    file.close()\n",
    "\n",
    "except:\n",
    "    print(\"This file is not present in system, kindly recheck the file name!!!\")\n",
    "\n",
    "finally:\n",
    "    print(\"---------------The program is finished--------------------------\")"
   ]
  },
  {
   "cell_type": "code",
   "execution_count": 9,
   "metadata": {},
   "outputs": [
    {
     "name": "stdout",
     "output_type": "stream",
     "text": [
      "The file is closed!!!\n",
      "---------------The program is finished--------------------------\n"
     ]
    }
   ],
   "source": [
    "try:\n",
    "    file = open(\"Books.json\",\"r\")\n",
    "    file.read()\n",
    "\n",
    "except:\n",
    "    print(\"This file is not present in system, kindly recheck the file name!!!\")\n",
    "\n",
    "else:\n",
    "    file.close()\n",
    "    print(\"The file is closed!!!\")\n",
    "\n",
    "finally:\n",
    "    print(\"---------------The program is finished--------------------------\")"
   ]
  },
  {
   "cell_type": "markdown",
   "metadata": {},
   "source": [
    "# write a program to get the sum of all digits in a number. If there is any error in code, except block should get executed. put the whole code inside the try except block.\n",
    "\n",
    "4567"
   ]
  },
  {
   "cell_type": "code",
   "execution_count": null,
   "metadata": {},
   "outputs": [],
   "source": [
    "try:\n",
    "    # logic for getting the sum of all digits of a number\n",
    "    pass\n",
    "\n",
    "except:\n",
    "    # exception handling\n",
    "    pass\n",
    "\n",
    "else:\n",
    "    # write the code to be executed when there is no error in the code\n",
    "    pass\n",
    "\n",
    "finally:\n",
    "    # write the code to be executed regardless of any error.\n",
    "    pass\n"
   ]
  },
  {
   "cell_type": "markdown",
   "metadata": {},
   "source": [
    "raise keyword : raise keyword is used to raise an exception, here we can define the kind of error to be raised and the error message to be printed."
   ]
  },
  {
   "cell_type": "code",
   "execution_count": 12,
   "metadata": {},
   "outputs": [
    {
     "name": "stdout",
     "output_type": "stream",
     "text": [
      "Correct details!!!\n"
     ]
    }
   ],
   "source": [
    "import re\n",
    "\n",
    "mobile_number = input(\"Enter your mobile number\")\n",
    "pattern = \"^[6789]\\d{9}$\"\n",
    "result = re.match(pattern, mobile_number)\n",
    "if not result:\n",
    "    raise ValueError(\"Invalid mobile number!!!\")\n",
    "else:\n",
    "    print(\"Correct details!!!\")"
   ]
  }
 ],
 "metadata": {
  "kernelspec": {
   "display_name": "base",
   "language": "python",
   "name": "python3"
  },
  "language_info": {
   "codemirror_mode": {
    "name": "ipython",
    "version": 3
   },
   "file_extension": ".py",
   "mimetype": "text/x-python",
   "name": "python",
   "nbconvert_exporter": "python",
   "pygments_lexer": "ipython3",
   "version": "3.9.13"
  }
 },
 "nbformat": 4,
 "nbformat_minor": 2
}
