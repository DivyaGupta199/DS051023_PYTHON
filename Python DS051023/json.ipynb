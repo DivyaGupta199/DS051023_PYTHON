{
 "cells": [
  {
   "cell_type": "markdown",
   "metadata": {},
   "source": [
    "Json - json stands for javascript object notation. This files are mainly used for information exchange. In python, we need to import the library 'json' to use json file in python code.\n",
    "e.g {\n",
    "    'name' : 'ram',\n",
    "    'age' : 20,\n",
    "    'Married' : true,\n",
    "    'children'  : null\n",
    "}\n",
    "\n",
    "The process of encoding json is called as serialization. (writing to json file)\n",
    "The process of decoding json is called as deserialization.\n",
    "\n",
    "The python data is translated to json in following manner : \n",
    "python ------------ json\n",
    "dict                object\n",
    "list, tuple         array\n",
    "str                 string\n",
    "int, float, long    number\n",
    "True                true\n",
    "False               false\n",
    "None                null \n"
   ]
  },
  {
   "cell_type": "code",
   "execution_count": 1,
   "metadata": {},
   "outputs": [],
   "source": [
    "import json\n",
    "\n",
    "\n",
    "dict1 = {\n",
    "    'name' : 'ram',\n",
    "    'age' : 20,\n",
    "    'Married' : True,\n",
    "    'children'  : None\n",
    "}"
   ]
  },
  {
   "cell_type": "code",
   "execution_count": 4,
   "metadata": {},
   "outputs": [],
   "source": [
    "file = open(\"json_data.json\",'w')\n",
    "json.dump(dict1, file)\n"
   ]
  },
  {
   "cell_type": "code",
   "execution_count": 5,
   "metadata": {},
   "outputs": [],
   "source": [
    "file.close()"
   ]
  },
  {
   "cell_type": "code",
   "execution_count": 6,
   "metadata": {},
   "outputs": [
    {
     "name": "stdout",
     "output_type": "stream",
     "text": [
      "{'name': 'ram', 'age': 20, 'Married': True, 'children': None}\n"
     ]
    }
   ],
   "source": [
    "file = open(\"json_data.json\",'r')\n",
    "data = json.load(file)\n",
    "print(data)"
   ]
  },
  {
   "cell_type": "markdown",
   "metadata": {},
   "source": [
    "Make a program to store the data of 5 students (roll_number, name, class, subject) permanently in a json file format. "
   ]
  },
  {
   "cell_type": "code",
   "execution_count": 11,
   "metadata": {},
   "outputs": [
    {
     "name": "stdout",
     "output_type": "stream",
     "text": [
      "[{'Roll_number': '1', 'Name': 'abc', 'class': '10', 'subject': 'maths'}, {'Roll_number': '2', 'Name': 'xyz', 'class': '5', 'subject': 'all'}, {'Roll_number': '', 'Name': '', 'class': '', 'subject': ''}, {'Roll_number': '', 'Name': '', 'class': '', 'subject': ''}, {'Roll_number': '', 'Name': '', 'class': '', 'subject': ''}]\n"
     ]
    }
   ],
   "source": [
    "list = []\n",
    "dict = {}\n",
    "for i in range(5):\n",
    "    dict = {}\n",
    "    dict['Roll_number'] = input(\"Enter the roll number : \")\n",
    "    dict['Name'] = input(\"Enter the name : \")\n",
    "    dict['class'] = input(\"Enter the class\")\n",
    "    dict['subject'] = input(\"Enter the subject\")\n",
    "    list.append(dict)\n",
    "\n",
    "print(list)"
   ]
  },
  {
   "cell_type": "code",
   "execution_count": 8,
   "metadata": {},
   "outputs": [
    {
     "name": "stdout",
     "output_type": "stream",
     "text": [
      "{'Roll_number': '1', 'Name': 'akash', 'class': '8', 'subject': 'maths'}\n",
      "{'Roll_number': '2', 'Name': 'chetan', 'class': '11', 'subject': 'commerce'}\n",
      "{'Roll_number': '3', 'Name': 'rohit', 'class': '12', 'subject': 'pcm'}\n",
      "{'Roll_number': '4', 'Name': 'rishabh', 'class': '12', 'subject': 'biology'}\n",
      "{'Roll_number': '5', 'Name': 'vikas', 'class': '11', 'subject': 'pcm'}\n"
     ]
    }
   ],
   "source": [
    "for i in list:\n",
    "    print(i)"
   ]
  },
  {
   "cell_type": "code",
   "execution_count": 10,
   "metadata": {},
   "outputs": [],
   "source": [
    "file = open(\"student_data.json\",'w')\n",
    "json.dump(list,file)"
   ]
  },
  {
   "cell_type": "code",
   "execution_count": 15,
   "metadata": {},
   "outputs": [
    {
     "name": "stdout",
     "output_type": "stream",
     "text": [
      "<class 'set'>\n"
     ]
    }
   ],
   "source": [
    "list1 = {1,2,3,4,5}\n",
    "print(type(list1))"
   ]
  },
  {
   "cell_type": "code",
   "execution_count": null,
   "metadata": {},
   "outputs": [],
   "source": [
    "class my_list:\n",
    "    def append(self):\n",
    "        # Logic for adding new element to list\n",
    "        pass\n",
    "\n",
    "    def pop(self, index = -1):\n",
    "        # To remove an element by index from the list\n",
    "        pass\n",
    "\n",
    "    def extend(self):\n",
    "        pass\n",
    "\n",
    "    def delete(self):\n",
    "        pass\n",
    "\n",
    "    def remove(self):\n",
    "        pass\n",
    "\n",
    "    def len(self):\n",
    "        pass\n",
    "    "
   ]
  }
 ],
 "metadata": {
  "kernelspec": {
   "display_name": "base",
   "language": "python",
   "name": "python3"
  },
  "language_info": {
   "codemirror_mode": {
    "name": "ipython",
    "version": 3
   },
   "file_extension": ".py",
   "mimetype": "text/x-python",
   "name": "python",
   "nbconvert_exporter": "python",
   "pygments_lexer": "ipython3",
   "version": "3.9.13"
  }
 },
 "nbformat": 4,
 "nbformat_minor": 2
}
