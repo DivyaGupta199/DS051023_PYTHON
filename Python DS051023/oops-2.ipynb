{
 "cells": [
  {
   "cell_type": "markdown",
   "metadata": {},
   "source": [
    "# four pillars of object oriented programming : \n",
    "1. Inheritance\n",
    "2. Encapsulation\n",
    "3. Polymorphism\n",
    "4. Abstraction"
   ]
  },
  {
   "cell_type": "markdown",
   "metadata": {},
   "source": [
    "# Inheritance : Inheriting the properties of one class into another class. \n",
    "\n"
   ]
  },
  {
   "cell_type": "code",
   "execution_count": null,
   "metadata": {},
   "outputs": [],
   "source": [
    "class first:\n",
    "    def fun1():\n",
    "        pass\n",
    "    def fun2():\n",
    "        pass\n",
    "    def fun3():\n",
    "        pass\n"
   ]
  },
  {
   "cell_type": "code",
   "execution_count": null,
   "metadata": {},
   "outputs": [],
   "source": [
    "class second(first):\n",
    "    def fun4():\n",
    "        pass\n",
    "    def fun5():\n",
    "        pass\n",
    "    def fun6():\n",
    "        pass\n",
    "\n",
    "obj = second()\n",
    "obj.fun4()\n",
    "obj.fun1()"
   ]
  },
  {
   "cell_type": "code",
   "execution_count": null,
   "metadata": {},
   "outputs": [],
   "source": [
    "class parent:\n",
    "    def land(self):\n",
    "        print(\"Land\")\n",
    "\n",
    "    def house(self):\n",
    "        print(\"House\")\n",
    "\n",
    "\n",
    "class child(parent):\n",
    "    def car(self):\n",
    "        print(\"Car\")"
   ]
  },
  {
   "cell_type": "markdown",
   "metadata": {},
   "source": [
    "# Types of Inheritance : \n",
    "1. single Inheritance\n",
    "2. multiple Inheritance\n",
    "3. Multi-level Inheritance\n",
    "4. Hierarchical Inheritance\n",
    "5. Hybrid Inheritance"
   ]
  },
  {
   "cell_type": "code",
   "execution_count": null,
   "metadata": {},
   "outputs": [],
   "source": [
    "# Single Inheritance : It is one to one relationship where one child class inherits one parent class.\n",
    "class parent:\n",
    "    def land(self):\n",
    "        print(\"Land\")\n",
    "\n",
    "    def house(self):\n",
    "        print(\"House\")\n",
    "\n",
    "\n",
    "class child(parent):\n",
    "    def car(self):\n",
    "        print(\"Car\")\n"
   ]
  },
  {
   "cell_type": "code",
   "execution_count": 1,
   "metadata": {},
   "outputs": [],
   "source": [
    "# multiple Inheritance : In multiple inheritance one child class inherits multiple parent classes\n",
    "class A:\n",
    "    def fun_A(self):\n",
    "        print(\"Function of A class\")\n",
    "\n",
    "class B:\n",
    "    def fun_B(self):\n",
    "        print(\"Function of B class\")\n",
    "\n",
    "class C(A,B):\n",
    "    def fun_c(self):\n",
    "        print(\"Function of c class\")\n",
    "\n"
   ]
  },
  {
   "cell_type": "code",
   "execution_count": 6,
   "metadata": {},
   "outputs": [
    {
     "name": "stdout",
     "output_type": "stream",
     "text": [
      "Function of A class\n",
      "Function of c class\n",
      "Function of A class\n",
      "Function of B class\n"
     ]
    }
   ],
   "source": [
    "obj_A = A()\n",
    "obj_A.fun_A()\n",
    "obj_c = C()\n",
    "obj_c.fun_c()\n",
    "obj_c.fun_A()\n",
    "obj_c.fun_B()"
   ]
  },
  {
   "cell_type": "code",
   "execution_count": 8,
   "metadata": {},
   "outputs": [
    {
     "name": "stdout",
     "output_type": "stream",
     "text": [
      "Properties of child\n",
      "Properties of Parent\n",
      "Properties of grandparent\n"
     ]
    }
   ],
   "source": [
    "# multi-level inheritance : \n",
    "\n",
    "class grand_parent:\n",
    "    def fun_grandparent(self):\n",
    "        print(\"Properties of grandparent\")\n",
    "\n",
    "class parent(grand_parent):\n",
    "    def fun_parent(self):\n",
    "        print(\"Properties of Parent\")\n",
    "\n",
    "class child(parent):\n",
    "    def fun_child(self):\n",
    "        print(\"Properties of child\")\n",
    "\n",
    "object = child()\n",
    "object.fun_child()\n",
    "object.fun_parent()\n",
    "object.fun_grandparent()"
   ]
  },
  {
   "cell_type": "code",
   "execution_count": 12,
   "metadata": {},
   "outputs": [],
   "source": [
    "# Hierarchical Inheritance : When multiple child classes inherits the properties of one parent class then this type of inheritance is called\n",
    "# Hierarchical Inheritance.\n",
    "\n",
    "class parent:\n",
    "    def property(self):\n",
    "        print(\"Properties of parent class\")\n",
    "\n",
    "class child1(parent):\n",
    "    def child1_property(Self):\n",
    "        print(\"Property of child 1\")\n",
    "\n",
    "class child2(parent):\n",
    "    def child2_property(self):\n",
    "        print(\"Properties of child 2\")"
   ]
  },
  {
   "cell_type": "code",
   "execution_count": 13,
   "metadata": {},
   "outputs": [
    {
     "name": "stdout",
     "output_type": "stream",
     "text": [
      "Properties of parent class\n"
     ]
    },
    {
     "ename": "AttributeError",
     "evalue": "'parent' object has no attribute 'child1_property'",
     "output_type": "error",
     "traceback": [
      "\u001b[1;31m---------------------------------------------------------------------------\u001b[0m",
      "\u001b[1;31mAttributeError\u001b[0m                            Traceback (most recent call last)",
      "\u001b[1;32m~\\AppData\\Local\\Temp\\ipykernel_38452\\3601825668.py\u001b[0m in \u001b[0;36m<module>\u001b[1;34m\u001b[0m\n\u001b[0;32m      1\u001b[0m \u001b[0mobj_parent\u001b[0m \u001b[1;33m=\u001b[0m \u001b[0mparent\u001b[0m\u001b[1;33m(\u001b[0m\u001b[1;33m)\u001b[0m\u001b[1;33m\u001b[0m\u001b[1;33m\u001b[0m\u001b[0m\n\u001b[0;32m      2\u001b[0m \u001b[0mobj_parent\u001b[0m\u001b[1;33m.\u001b[0m\u001b[0mproperty\u001b[0m\u001b[1;33m(\u001b[0m\u001b[1;33m)\u001b[0m\u001b[1;33m\u001b[0m\u001b[1;33m\u001b[0m\u001b[0m\n\u001b[1;32m----> 3\u001b[1;33m \u001b[0mobj_parent\u001b[0m\u001b[1;33m.\u001b[0m\u001b[0mchild1_property\u001b[0m\u001b[1;33m(\u001b[0m\u001b[1;33m)\u001b[0m\u001b[1;33m\u001b[0m\u001b[1;33m\u001b[0m\u001b[0m\n\u001b[0m\u001b[0;32m      4\u001b[0m \u001b[1;33m\u001b[0m\u001b[0m\n",
      "\u001b[1;31mAttributeError\u001b[0m: 'parent' object has no attribute 'child1_property'"
     ]
    }
   ],
   "source": [
    "obj_parent = parent()\n",
    "obj_parent.property()\n",
    "obj_parent.child1_property()\n",
    "\n"
   ]
  },
  {
   "cell_type": "code",
   "execution_count": 14,
   "metadata": {},
   "outputs": [
    {
     "name": "stdout",
     "output_type": "stream",
     "text": [
      "Property of child 1\n",
      "Properties of parent class\n"
     ]
    },
    {
     "ename": "AttributeError",
     "evalue": "'child1' object has no attribute 'child2_property'",
     "output_type": "error",
     "traceback": [
      "\u001b[1;31m---------------------------------------------------------------------------\u001b[0m",
      "\u001b[1;31mAttributeError\u001b[0m                            Traceback (most recent call last)",
      "\u001b[1;32m~\\AppData\\Local\\Temp\\ipykernel_38452\\4221703756.py\u001b[0m in \u001b[0;36m<module>\u001b[1;34m\u001b[0m\n\u001b[0;32m      2\u001b[0m \u001b[0mobj_child1\u001b[0m\u001b[1;33m.\u001b[0m\u001b[0mchild1_property\u001b[0m\u001b[1;33m(\u001b[0m\u001b[1;33m)\u001b[0m\u001b[1;33m\u001b[0m\u001b[1;33m\u001b[0m\u001b[0m\n\u001b[0;32m      3\u001b[0m \u001b[0mobj_child1\u001b[0m\u001b[1;33m.\u001b[0m\u001b[0mproperty\u001b[0m\u001b[1;33m(\u001b[0m\u001b[1;33m)\u001b[0m\u001b[1;33m\u001b[0m\u001b[1;33m\u001b[0m\u001b[0m\n\u001b[1;32m----> 4\u001b[1;33m \u001b[0mobj_child1\u001b[0m\u001b[1;33m.\u001b[0m\u001b[0mchild2_property\u001b[0m\u001b[1;33m(\u001b[0m\u001b[1;33m)\u001b[0m\u001b[1;33m\u001b[0m\u001b[1;33m\u001b[0m\u001b[0m\n\u001b[0m",
      "\u001b[1;31mAttributeError\u001b[0m: 'child1' object has no attribute 'child2_property'"
     ]
    }
   ],
   "source": [
    "obj_child1 = child1()\n",
    "obj_child1.child1_property()\n",
    "obj_child1.property()\n",
    "obj_child1.child2_property()"
   ]
  },
  {
   "cell_type": "code",
   "execution_count": 15,
   "metadata": {},
   "outputs": [],
   "source": [
    "# Hybrid Inheritance : It is the combination of more than 1 type of inheritance.\n",
    "\n",
    "class grandparent:\n",
    "    def fun_grandparent(self):\n",
    "        print(\"Function of grandparent class\")\n",
    "\n",
    "class father(grandparent):\n",
    "    def fun_father(self):\n",
    "        print(\"Function of father class\")\n",
    "\n",
    "class mother(grandparent):\n",
    "    def fun_mother(self):\n",
    "        print(\"Function of mother class\")\n",
    "\n",
    "class son(father, mother):\n",
    "    def fun_son(self):\n",
    "        print(\"Function of son class\")\n",
    "\n",
    "\n",
    "        "
   ]
  },
  {
   "cell_type": "code",
   "execution_count": null,
   "metadata": {},
   "outputs": [],
   "source": [
    "# Encapsulation : Wrapping up of attributes (variables) and behaviour (methods/ function) at one place is called Encapsulation.\n",
    "\n",
    "a = 10          # global variable\n",
    "\n",
    "def addition():\n",
    "    b = 30               # local variable   \n",
    "    add = a+b\n",
    "    print(add)\n",
    "\n",
    "class addition:\n",
    "    def __init__(self):\n",
    "        self.x = 100           # instance variable   \n",
    "        self.y = 200\n",
    "        print(a)\n",
    "\n",
    "    def add(self):\n",
    "        result = self.x + self.y + a\n",
    "        return result\n",
    "    \n",
    "\n",
    "print(b)\n"
   ]
  }
 ],
 "metadata": {
  "kernelspec": {
   "display_name": "base",
   "language": "python",
   "name": "python3"
  },
  "language_info": {
   "codemirror_mode": {
    "name": "ipython",
    "version": 3
   },
   "file_extension": ".py",
   "mimetype": "text/x-python",
   "name": "python",
   "nbconvert_exporter": "python",
   "pygments_lexer": "ipython3",
   "version": "3.9.13"
  }
 },
 "nbformat": 4,
 "nbformat_minor": 2
}
