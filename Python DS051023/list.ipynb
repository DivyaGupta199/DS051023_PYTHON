{
 "cells": [
  {
   "cell_type": "markdown",
   "metadata": {},
   "source": [
    "LIST DATATYPE : \n",
    "# List is a sequencial datatype which is used to store collection of data.\n",
    "# A list is a heterogenous collection of elements.\n",
    "# It is mutable in nature. We can modify the elements after initialization of list.\n",
    "\n",
    "# Inbuilt methods of list datatype : \n",
    "1. append() - The append method is used to add a new element to the list.\n",
    "2. insert(index,element) : This method is used to add a new element at a specific index.\n",
    "3. extend(list) : This method is used to join another list at the end of existing list.\n",
    "4. pop(index) : Tlhis method is used to remove an element from the list by its index and by default it removes the last element.\n",
    "5. remove(value) : This method is used to remove an element from the list by its value.\n",
    "6. clear() : This method is used to remove all the elements from the list and makes it empty.\n",
    "7. join() : This method is used to join all the elements of list and make it a string.\n",
    "8. len() : This method is used to find the total number of elements in list.\n",
    "9. sort() : This method is used to sort the values in ascending or descending order\n"
   ]
  },
  {
   "cell_type": "code",
   "execution_count": 2,
   "metadata": {},
   "outputs": [
    {
     "name": "stdout",
     "output_type": "stream",
     "text": [
      "[12, 14, 15, 20, 30]\n"
     ]
    }
   ],
   "source": [
    "# append() :\n",
    "list = [12,14,15]\n",
    "element = 30\n",
    "list.append(20)\n",
    "list.append(element)\n",
    "print(list)"
   ]
  },
  {
   "cell_type": "code",
   "execution_count": 5,
   "metadata": {},
   "outputs": [
    {
     "data": {
      "text/plain": [
       "[10, 11, 100, 12, 14, 15, 16]"
      ]
     },
     "execution_count": 5,
     "metadata": {},
     "output_type": "execute_result"
    }
   ],
   "source": [
    "# insert(index,element) : \n",
    "list = [10,11,12,14,15,16]\n",
    "list.insert(2,100)\n",
    "list"
   ]
  },
  {
   "cell_type": "code",
   "execution_count": 6,
   "metadata": {},
   "outputs": [
    {
     "data": {
      "text/plain": [
       "[1, 2, 3, 4, 5, 6, 7, 8, 9, 0]"
      ]
     },
     "execution_count": 6,
     "metadata": {},
     "output_type": "execute_result"
    }
   ],
   "source": [
    "# extend() :\n",
    "list1 = [1,2,3,4,5]\n",
    "list2 = [6,7,8,9,0]\n",
    "list1.extend(list2)\n",
    "list1\n"
   ]
  },
  {
   "cell_type": "code",
   "execution_count": 14,
   "metadata": {},
   "outputs": [
    {
     "data": {
      "text/plain": [
       "[11, 12, 14, 15, 16]"
      ]
     },
     "execution_count": 14,
     "metadata": {},
     "output_type": "execute_result"
    }
   ],
   "source": [
    "# pop() :\n",
    "list = [10,11,12,14,15,16]\n",
    "list.pop(0)\n",
    "list"
   ]
  },
  {
   "cell_type": "code",
   "execution_count": 20,
   "metadata": {},
   "outputs": [
    {
     "data": {
      "text/plain": [
       "[11, 12, 14, 15, 16, 11, 'A', 'Python']"
      ]
     },
     "execution_count": 20,
     "metadata": {},
     "output_type": "execute_result"
    }
   ],
   "source": [
    "# remove() :\n",
    "list = [10,11,12,14,15,16,11,'A',\"Python\"]\n",
    "list.remove(10)\n",
    "\n",
    "# while True:\n",
    "#     if 11 in list:\n",
    "#         list.remove(11)\n",
    "#     else:\n",
    "#         break\n",
    "\n",
    "# for i in range(1,21):\n",
    "#     list.remove(11)\n",
    "\n",
    "list\n",
    "\n"
   ]
  },
  {
   "cell_type": "code",
   "execution_count": 22,
   "metadata": {},
   "outputs": [
    {
     "name": "stdout",
     "output_type": "stream",
     "text": [
      "[]\n"
     ]
    },
    {
     "data": {
      "text/plain": [
       "[1]"
      ]
     },
     "execution_count": 22,
     "metadata": {},
     "output_type": "execute_result"
    }
   ],
   "source": [
    "# clear()\n",
    "list = [10,11,12,14,15,16,11]\n",
    "list.clear()\n",
    "print(list)\n",
    "list.append(1)\n",
    "list\n"
   ]
  },
  {
   "cell_type": "code",
   "execution_count": 24,
   "metadata": {},
   "outputs": [
    {
     "data": {
      "text/plain": [
       "'9876543210'"
      ]
     },
     "execution_count": 24,
     "metadata": {},
     "output_type": "execute_result"
    }
   ],
   "source": [
    "# join()\n",
    "list = ['9','8','7','6','5','4','3','2','1','0']\n",
    "\"\".join(list)\n"
   ]
  },
  {
   "cell_type": "code",
   "execution_count": 25,
   "metadata": {},
   "outputs": [
    {
     "data": {
      "text/plain": [
       "6"
      ]
     },
     "execution_count": 25,
     "metadata": {},
     "output_type": "execute_result"
    }
   ],
   "source": [
    "# len() \n",
    "list = [10,11,12,14,15,16]\n",
    "length = len(list)\n",
    "length"
   ]
  },
  {
   "cell_type": "code",
   "execution_count": 30,
   "metadata": {},
   "outputs": [
    {
     "data": {
      "text/plain": [
       "[56, 40, 32, 28, 20, 15, 13, 11, 10]"
      ]
     },
     "execution_count": 30,
     "metadata": {},
     "output_type": "execute_result"
    }
   ],
   "source": [
    "# sort()\n",
    "list = [15,13,28,20,11,40,56,32,10]\n",
    "list.sort(reverse = True)\n",
    "list"
   ]
  },
  {
   "cell_type": "code",
   "execution_count": 32,
   "metadata": {},
   "outputs": [
    {
     "data": {
      "text/plain": [
       "['Orange', 'White', 'Yellow', 'blue', 'green', 'pink', 'red']"
      ]
     },
     "execution_count": 32,
     "metadata": {},
     "output_type": "execute_result"
    }
   ],
   "source": [
    "# sort()\n",
    "list = [\"red\",\"green\",\"blue\",\"Yellow\",\"Orange\",\"pink\",\"White\"]\n",
    "list.sort()\n",
    "list"
   ]
  },
  {
   "cell_type": "code",
   "execution_count": 34,
   "metadata": {},
   "outputs": [
    {
     "data": {
      "text/plain": [
       "[56, 60, 32, 28, 20, 15, 13, 11, 10]"
      ]
     },
     "execution_count": 34,
     "metadata": {},
     "output_type": "execute_result"
    }
   ],
   "source": [
    "# Modify an element of list.\n",
    "\n",
    "list = [56, 40, 32, 28, 20, 15, 13, 11, 10]\n",
    "list[1] = 60\n",
    "list"
   ]
  },
  {
   "cell_type": "code",
   "execution_count": 37,
   "metadata": {},
   "outputs": [
    {
     "data": {
      "text/plain": [
       "5"
      ]
     },
     "execution_count": 37,
     "metadata": {},
     "output_type": "execute_result"
    }
   ],
   "source": [
    "# index()\n",
    "list = [56, 40, 32, 28, 20, 15, 13, 11, 10]\n",
    "list.index(15)\n"
   ]
  },
  {
   "cell_type": "code",
   "execution_count": 38,
   "metadata": {},
   "outputs": [
    {
     "data": {
      "text/plain": [
       "[32, 28, 20, 15, 13, 11]"
      ]
     },
     "execution_count": 38,
     "metadata": {},
     "output_type": "execute_result"
    }
   ],
   "source": [
    "# slicing in list : \n",
    "list = [56, 40, 32, 28, 20, 15, 13, 11, 10]\n",
    "list[2:8]"
   ]
  },
  {
   "cell_type": "code",
   "execution_count": 39,
   "metadata": {},
   "outputs": [
    {
     "name": "stdout",
     "output_type": "stream",
     "text": [
      "258720\n"
     ]
    }
   ],
   "source": [
    "list = [10,11,12,14,14]\n",
    "multiply = 1\n",
    "for i in list:\n",
    "    multiply*=i\n",
    "\n",
    "print(multiply)"
   ]
  },
  {
   "cell_type": "code",
   "execution_count": 40,
   "metadata": {},
   "outputs": [
    {
     "name": "stdout",
     "output_type": "stream",
     "text": [
      "2\n",
      "2 4\n",
      "2 5\n",
      "2 6\n",
      "2 7\n",
      "2 8\n",
      "3\n",
      "3 4\n",
      "3 5\n",
      "3 6\n",
      "3 7\n",
      "3 8\n",
      "4\n",
      "4 4\n",
      "4 5\n",
      "4 6\n",
      "4 7\n",
      "4 8\n",
      "5\n",
      "5 4\n",
      "5 5\n",
      "5 6\n",
      "5 7\n",
      "5 8\n",
      "6\n",
      "6 4\n",
      "6 5\n",
      "6 6\n",
      "6 7\n",
      "6 8\n"
     ]
    }
   ],
   "source": [
    "list = [2,3,4,5,6]\n",
    "list2 = [4,5,6,7,8]\n",
    "final_list = []\n",
    "for i in list:\n",
    "    print(i)\n",
    "\n",
    "    for j in list2:\n",
    "        print(i,j)\n",
    "        final_list.append(i+j)\n",
    "\n",
    "\n",
    "# [6, 7, 8, 9, 10, 7, 8, 9, 10, 11, 8, 9, 10, 11, 12, 9, 10, 11, 12, 13, 10, 11, 12, 13, 14]"
   ]
  },
  {
   "cell_type": "code",
   "execution_count": 41,
   "metadata": {},
   "outputs": [
    {
     "name": "stdout",
     "output_type": "stream",
     "text": [
      "[6, 7, 8, 9, 10, 7, 8, 9, 10, 11, 8, 9, 10, 11, 12, 9, 10, 11, 12, 13, 10, 11, 12, 13, 14]\n"
     ]
    }
   ],
   "source": [
    "print(final_list)"
   ]
  },
  {
   "cell_type": "markdown",
   "metadata": {},
   "source": [
    "1\n",
    "1 2\n",
    "1 2 3\n",
    "1 2 3 4\n",
    "1 2 3 4 5\n",
    "1 2 3 4 5 6"
   ]
  },
  {
   "cell_type": "code",
   "execution_count": null,
   "metadata": {},
   "outputs": [],
   "source": [
    "# n = 6 \n",
    "# print(1, end = \" \")\n",
    "# print()\n",
    "\n",
    "# 1 2 3 4  \n"
   ]
  }
 ],
 "metadata": {
  "kernelspec": {
   "display_name": "base",
   "language": "python",
   "name": "python3"
  },
  "language_info": {
   "codemirror_mode": {
    "name": "ipython",
    "version": 3
   },
   "file_extension": ".py",
   "mimetype": "text/x-python",
   "name": "python",
   "nbconvert_exporter": "python",
   "pygments_lexer": "ipython3",
   "version": "3.9.13"
  }
 },
 "nbformat": 4,
 "nbformat_minor": 2
}
