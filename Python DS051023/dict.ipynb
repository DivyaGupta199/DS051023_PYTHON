{
 "cells": [
  {
   "cell_type": "markdown",
   "metadata": {},
   "source": [
    "Dict : Dictionaries are used to store the data in key value pair. Here keys are unique and values can be duplicated. A key is immutable in python hence it should be of a immutable datatype whereas values can be both mutable and immutable."
   ]
  },
  {
   "cell_type": "markdown",
   "metadata": {},
   "source": []
  },
  {
   "cell_type": "code",
   "execution_count": 42,
   "metadata": {},
   "outputs": [
    {
     "name": "stdout",
     "output_type": "stream",
     "text": [
      "{'Name': 'abc', 'Age': 23, 'City': 'Mumbai', 'State': 'Maharastra'}\n",
      "{}\n",
      "<class 'dict'>\n",
      "{}\n",
      "<class 'dict'>\n"
     ]
    }
   ],
   "source": [
    "# Defining a dictionary\n",
    "\n",
    "dict1 = {\n",
    "    \"Name\" : \"abc\",\n",
    "    \"Age\" : 23,\n",
    "    \"City\" : \"Mumbai\",\n",
    "    \"State\" : \"Maharastra\"\n",
    "}\n",
    "print(dict1)\n",
    "\n",
    "# Definiing an empty dictionary\n",
    "dict2 = {}\n",
    "print(dict2)\n",
    "print(type(dict2))\n",
    "\n",
    "dict3 = dict()\n",
    "print(dict3)\n",
    "print(type(dict3)) \n",
    "\n",
    "\n",
    "\n"
   ]
  },
  {
   "cell_type": "code",
   "execution_count": 7,
   "metadata": {},
   "outputs": [
    {
     "name": "stdout",
     "output_type": "stream",
     "text": [
      "Name ------------> abc\n",
      "Age ------------> 23\n",
      "City ------------> Mumbai\n",
      "State ------------> Maharastra\n"
     ]
    }
   ],
   "source": [
    "# Accessing elements in a dictionary : \n",
    "# using a loop\n",
    "for k,v in dict1.items():\n",
    "    print(k,\"------------>\",v)"
   ]
  },
  {
   "cell_type": "code",
   "execution_count": 9,
   "metadata": {},
   "outputs": [
    {
     "name": "stdout",
     "output_type": "stream",
     "text": [
      "Maharastra\n"
     ]
    }
   ],
   "source": [
    "# Accessing any specific value through the key in dictionary\n",
    "print(dict1['State'])"
   ]
  },
  {
   "cell_type": "code",
   "execution_count": 12,
   "metadata": {},
   "outputs": [
    {
     "name": "stdout",
     "output_type": "stream",
     "text": [
      "dict_keys(['Name', 'Age', 'City', 'State'])\n"
     ]
    }
   ],
   "source": [
    "# Accessing the keys in dictionary\n",
    "keys = dict1.keys()\n",
    "print(keys)"
   ]
  },
  {
   "cell_type": "code",
   "execution_count": 13,
   "metadata": {},
   "outputs": [
    {
     "name": "stdout",
     "output_type": "stream",
     "text": [
      "Name\n",
      "Age\n",
      "City\n",
      "State\n"
     ]
    }
   ],
   "source": [
    "# Accessing the keys in dictionary through loop\n",
    "for k in dict1.keys():\n",
    "    print(k)"
   ]
  },
  {
   "cell_type": "code",
   "execution_count": 17,
   "metadata": {},
   "outputs": [
    {
     "data": {
      "text/plain": [
       "'abc'"
      ]
     },
     "execution_count": 17,
     "metadata": {},
     "output_type": "execute_result"
    }
   ],
   "source": [
    "#  get()\n",
    "dict1.get(\"Name\")"
   ]
  },
  {
   "cell_type": "code",
   "execution_count": 18,
   "metadata": {},
   "outputs": [
    {
     "data": {
      "text/plain": [
       "dict_values(['abc', 23, 'Mumbai', 'Maharastra'])"
      ]
     },
     "execution_count": 18,
     "metadata": {},
     "output_type": "execute_result"
    }
   ],
   "source": [
    "# Accessing the values of dictionary\n",
    "dict1.values()"
   ]
  },
  {
   "cell_type": "code",
   "execution_count": 19,
   "metadata": {},
   "outputs": [
    {
     "name": "stdout",
     "output_type": "stream",
     "text": [
      "abc\n",
      "23\n",
      "Mumbai\n",
      "Maharastra\n"
     ]
    }
   ],
   "source": [
    "# Accessing the values in dictionary through loop\n",
    "for v in dict1.values():\n",
    "    print(v)"
   ]
  },
  {
   "cell_type": "code",
   "execution_count": null,
   "metadata": {},
   "outputs": [],
   "source": []
  },
  {
   "cell_type": "code",
   "execution_count": 20,
   "metadata": {},
   "outputs": [
    {
     "name": "stdout",
     "output_type": "stream",
     "text": [
      "{'Name': 'abc', 'Age': 23, 'City': 'Mumbai', 'State': 'Maharastra', 'Country': 'India'}\n"
     ]
    }
   ],
   "source": [
    "# Adding a new pair in dictionary : \n",
    "dict1[\"Country\"] = \"India\"\n",
    "print(dict1)"
   ]
  },
  {
   "cell_type": "code",
   "execution_count": 27,
   "metadata": {},
   "outputs": [],
   "source": [
    "dict2 = {\n",
    "    \"Course\" : \"Data science\",\n",
    "    \"Institute\" : \"Edyoda Digital University\",\n",
    "    \"Duration\" : \"6 Months\",\n",
    "    \"Certification\" : \"Python and Data science\"\n",
    "}"
   ]
  },
  {
   "cell_type": "code",
   "execution_count": 28,
   "metadata": {},
   "outputs": [],
   "source": [
    "dict1.update(dict2)\n"
   ]
  },
  {
   "cell_type": "code",
   "execution_count": 29,
   "metadata": {},
   "outputs": [
    {
     "name": "stdout",
     "output_type": "stream",
     "text": [
      "{'Name': 'abc', 'Age': 23, 'City': 'Mumbai', 'State': 'Maharastra', 'Course': 'Data science', 'Institute': 'Edyoda Digital University', 'Duration': '6 Months', 'Certification': 'Python and Data science'}\n"
     ]
    }
   ],
   "source": [
    "print(dict1)"
   ]
  },
  {
   "cell_type": "code",
   "execution_count": 30,
   "metadata": {},
   "outputs": [
    {
     "name": "stdout",
     "output_type": "stream",
     "text": [
      "City\n"
     ]
    }
   ],
   "source": [
    "# Write a program to get the key from the value given by user. \n",
    "value = \"Mumbai\"\n",
    "for k,v in dict1.items():\n",
    "    if v == value:\n",
    "        print(k)\n",
    "\n",
    "\n"
   ]
  },
  {
   "cell_type": "code",
   "execution_count": 34,
   "metadata": {},
   "outputs": [
    {
     "data": {
      "text/plain": [
       "'Maharastra'"
      ]
     },
     "execution_count": 34,
     "metadata": {},
     "output_type": "execute_result"
    }
   ],
   "source": [
    "# Deleting a pair from dictionary :\n",
    "dict1.pop(\"State\")"
   ]
  },
  {
   "cell_type": "code",
   "execution_count": null,
   "metadata": {},
   "outputs": [],
   "source": []
  },
  {
   "cell_type": "code",
   "execution_count": 35,
   "metadata": {},
   "outputs": [
    {
     "name": "stdout",
     "output_type": "stream",
     "text": [
      "{'Name': 'abc', 'Age': 23, 'City': 'Mumbai', 'Course': 'Data science', 'Institute': 'Edyoda Digital University', 'Duration': '6 Months', 'Certification': 'Python and Data science'}\n"
     ]
    }
   ],
   "source": [
    "print(dict1)"
   ]
  },
  {
   "cell_type": "code",
   "execution_count": 37,
   "metadata": {},
   "outputs": [
    {
     "data": {
      "text/plain": [
       "('Certification', 'Python and Data science')"
      ]
     },
     "execution_count": 37,
     "metadata": {},
     "output_type": "execute_result"
    }
   ],
   "source": [
    "dict1.popitem()"
   ]
  },
  {
   "cell_type": "code",
   "execution_count": 38,
   "metadata": {},
   "outputs": [],
   "source": [
    "dict1.clear()"
   ]
  },
  {
   "cell_type": "code",
   "execution_count": 43,
   "metadata": {},
   "outputs": [
    {
     "data": {
      "text/plain": [
       "{'Name': 'abc', 'Age': 23, 'City': 'Mumbai', 'State': 'Maharastra'}"
      ]
     },
     "execution_count": 43,
     "metadata": {},
     "output_type": "execute_result"
    }
   ],
   "source": [
    "dict1"
   ]
  },
  {
   "cell_type": "code",
   "execution_count": 40,
   "metadata": {},
   "outputs": [],
   "source": [
    "del dict1"
   ]
  },
  {
   "cell_type": "code",
   "execution_count": 44,
   "metadata": {},
   "outputs": [
    {
     "name": "stdout",
     "output_type": "stream",
     "text": [
      "{'Name': 'abc', 'Age': 23, 'City': 'Bengaluru', 'State': 'Maharastra'}\n"
     ]
    }
   ],
   "source": [
    "# Modifying a value in dictionary\n",
    "dict1['City'] = 'Bengaluru'\n",
    "print(dict1)"
   ]
  },
  {
   "cell_type": "code",
   "execution_count": null,
   "metadata": {},
   "outputs": [],
   "source": [
    "# Write a program to make a dictionary where keys will be numbers from 1 to n, and values will be cube of those numbers. Here value of n will be given by the user\n",
    "'''\n",
    "Input : n = 5\n",
    "Output : {\n",
    "    1 : 1,\n",
    "    2 : 8,\n",
    "    3 : 27,\n",
    "    4 : 64,\n",
    "    5  :125\n",
    "}\n",
    "'''"
   ]
  }
 ],
 "metadata": {
  "kernelspec": {
   "display_name": "base",
   "language": "python",
   "name": "python3"
  },
  "language_info": {
   "codemirror_mode": {
    "name": "ipython",
    "version": 3
   },
   "file_extension": ".py",
   "mimetype": "text/x-python",
   "name": "python",
   "nbconvert_exporter": "python",
   "pygments_lexer": "ipython3",
   "version": "3.9.13"
  }
 },
 "nbformat": 4,
 "nbformat_minor": 2
}
