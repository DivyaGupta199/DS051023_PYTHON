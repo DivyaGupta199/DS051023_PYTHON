{
 "cells": [
  {
   "cell_type": "markdown",
   "metadata": {},
   "source": [
    "csv : csv stands for comma seperated values. This file format is used to store tabular data. The data is stored in a plain text format where each value is seperated by a comma and each line represents one record/ row. This files are used to store and transfer the data. This format makes the data transfer process fast and takes up less memory in the system. \n",
    "\n",
    "In python, we have an inbuilt module called csv to work with csv file format. "
   ]
  },
  {
   "cell_type": "markdown",
   "metadata": {},
   "source": [
    "csv_file = \"\"\"\n",
    "Name, class, section, Result, Percent, Grade\n",
    "siya, 5th, A, pass, 90, A+\n",
    "Riya, 5th, A, Pass, 92, A+\n",
    "Priya, 5th, B, Pass, 85, A\n",
    "Tiya, 5th, C, Pass, 77, B+\n",
    "\"\"\"\n"
   ]
  },
  {
   "cell_type": "code",
   "execution_count": 1,
   "metadata": {},
   "outputs": [
    {
     "name": "stdout",
     "output_type": "stream",
     "text": [
      "<_csv.reader object at 0x000001932746E820>\n"
     ]
    }
   ],
   "source": [
    "import csv\n",
    "\n",
    "file = open(\"industry.csv\",\"r\")\n",
    "data = csv.reader(file)\n",
    "print(data)\n",
    "\n"
   ]
  },
  {
   "cell_type": "code",
   "execution_count": 2,
   "metadata": {},
   "outputs": [
    {
     "name": "stdout",
     "output_type": "stream",
     "text": [
      "['Industry']\n"
     ]
    }
   ],
   "source": [
    "column = next(data)\n",
    "print(column)"
   ]
  },
  {
   "cell_type": "code",
   "execution_count": 3,
   "metadata": {},
   "outputs": [
    {
     "name": "stdout",
     "output_type": "stream",
     "text": [
      "['Accounting/Finance']\n",
      "['Advertising/Public Relations']\n",
      "['Aerospace/Aviation']\n",
      "['Arts/Entertainment/Publishing']\n",
      "['Automotive']\n",
      "['Banking/Mortgage']\n",
      "['Business Development']\n",
      "['Business Opportunity']\n",
      "['Clerical/Administrative']\n",
      "['Construction/Facilities']\n",
      "['Consumer Goods']\n",
      "['Customer Service']\n",
      "['Education/Training']\n",
      "['Energy/Utilities']\n",
      "['Engineering']\n",
      "['Government/Military']\n",
      "['Green']\n",
      "['Healthcare']\n",
      "['Hospitality/Travel']\n",
      "['Human Resources']\n",
      "['Installation/Maintenance']\n",
      "['Insurance']\n",
      "['Internet']\n",
      "['Job Search Aids']\n",
      "['Law Enforcement/Security']\n",
      "['Legal']\n",
      "['Management/Executive']\n",
      "['Manufacturing/Operations']\n",
      "['Marketing']\n",
      "['Non-Profit/Volunteer']\n",
      "['Pharmaceutical/Biotech']\n",
      "['Professional Services']\n",
      "['QA/Quality Control']\n",
      "['Real Estate']\n",
      "['Restaurant/Food Service']\n",
      "['Retail']\n",
      "['Sales']\n",
      "['Science/Research']\n",
      "['Skilled Labor']\n",
      "['Technology']\n",
      "['Telecommunications']\n",
      "['Transportation/Logistics']\n",
      "['Other']\n"
     ]
    }
   ],
   "source": [
    "for r in data:\n",
    "    print(r)"
   ]
  },
  {
   "cell_type": "code",
   "execution_count": 4,
   "metadata": {},
   "outputs": [],
   "source": [
    "file.close()"
   ]
  },
  {
   "cell_type": "code",
   "execution_count": 9,
   "metadata": {},
   "outputs": [
    {
     "name": "stdout",
     "output_type": "stream",
     "text": [
      "Index     A    B    C    D    E    F    G    H    I    \n",
      "1    Eldon Base for stackable storage shelf, platinum    Muhammed MacIntyre    3    -213.25    38.94    35    Nunavut    Storage & Organization    0.8    \n",
      "2    1.7 Cubic Foot Compact \"Cube\" Office Refrigerators    Barry French    293    457.81    208.16    68.02    Nunavut    Appliances    0.58    \n",
      "3    Cardinal Slant-D� Ring Binder, Heavy Gauge Vinyl    Barry French    293    46.71    8.69    2.99    Nunavut    Binders and Binder Accessories    0.39    \n",
      "4    R380    Clay Rozendal    483    1198.97    195.99    3.99    Nunavut    Telephones and Communication    0.58    \n",
      "5    Holmes HEPA Air Purifier    Carlos Soltero    515    30.94    21.78    5.94    Nunavut    Appliances    0.5    \n",
      "6    G.E. Longer-Life Indoor Recessed Floodlight Bulbs    Carlos Soltero    515    4.43    6.64    4.95    Nunavut    Office Furnishings    0.37    \n",
      "7    Angle-D Binders with Locking Rings, Label Holders    Carl Jackson    613    -54.04    7.3    7.72    Nunavut    Binders and Binder Accessories    0.38    \n",
      "8    SAFCO Mobile Desk Side File, Wire Frame    Carl Jackson    613    127.70    42.76    6.22    Nunavut    Storage & Organization        \n",
      "9    SAFCO Commercial Wire Shelving, Black    Monica Federle    643    -695.26    138.14    35    Nunavut    Storage & Organization        \n",
      "10    Xerox 198    Dorothy Badders    678    -226.36    4.98    8.33    Nunavut    Paper    0.38    \n"
     ]
    }
   ],
   "source": [
    "csvfile = open(\"Sample.csv\",\"r\")\n",
    "data = csv.reader(csvfile)\n",
    "\n",
    "col = []\n",
    "rows = []\n",
    "\n",
    "col = next(data)\n",
    "\n",
    "# print(col)\n",
    "for r in data:\n",
    "    rows.append(r)\n",
    "\n",
    "for i in col:\n",
    "    print(i, end = \"    \")\n",
    "\n",
    "print()\n",
    "\n",
    "for row in rows:\n",
    "    for r in row:\n",
    "        print(r, end = \"    \")\n",
    "    print()"
   ]
  },
  {
   "cell_type": "code",
   "execution_count": 10,
   "metadata": {},
   "outputs": [
    {
     "name": "stdout",
     "output_type": "stream",
     "text": [
      "   Index                                                  A  \\\n",
      "0      1   Eldon Base for stackable storage shelf, platinum   \n",
      "1      2  1.7 Cubic Foot Compact \"Cube\" Office Refrigera...   \n",
      "2      3   Cardinal Slant-D� Ring Binder, Heavy Gauge Vinyl   \n",
      "3      4                                               R380   \n",
      "4      5                           Holmes HEPA Air Purifier   \n",
      "5      6  G.E. Longer-Life Indoor Recessed Floodlight Bulbs   \n",
      "6      7  Angle-D Binders with Locking Rings, Label Holders   \n",
      "7      8            SAFCO Mobile Desk Side File, Wire Frame   \n",
      "8      9              SAFCO Commercial Wire Shelving, Black   \n",
      "9     10                                          Xerox 198   \n",
      "\n",
      "                    B    C        D       E      F        G  \\\n",
      "0  Muhammed MacIntyre    3  -213.25   38.94  35.00  Nunavut   \n",
      "1        Barry French  293   457.81  208.16  68.02  Nunavut   \n",
      "2        Barry French  293    46.71    8.69   2.99  Nunavut   \n",
      "3       Clay Rozendal  483  1198.97  195.99   3.99  Nunavut   \n",
      "4      Carlos Soltero  515    30.94   21.78   5.94  Nunavut   \n",
      "5      Carlos Soltero  515     4.43    6.64   4.95  Nunavut   \n",
      "6        Carl Jackson  613   -54.04    7.30   7.72  Nunavut   \n",
      "7        Carl Jackson  613   127.70   42.76   6.22  Nunavut   \n",
      "8      Monica Federle  643  -695.26  138.14  35.00  Nunavut   \n",
      "9     Dorothy Badders  678  -226.36    4.98   8.33  Nunavut   \n",
      "\n",
      "                                H     I  \n",
      "0          Storage & Organization  0.80  \n",
      "1                      Appliances  0.58  \n",
      "2  Binders and Binder Accessories  0.39  \n",
      "3    Telephones and Communication  0.58  \n",
      "4                      Appliances  0.50  \n",
      "5              Office Furnishings  0.37  \n",
      "6  Binders and Binder Accessories  0.38  \n",
      "7          Storage & Organization   NaN  \n",
      "8          Storage & Organization   NaN  \n",
      "9                           Paper  0.38  \n"
     ]
    }
   ],
   "source": [
    "import pandas as pd\n",
    "\n",
    "csvfile = pd.read_csv(\"Sample.csv\")\n",
    "print(csvfile)"
   ]
  },
  {
   "cell_type": "code",
   "execution_count": 12,
   "metadata": {},
   "outputs": [],
   "source": [
    "# writing in a csv file  :\n",
    "\n",
    "col = ['Name', 'class', 'section', 'Result', 'Percent', 'Grade']\n",
    "\n",
    "rows = [\n",
    "        ['siya', '5th', 'A', 'pass', 90, 'A+'],\n",
    "    ['Riya', '5th', 'A', 'Pass', 92, 'A+'],\n",
    "    ['Priya', '5th', 'B', 'Pass', 85, 'A'],\n",
    "    ['Tiya', '5th', 'C', 'Pass', 77, 'B+']\n",
    "]\n",
    "\n",
    "filename = \"student_data.csv\"\n",
    "\n",
    "file = open(filename, \"w\")\n",
    "object = csv.writer(file)\n",
    "\n",
    "object.writerow(col)\n",
    "\n",
    "object.writerows(rows)"
   ]
  },
  {
   "cell_type": "code",
   "execution_count": 13,
   "metadata": {},
   "outputs": [],
   "source": [
    "dict1 =[\n",
    "    {\"Roll_number\": \"1\", \"Name\": \"akash\", \"class\": \"8\", \"subject\": \"maths\"},\n",
    "    {\"Roll_number\": \"2\", \"Name\": \"chetan\", \"class\": \"11\", \"subject\": \"commerce\"}, \n",
    "    {\"Roll_number\": \"3\", \"Name\": \"rohit\", \"class\": \"12\", \"subject\": \"pcm\"}, \n",
    "    {\"Roll_number\": \"4\", \"Name\": \"rishabh\", \"class\": \"12\", \"subject\": \"biology\"},\n",
    "    {\"Roll_number\": \"5\", \"Name\": \"vikas\", \"class\": \"11\", \"subject\": \"pcm\"}\n",
    "    ]"
   ]
  },
  {
   "cell_type": "code",
   "execution_count": 15,
   "metadata": {},
   "outputs": [],
   "source": [
    "columns = [\"Roll_number\", \"Name\",\"class\",\"subject\"]\n",
    "filename = \"my_data.csv\"\n",
    "\n",
    "with open(filename, \"w\") as file:\n",
    "    obj = csv.DictWriter(file, fieldnames= columns)\n",
    "\n",
    "    obj.writeheader()\n",
    "\n",
    "    obj.writerows(dict1)\n"
   ]
  },
  {
   "cell_type": "markdown",
   "metadata": {},
   "source": [
    "# Create a csv file, and write the names and email address of minimum 10 people to it. \n"
   ]
  },
  {
   "cell_type": "code",
   "execution_count": null,
   "metadata": {},
   "outputs": [],
   "source": []
  }
 ],
 "metadata": {
  "kernelspec": {
   "display_name": "base",
   "language": "python",
   "name": "python3"
  },
  "language_info": {
   "codemirror_mode": {
    "name": "ipython",
    "version": 3
   },
   "file_extension": ".py",
   "mimetype": "text/x-python",
   "name": "python",
   "nbconvert_exporter": "python",
   "pygments_lexer": "ipython3",
   "version": "3.9.13"
  }
 },
 "nbformat": 4,
 "nbformat_minor": 2
}
