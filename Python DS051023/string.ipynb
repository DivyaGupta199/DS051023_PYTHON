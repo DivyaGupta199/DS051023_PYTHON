{
 "cells": [
  {
   "cell_type": "code",
   "execution_count": null,
   "metadata": {},
   "outputs": [],
   "source": [
    "# string - it is a sequence datatype which is used to store text, character datatype. It has variour inbuilt methods.\n",
    "''' \n",
    "Inbuilt methods of string datatype : \n",
    "1. upper() - It converts the string in upper case\n",
    "2. lower() - It converts the string in lower case.\n",
    "3. casefold() - It converts the string in lower case.\n",
    "4. isupper() - It checks and returns True if the string is in upper case otherwise returns False.\n",
    "5. islower() - It checks and returns True if the string is in lower case otherwise returns False.\n",
    "6. title() - Makes the first character of each word capitalized.\n",
    "7. capitalize() - Makes only the first character of string capitalized.\n",
    "8. len() - It is used to find the length of the string(No. of character, It also counts spaces)\n",
    "9. strip() - It removes the whitespaces from the left and right side of the string.\n",
    "10. replace() - It replaces the provided string with the new string.\n",
    "11. format() - used to concatenate string and variables to make a new string\n",
    "12. startswith() - It checks whether the string is starting with a particular sub string or not.\n",
    "13. endswith() - It checks whether the string is ending with a particular sub string or not.\n",
    "14. find() - To find the position of a given substring in the string.\n",
    "15. isalpha() - It checks and returns True if all the characters in the string are alphabets otherwise returns False.\n",
    "16. isdigit() - It checks and returns True if all the characters in the string are digits otherwise returns False.\n",
    "17. isalnum() - It checks and returns True if all the characters in the string are either alphabet or a digit otherwise returns False.\n",
    "18. isspace() - It checks and returns True if all the characters in the string are whitespaces\n",
    "19. join() - It joins the elements of list and make it a string.\n",
    "20. split() - it splits the string on the basis of seperator and returns a list.\n",
    "21. center() - It is used to keep the string in center.\n",
    "22. count() - This method is used for counting the given substring in the main string.\n",
    "'''\n",
    "\n",
    "\n"
   ]
  },
  {
   "cell_type": "code",
   "execution_count": 2,
   "metadata": {},
   "outputs": [
    {
     "name": "stdout",
     "output_type": "stream",
     "text": [
      "\n",
      "<class 'str'>\n"
     ]
    }
   ],
   "source": [
    "# var = \"\"                          # Empty string\n",
    "var = str()                         #Empty string\n",
    "var1 = \"A\"                          # string of single character\n",
    "var2 = \"string\"\n",
    "print(var)\n",
    "print(type(var))"
   ]
  },
  {
   "cell_type": "code",
   "execution_count": 5,
   "metadata": {},
   "outputs": [
    {
     "name": "stdout",
     "output_type": "stream",
     "text": [
      "PYTHON\n",
      "False\n"
     ]
    }
   ],
   "source": [
    "#upper()\n",
    "string1 = \"python\" \n",
    "var = string1.upper()\n",
    "print(var)\n",
    "print(string1 == var)\n"
   ]
  },
  {
   "cell_type": "code",
   "execution_count": 6,
   "metadata": {},
   "outputs": [
    {
     "name": "stdout",
     "output_type": "stream",
     "text": [
      "python\n",
      "False\n"
     ]
    }
   ],
   "source": [
    "# lower()\n",
    "string1 = \"PyThoN\" \n",
    "var = string1.lower()\n",
    "print(var)\n",
    "print(string1 == var)"
   ]
  },
  {
   "cell_type": "code",
   "execution_count": 7,
   "metadata": {},
   "outputs": [
    {
     "name": "stdout",
     "output_type": "stream",
     "text": [
      "python\n",
      "False\n"
     ]
    }
   ],
   "source": [
    "# casefold()\n",
    "string1 = \"PyThoN\" \n",
    "var = string1.casefold()\n",
    "print(var)\n",
    "print(string1 == var)"
   ]
  },
  {
   "cell_type": "code",
   "execution_count": 8,
   "metadata": {},
   "outputs": [
    {
     "name": "stdout",
     "output_type": "stream",
     "text": [
      "False\n",
      "False\n",
      "True\n"
     ]
    }
   ],
   "source": [
    "# isupper()\n",
    "var1 = \"PythoN\"\n",
    "var2 = \"python\"\n",
    "var3 = \"PYTHON\"\n",
    "print(var1.isupper())\n",
    "print(var2.isupper())\n",
    "print(var3.isupper())\n"
   ]
  },
  {
   "cell_type": "code",
   "execution_count": 9,
   "metadata": {},
   "outputs": [
    {
     "name": "stdout",
     "output_type": "stream",
     "text": [
      "False\n",
      "True\n",
      "False\n"
     ]
    }
   ],
   "source": [
    "# islower()\n",
    "var1 = \"PythoN\"\n",
    "var2 = \"python\"\n",
    "var3 = \"PYTHON\"\n",
    "print(var1.islower())\n",
    "print(var2.islower())\n",
    "print(var3.islower())\n"
   ]
  },
  {
   "cell_type": "code",
   "execution_count": 10,
   "metadata": {},
   "outputs": [
    {
     "data": {
      "text/plain": [
       "'Python Is A Programming Language'"
      ]
     },
     "execution_count": 10,
     "metadata": {},
     "output_type": "execute_result"
    }
   ],
   "source": [
    "# title()\n",
    "string1 = \"python is a programming language\"\n",
    "string1.title()"
   ]
  },
  {
   "cell_type": "code",
   "execution_count": 11,
   "metadata": {},
   "outputs": [
    {
     "data": {
      "text/plain": [
       "'Python is a programming language'"
      ]
     },
     "execution_count": 11,
     "metadata": {},
     "output_type": "execute_result"
    }
   ],
   "source": [
    "# capitalize()\n",
    "string1 = \"python is a programming language\"\n",
    "string1.capitalize()"
   ]
  },
  {
   "cell_type": "code",
   "execution_count": 1,
   "metadata": {},
   "outputs": [
    {
     "name": "stdout",
     "output_type": "stream",
     "text": [
      "32\n"
     ]
    }
   ],
   "source": [
    "# len()\n",
    "string1 = \"python is a programming language\"\n",
    "l = len(string1)\n",
    "print(l)"
   ]
  },
  {
   "cell_type": "code",
   "execution_count": 15,
   "metadata": {},
   "outputs": [
    {
     "data": {
      "text/plain": [
       "'Python'"
      ]
     },
     "execution_count": 15,
     "metadata": {},
     "output_type": "execute_result"
    }
   ],
   "source": [
    "# strip()\n",
    "string1 = \"        Python           \"\n",
    "string1.strip()\n"
   ]
  },
  {
   "cell_type": "code",
   "execution_count": 16,
   "metadata": {},
   "outputs": [
    {
     "data": {
      "text/plain": [
       "'Python           '"
      ]
     },
     "execution_count": 16,
     "metadata": {},
     "output_type": "execute_result"
    }
   ],
   "source": [
    "# lstrip()\n",
    "string1 = \"        Python           \"\n",
    "string1.lstrip()"
   ]
  },
  {
   "cell_type": "code",
   "execution_count": 17,
   "metadata": {},
   "outputs": [
    {
     "data": {
      "text/plain": [
       "'        Python'"
      ]
     },
     "execution_count": 17,
     "metadata": {},
     "output_type": "execute_result"
    }
   ],
   "source": [
    "# rstrip()\n",
    "string1 = \"        Python           \"\n",
    "string1.rstrip()"
   ]
  },
  {
   "cell_type": "code",
   "execution_count": 20,
   "metadata": {},
   "outputs": [
    {
     "name": "stdout",
     "output_type": "stream",
     "text": [
      "Java Programming language\n"
     ]
    }
   ],
   "source": [
    "# replace()\n",
    "string = \"Python Programming language\"\n",
    "string2 = string.replace('Python','Java')\n",
    "print(string2)\n"
   ]
  },
  {
   "cell_type": "code",
   "execution_count": 28,
   "metadata": {},
   "outputs": [
    {
     "name": "stdout",
     "output_type": "stream",
     "text": [
      "She is Sita She is 20 Years old\n"
     ]
    },
    {
     "data": {
      "text/plain": [
       "'She is Sita She is 20 Years old'"
      ]
     },
     "execution_count": 28,
     "metadata": {},
     "output_type": "execute_result"
    }
   ],
   "source": [
    "# Format\n",
    "name = \"Sita\"\n",
    "Age = \"20\"\n",
    "string = \"She is \" + name + \" She is \" + Age + \" Years old\"\n",
    "print(string)\n",
    "string1 = \"She is {}. She is {} Years old\".format(name,Age)\n",
    "string1\n",
    "string2 = \"She is {1} She is {0} Years old\".format(Age,name)\n",
    "string2\n",
    "string3 = f\"She is {name} She is {Age} Years old\"\n",
    "string3"
   ]
  },
  {
   "cell_type": "code",
   "execution_count": 29,
   "metadata": {},
   "outputs": [
    {
     "data": {
      "text/plain": [
       "'Concatenation of String'"
      ]
     },
     "execution_count": 29,
     "metadata": {},
     "output_type": "execute_result"
    }
   ],
   "source": [
    "# concatenation \n",
    "string1 = \"Concatenation of \"\n",
    "string2 = \"String\"\n",
    "string1 + string2"
   ]
  },
  {
   "cell_type": "code",
   "execution_count": 31,
   "metadata": {},
   "outputs": [
    {
     "data": {
      "text/plain": [
       "False"
      ]
     },
     "execution_count": 31,
     "metadata": {},
     "output_type": "execute_result"
    }
   ],
   "source": [
    "# startswith()\n",
    "string = \"Python Programming\"\n",
    "search1 = \"Python\"\n",
    "search2 = \"Java\"\n",
    "string.startswith(search1)\n",
    "string.startswith(search2)\n"
   ]
  },
  {
   "cell_type": "code",
   "execution_count": 2,
   "metadata": {},
   "outputs": [
    {
     "data": {
      "text/plain": [
       "True"
      ]
     },
     "execution_count": 2,
     "metadata": {},
     "output_type": "execute_result"
    }
   ],
   "source": [
    "# endswith()\n",
    "string = \"Python Programming\"\n",
    "search1 = \"ing\"\n",
    "search2 = \"mming\"\n",
    "string.endswith(\"ing\")\n"
   ]
  },
  {
   "cell_type": "code",
   "execution_count": 38,
   "metadata": {},
   "outputs": [
    {
     "data": {
      "text/plain": [
       "15"
      ]
     },
     "execution_count": 38,
     "metadata": {},
     "output_type": "execute_result"
    }
   ],
   "source": [
    "# find() \n",
    "string = \"This is string datatype class\"\n",
    "substring = \"d\"\n",
    "string.find(substring)"
   ]
  },
  {
   "cell_type": "code",
   "execution_count": 3,
   "metadata": {},
   "outputs": [
    {
     "data": {
      "text/plain": [
       "False"
      ]
     },
     "execution_count": 3,
     "metadata": {},
     "output_type": "execute_result"
    }
   ],
   "source": [
    "# isalpha()\n",
    "string = \"ThisIsStringDatatypeClass123\"\n",
    "string.isalpha()"
   ]
  },
  {
   "cell_type": "code",
   "execution_count": 4,
   "metadata": {},
   "outputs": [
    {
     "data": {
      "text/plain": [
       "False"
      ]
     },
     "execution_count": 4,
     "metadata": {},
     "output_type": "execute_result"
    }
   ],
   "source": [
    "# isdigit()\n",
    "string = \"937401670482*&t\"\n",
    "string.isdigit()"
   ]
  },
  {
   "cell_type": "code",
   "execution_count": 49,
   "metadata": {},
   "outputs": [
    {
     "data": {
      "text/plain": [
       "False"
      ]
     },
     "execution_count": 49,
     "metadata": {},
     "output_type": "execute_result"
    }
   ],
   "source": [
    "# isalnum()\n",
    "string = \"ThisIsStringDatatypeClass\"         # True\n",
    "string.isalnum()\n",
    "\n",
    "string = \"937401670482\"                     # True\n",
    "string.isalnum()\n",
    "\n",
    "string = \"ThisIsStringDatatypeClass123456\"   #True\n",
    "string.isalnum()\n",
    "\n",
    "string = \"This Is String Datatype Class 123456\"   #False\n",
    "string.isalnum()\n",
    "\n",
    "string = \"This_Is%String*Datatype@Class#123456\"   #False\n",
    "string.isalnum()"
   ]
  },
  {
   "cell_type": "code",
   "execution_count": 51,
   "metadata": {},
   "outputs": [
    {
     "data": {
      "text/plain": [
       "False"
      ]
     },
     "execution_count": 51,
     "metadata": {},
     "output_type": "execute_result"
    }
   ],
   "source": [
    "# isspace() :\n",
    "string = \"  Python \"                       # Returns False\n",
    "string.isspace()\n",
    "\n",
    "string = \"   \"                             # Returns True\n",
    "string.isspace()"
   ]
  },
  {
   "cell_type": "code",
   "execution_count": 53,
   "metadata": {},
   "outputs": [
    {
     "data": {
      "text/plain": [
       "'This is a list of strings'"
      ]
     },
     "execution_count": 53,
     "metadata": {},
     "output_type": "execute_result"
    }
   ],
   "source": [
    "#  Join() :\n",
    "lst = [\"This is\" , \"a\", \"list of\", \"strings\"]\n",
    "string1 = \" \".join(lst)\n",
    "string1"
   ]
  },
  {
   "cell_type": "code",
   "execution_count": 56,
   "metadata": {},
   "outputs": [
    {
     "data": {
      "text/plain": [
       "1"
      ]
     },
     "execution_count": 56,
     "metadata": {},
     "output_type": "execute_result"
    }
   ],
   "source": [
    "# count() :\n",
    "string = \"This is string datatype class\"\n",
    "string.count('This')"
   ]
  },
  {
   "cell_type": "code",
   "execution_count": 6,
   "metadata": {},
   "outputs": [
    {
     "data": {
      "text/plain": [
       "'***********************************************Python***********************************************'"
      ]
     },
     "execution_count": 6,
     "metadata": {},
     "output_type": "execute_result"
    }
   ],
   "source": [
    "# Centre() : \n",
    "string = \"Python\"\n",
    "string.center(100,'*')"
   ]
  },
  {
   "cell_type": "code",
   "execution_count": 64,
   "metadata": {},
   "outputs": [
    {
     "name": "stdout",
     "output_type": "stream",
     "text": [
      "['red', 'blue', 'green', 'orange', 'yellow', 'purple']\n",
      "<class 'list'>\n",
      "('red', 'blue', 'green', 'orange', 'yellow', 'purple')\n",
      "{'purple', 'green', 'yellow', 'blue', 'orange', 'red'}\n"
     ]
    }
   ],
   "source": [
    "# split()\n",
    "\n",
    "string = \"list of fruits and vegetables\"\n",
    "string.split(\" \")\n",
    "\n",
    "string1 = \"red-blue-green-orange-yellow-purple\"\n",
    "var = string1.split(\"-\")\n",
    "print(var)\n",
    "print(type(var))\n",
    "tup = tuple(var)\n",
    "print(tup)\n",
    "tup = set(var)\n",
    "print(tup)"
   ]
  },
  {
   "cell_type": "code",
   "execution_count": null,
   "metadata": {},
   "outputs": [],
   "source": [
    "'''\n",
    "Write a python program to calculate the number of alphabets, digits and special symbols in the given string.\n",
    "e.g. Input : “String@123#”\n",
    "\n",
    "Alphabets : 6\n",
    "Digits : 3\n",
    "Special symbol :2\n",
    "d\n",
    "'''\n"
   ]
  },
  {
   "cell_type": "code",
   "execution_count": 9,
   "metadata": {},
   "outputs": [
    {
     "name": "stdout",
     "output_type": "stream",
     "text": [
      "The total number of alphabets, digits and special symbols present in the string are 17, 6 and 11 respectively\n"
     ]
    }
   ],
   "source": [
    "string = \"This is string class 123453 @#$%^&\"\n",
    "l = len(string)\n",
    "alphabets = 0\n",
    "digit = 0\n",
    "special_symbols = 0\n",
    "for i in string:\n",
    "    if i.isalpha():\n",
    "        alphabets+=1\n",
    "    elif i.isdigit():\n",
    "        digit+=1\n",
    "    else:\n",
    "        special_symbols+=1\n",
    "\n",
    "\n",
    "print(f\"The total number of alphabets, digits and special symbols present in the string are {alphabets}, {digit} and {special_symbols} respectively\")\n",
    "\n",
    "    \n",
    "\n"
   ]
  }
 ],
 "metadata": {
  "kernelspec": {
   "display_name": "base",
   "language": "python",
   "name": "python3"
  },
  "language_info": {
   "codemirror_mode": {
    "name": "ipython",
    "version": 3
   },
   "file_extension": ".py",
   "mimetype": "text/x-python",
   "name": "python",
   "nbconvert_exporter": "python",
   "pygments_lexer": "ipython3",
   "version": "3.9.13"
  }
 },
 "nbformat": 4,
 "nbformat_minor": 2
}
