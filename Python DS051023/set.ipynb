{
 "cells": [
  {
   "cell_type": "markdown",
   "metadata": {},
   "source": [
    "# set Datatype : Set is a unique collection of heterogeneous elements. Sets are unordered and does not allow duplicates. It is defined using {}. sets are mutable. we can add or remove elements in set. In sets, all the elements are of immutable datatypes.\n",
    "e.g. {2,3,4,5,\"set\",True,(1,2,3)}\n"
   ]
  },
  {
   "cell_type": "code",
   "execution_count": 3,
   "metadata": {},
   "outputs": [
    {
     "name": "stdout",
     "output_type": "stream",
     "text": [
      "{2, 3, 4, 5, 6}\n",
      "Data Type :  <class 'set'>\n",
      "set()\n",
      "Data Type :  <class 'set'>\n"
     ]
    }
   ],
   "source": [
    "# Defining a set \n",
    "set1 = {2,3,4,5,6,6}\n",
    "print(set1)\n",
    "print(\"Data Type : \",type(set1))\n",
    "\n",
    "set2 = set()\n",
    "print(set2)\n",
    "print(\"Data Type : \",type(set2))"
   ]
  },
  {
   "cell_type": "code",
   "execution_count": 4,
   "metadata": {},
   "outputs": [
    {
     "name": "stdout",
     "output_type": "stream",
     "text": [
      "{1, 2, 3, 4, 5, 7, 9, 10}\n"
     ]
    }
   ],
   "source": [
    "sets = {1,1,2,3,4,5,2,7,7,4,4,4,4,10,9,9}\n",
    "print(sets)"
   ]
  },
  {
   "cell_type": "code",
   "execution_count": 5,
   "metadata": {},
   "outputs": [
    {
     "name": "stdout",
     "output_type": "stream",
     "text": [
      "1\n",
      "2\n",
      "3\n",
      "4\n",
      "5\n",
      "7\n",
      "9\n",
      "10\n"
     ]
    }
   ],
   "source": [
    "# Accessing elements in a set\n",
    "for i in sets:\n",
    "    print(i)"
   ]
  },
  {
   "cell_type": "code",
   "execution_count": 7,
   "metadata": {},
   "outputs": [
    {
     "ename": "TypeError",
     "evalue": "'set' object is not subscriptable",
     "output_type": "error",
     "traceback": [
      "\u001b[1;31m---------------------------------------------------------------------------\u001b[0m",
      "\u001b[1;31mTypeError\u001b[0m                                 Traceback (most recent call last)",
      "\u001b[1;32m~\\AppData\\Local\\Temp\\ipykernel_38452\\2091070924.py\u001b[0m in \u001b[0;36m<module>\u001b[1;34m\u001b[0m\n\u001b[0;32m      1\u001b[0m \u001b[1;32mfor\u001b[0m \u001b[0mi\u001b[0m \u001b[1;32min\u001b[0m \u001b[0mrange\u001b[0m\u001b[1;33m(\u001b[0m\u001b[1;36m7\u001b[0m\u001b[1;33m)\u001b[0m\u001b[1;33m:\u001b[0m\u001b[1;33m\u001b[0m\u001b[1;33m\u001b[0m\u001b[0m\n\u001b[1;32m----> 2\u001b[1;33m     \u001b[0mprint\u001b[0m\u001b[1;33m(\u001b[0m\u001b[0msets\u001b[0m\u001b[1;33m[\u001b[0m\u001b[0mi\u001b[0m\u001b[1;33m]\u001b[0m\u001b[1;33m)\u001b[0m\u001b[1;33m\u001b[0m\u001b[1;33m\u001b[0m\u001b[0m\n\u001b[0m",
      "\u001b[1;31mTypeError\u001b[0m: 'set' object is not subscriptable"
     ]
    }
   ],
   "source": [
    "for i in range(7):\n",
    "    print(sets[i])"
   ]
  },
  {
   "cell_type": "code",
   "execution_count": 9,
   "metadata": {},
   "outputs": [
    {
     "name": "stdout",
     "output_type": "stream",
     "text": [
      "{2, 3, 4, 5, 6}\n",
      "{2, 3, 4, 5, 6, 20}\n"
     ]
    }
   ],
   "source": [
    "# Adding an element in a set : \n",
    "print(set1)\n",
    "set1.add(20)\n",
    "print(set1)"
   ]
  },
  {
   "cell_type": "code",
   "execution_count": 10,
   "metadata": {},
   "outputs": [
    {
     "name": "stdout",
     "output_type": "stream",
     "text": [
      "{2, 3, 4, 5, 6, 40, 10, 50, 20, 60, 30}\n"
     ]
    }
   ],
   "source": [
    "# Adding multiple elements to a set : \n",
    "set1.update({10,20,30,40,50,60})\n",
    "print(set1)"
   ]
  },
  {
   "cell_type": "code",
   "execution_count": 11,
   "metadata": {},
   "outputs": [
    {
     "name": "stdout",
     "output_type": "stream",
     "text": [
      "{2, 3, 4, 5, 6, 100, 40, 200, 10, 300, 400, 50, 20, 60, 30}\n"
     ]
    }
   ],
   "source": [
    "# Adding multiple elements to a set : \n",
    "set2 = {100,200,300,400}\n",
    "set1.update(set2)\n",
    "print(set1)"
   ]
  },
  {
   "cell_type": "code",
   "execution_count": null,
   "metadata": {},
   "outputs": [],
   "source": [
    "# Removing an element from the set :\n"
   ]
  },
  {
   "cell_type": "code",
   "execution_count": 14,
   "metadata": {},
   "outputs": [
    {
     "name": "stdout",
     "output_type": "stream",
     "text": [
      "{2, 3, 4, 5, 6, 40, 10, 300, 400, 50, 20, 60, 30}\n"
     ]
    },
    {
     "ename": "KeyError",
     "evalue": "1000",
     "output_type": "error",
     "traceback": [
      "\u001b[1;31m---------------------------------------------------------------------------\u001b[0m",
      "\u001b[1;31mKeyError\u001b[0m                                  Traceback (most recent call last)",
      "\u001b[1;32m~\\AppData\\Local\\Temp\\ipykernel_38452\\2775385048.py\u001b[0m in \u001b[0;36m<module>\u001b[1;34m\u001b[0m\n\u001b[0;32m      1\u001b[0m \u001b[0mprint\u001b[0m\u001b[1;33m(\u001b[0m\u001b[0mset1\u001b[0m\u001b[1;33m)\u001b[0m\u001b[1;33m\u001b[0m\u001b[1;33m\u001b[0m\u001b[0m\n\u001b[1;32m----> 2\u001b[1;33m \u001b[0mset1\u001b[0m\u001b[1;33m.\u001b[0m\u001b[0mremove\u001b[0m\u001b[1;33m(\u001b[0m\u001b[1;36m1000\u001b[0m\u001b[1;33m)\u001b[0m\u001b[1;33m\u001b[0m\u001b[1;33m\u001b[0m\u001b[0m\n\u001b[0m\u001b[0;32m      3\u001b[0m \u001b[0mprint\u001b[0m\u001b[1;33m(\u001b[0m\u001b[0mset1\u001b[0m\u001b[1;33m)\u001b[0m\u001b[1;33m\u001b[0m\u001b[1;33m\u001b[0m\u001b[0m\n",
      "\u001b[1;31mKeyError\u001b[0m: 1000"
     ]
    }
   ],
   "source": [
    "print(set1)\n",
    "set1.remove(1000)\n",
    "print(set1)"
   ]
  },
  {
   "cell_type": "code",
   "execution_count": 15,
   "metadata": {},
   "outputs": [
    {
     "name": "stdout",
     "output_type": "stream",
     "text": [
      "{2, 3, 4, 5, 6, 40, 10, 300, 400, 50, 20, 60, 30}\n",
      "{2, 3, 4, 5, 6, 40, 10, 300, 400, 50, 20, 60, 30}\n"
     ]
    }
   ],
   "source": [
    "print(set1)\n",
    "set1.discard(1000)\n",
    "print(set1)"
   ]
  },
  {
   "cell_type": "code",
   "execution_count": 17,
   "metadata": {},
   "outputs": [
    {
     "name": "stdout",
     "output_type": "stream",
     "text": [
      "{3, 4, 5, 6, 40, 10, 300, 400, 50, 20, 60, 30}\n",
      "{4, 5, 6, 40, 10, 300, 400, 50, 20, 60, 30}\n"
     ]
    }
   ],
   "source": [
    "print(set1)\n",
    "set1.pop()\n",
    "print(set1)"
   ]
  },
  {
   "cell_type": "code",
   "execution_count": 18,
   "metadata": {},
   "outputs": [
    {
     "name": "stdout",
     "output_type": "stream",
     "text": [
      "{4, 5, 6, 40, 10, 300, 400, 50, 20, 60, 30}\n",
      "set()\n"
     ]
    }
   ],
   "source": [
    "print(set1)\n",
    "set1.clear()\n",
    "print(set1)"
   ]
  },
  {
   "cell_type": "code",
   "execution_count": 20,
   "metadata": {},
   "outputs": [
    {
     "data": {
      "text/plain": [
       "{5, 6}"
      ]
     },
     "execution_count": 20,
     "metadata": {},
     "output_type": "execute_result"
    }
   ],
   "source": [
    "# set intersection \n",
    "set1 = {1,2,3,4,5,6}\n",
    "set2 = {5,6,7,8,9,10}\n",
    "set1.intersection(set2)\n"
   ]
  },
  {
   "cell_type": "code",
   "execution_count": 21,
   "metadata": {},
   "outputs": [
    {
     "data": {
      "text/plain": [
       "{1, 2, 3, 4, 5, 6, 7, 8, 9, 10}"
      ]
     },
     "execution_count": 21,
     "metadata": {},
     "output_type": "execute_result"
    }
   ],
   "source": [
    "# set union \n",
    "set1 = {1,2,3,4,5,6}\n",
    "set2 = {5,6,7,8,9,10}\n",
    "set1.union(set2)"
   ]
  },
  {
   "cell_type": "code",
   "execution_count": 22,
   "metadata": {},
   "outputs": [
    {
     "data": {
      "text/plain": [
       "{1, 2, 3, 4}"
      ]
     },
     "execution_count": 22,
     "metadata": {},
     "output_type": "execute_result"
    }
   ],
   "source": [
    "# set difference \n",
    "set1 = {1,2,3,4,5,6}\n",
    "set2 = {5,6,7,8,9,10}\n",
    "set1.difference(set2)"
   ]
  },
  {
   "cell_type": "code",
   "execution_count": 23,
   "metadata": {},
   "outputs": [
    {
     "data": {
      "text/plain": [
       "{7, 8, 9, 10}"
      ]
     },
     "execution_count": 23,
     "metadata": {},
     "output_type": "execute_result"
    }
   ],
   "source": [
    "# set difference \n",
    "set1 = {1,2,3,4,5,6}\n",
    "set2 = {5,6,7,8,9,10}\n",
    "set2.difference(set1)"
   ]
  },
  {
   "cell_type": "code",
   "execution_count": 24,
   "metadata": {},
   "outputs": [
    {
     "data": {
      "text/plain": [
       "{1, 2, 3, 4, 7, 8, 9, 10}"
      ]
     },
     "execution_count": 24,
     "metadata": {},
     "output_type": "execute_result"
    }
   ],
   "source": [
    "# symmetric difference :  \n",
    "set1 = {1,2,3,4,5,6}\n",
    "set2 = {5,6,7,8,9,10}\n",
    "set1.symmetric_difference(set2)"
   ]
  },
  {
   "cell_type": "code",
   "execution_count": null,
   "metadata": {},
   "outputs": [],
   "source": [
    "# Write a program to check if a set is a subset of another set.\n",
    "\n",
    "set1 = {1,2,3,4,5,6,7,8,9,10}\n",
    "set2 = {1,2,3,4}"
   ]
  },
  {
   "cell_type": "code",
   "execution_count": 27,
   "metadata": {},
   "outputs": [
    {
     "data": {
      "text/plain": [
       "True"
      ]
     },
     "execution_count": 27,
     "metadata": {},
     "output_type": "execute_result"
    }
   ],
   "source": [
    "set1 = {1,2,3,4,5,6,7,8,9,10}\n",
    "set2 = {1,2,3,4}\n",
    "set1.issuperset(set2)\n"
   ]
  },
  {
   "cell_type": "code",
   "execution_count": null,
   "metadata": {},
   "outputs": [],
   "source": [
    "# Write a python program to find the maximum and minimum value in a set.\n",
    "\n",
    "set1 = {1,2,3,4,5,6,7,8,9,10}\n",
    "print(\"\\n maximum value of set :\")\n",
    "print(max(set1))\n",
    "print(\"\\n minimum value of set :\")\n",
    "print(min(set1))"
   ]
  },
  {
   "cell_type": "code",
   "execution_count": 34,
   "metadata": {},
   "outputs": [
    {
     "name": "stdout",
     "output_type": "stream",
     "text": [
      "Maximum value in set is 0\n",
      "Minimum value in set is 0\n"
     ]
    }
   ],
   "source": [
    "set1 = {1,2,3,4,5,6,7,8,9,10}\n",
    "maximum = 0\n",
    "minimum = 0\n",
    "for i in set1:\n",
    "    if i > max:\n",
    "        max = i\n",
    "\n",
    "    if min not in set1 :\n",
    "        min = i\n",
    "\n",
    "    if i < min:\n",
    "        min = i\n",
    "\n",
    "print(f\"Maximum value in set is {maximum}\")\n",
    "print(f\"Minimum value in set is {minimum}\")"
   ]
  },
  {
   "cell_type": "code",
   "execution_count": 5,
   "metadata": {},
   "outputs": [
    {
     "name": "stdout",
     "output_type": "stream",
     "text": [
      "Third largest element in given set is 13\n"
     ]
    }
   ],
   "source": [
    "# Write a python program to find the third largest number in a set. \n",
    "set1 = {1,2,3,4,5,6,7,8,9,10,11,12,13,14,15,16,17}\n",
    "set2 = set1.copy()\n",
    "n = 5\n",
    "l = max(set2)\n",
    "for i in range(n-1):\n",
    "    set2.remove(l)\n",
    "    l = max(set2)\n",
    "\n",
    "print(f\"Third largest element in given set is {l}\")\n"
   ]
  },
  {
   "cell_type": "code",
   "execution_count": null,
   "metadata": {},
   "outputs": [],
   "source": [
    "# Write a python program to check the validity of a password.\n",
    "validations :\n",
    "1. min 1 uppercase character\n",
    "2. min 1 lowercase character\n",
    "3. min 1 special character\n",
    "4. min 1 digit\n",
    "5. min 8 characters long\n"
   ]
  },
  {
   "cell_type": "code",
   "execution_count": 9,
   "metadata": {},
   "outputs": [
    {
     "name": "stdout",
     "output_type": "stream",
     "text": [
      "Valid password\n",
      "9\n",
      "1\n",
      "3\n",
      "4\n",
      "1\n"
     ]
    }
   ],
   "source": [
    "password = 'Abcd@1234'\n",
    "upper = 0 \n",
    "lower = 0 \n",
    "special = 0\n",
    "digit = 0\n",
    "length = 0\n",
    "if len(password) >=8:\n",
    "    for i in password:        \n",
    "        if i.isupper():\n",
    "            upper+=1\n",
    "\n",
    "        elif i.islower():\n",
    "            lower+=1\n",
    "\n",
    "        elif i.isdigit():\n",
    "            digit+=1\n",
    "\n",
    "        else:\n",
    "            special+=1\n",
    "\n",
    "else:\n",
    "    print(\"Invalid password\")\n",
    "\n",
    "if upper>0 and lower>0 and special>0 and digit>0:\n",
    "    print(\"Valid password\")\n",
    "\n",
    "else:\n",
    "    print(\"Invalid password\")\n",
    "\n",
    "print(len(password))\n",
    "print(upper)\n",
    "print(lower)\n",
    "print(digit)\n",
    "print(special)\n"
   ]
  }
 ],
 "metadata": {
  "kernelspec": {
   "display_name": "base",
   "language": "python",
   "name": "python3"
  },
  "language_info": {
   "codemirror_mode": {
    "name": "ipython",
    "version": 3
   },
   "file_extension": ".py",
   "mimetype": "text/x-python",
   "name": "python",
   "nbconvert_exporter": "python",
   "pygments_lexer": "ipython3",
   "version": "3.9.13"
  }
 },
 "nbformat": 4,
 "nbformat_minor": 2
}
