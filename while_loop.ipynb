{
 "cells": [
  {
   "cell_type": "code",
   "execution_count": null,
   "metadata": {},
   "outputs": [],
   "source": [
    "# While loop : While loop is used to iterate certain block of code till the given condition is getting satisfied. "
   ]
  },
  {
   "cell_type": "code",
   "execution_count": 15,
   "metadata": {},
   "outputs": [
    {
     "name": "stdout",
     "output_type": "stream",
     "text": [
      "0 , 5 , 10 , 15 , 20 , 25 , 30 , 35 , 40 , 45 , 50 , 55 , 60 , 65 , 70 , 75 , 80 , 85 , 90 , 95 , "
     ]
    }
   ],
   "source": [
    "# Write a program to print all the multiples of 5 less than 100 \n",
    "\n",
    "number = 0\n",
    "end_range = 100\n",
    "while number < end_range:\n",
    "    if number % 5 == 0:\n",
    "        print(number, end = \" , \")\n",
    "    number+=1\n",
    "\n",
    "print(\"-------finished----------\")"
   ]
  },
  {
   "cell_type": "code",
   "execution_count": 19,
   "metadata": {},
   "outputs": [
    {
     "name": "stdout",
     "output_type": "stream",
     "text": [
      "2\n",
      "Not a prime number\n"
     ]
    }
   ],
   "source": [
    "# Write a program to check if a number is prime or not using while loop .\n",
    "\n",
    "number = int(input(\"Enter the number : \"))\n",
    "flag = 1\n",
    "i = 2\n",
    "while i<number:\n",
    "    print(i)\n",
    "    if number % i == 0:\n",
    "        flag = 0\n",
    "        break\n",
    "\n",
    "    i+=1\n",
    "\n",
    "if flag == 1:\n",
    "    print(\"Prime number\")\n",
    "\n",
    "else:\n",
    "    print(\"Not a prime number\")\n",
    "        \n"
   ]
  },
  {
   "cell_type": "code",
   "execution_count": 24,
   "metadata": {},
   "outputs": [
    {
     "name": "stdout",
     "output_type": "stream",
     "text": [
      "Enter 1. To see the products/n Enter 2. To order /n3. To update Profile /n4. To exit\n"
     ]
    }
   ],
   "source": [
    "while True :\n",
    "    print(\"Enter 1. To see the products/n Enter 2. To order /n3. To update Profile /n4. To exit\")\n",
    "    user_input = int(input(\"Enter : \"))\n",
    "    if user_input == 1:\n",
    "        print(\"Product list is displayed\")\n",
    "\n",
    "    if user_input == 2:\n",
    "        print(\"Order is done\")\n",
    "\n",
    "    if user_input == 3:\n",
    "        print(\"Profile gets updated\")\n",
    "\n",
    "    if user_input == 4:\n",
    "        print(\"Thankyou for visiting our website\")\n",
    "\n",
    "    break"
   ]
  },
  {
   "cell_type": "markdown",
   "metadata": {},
   "source": [
    "welcome to our website : \n",
    "1. To see the products\n",
    "2. To see the wishlist\n",
    "3. To order\n",
    "4. To update the profile\n",
    "5. To logout\n"
   ]
  },
  {
   "cell_type": "code",
   "execution_count": 28,
   "metadata": {},
   "outputs": [
    {
     "name": "stdout",
     "output_type": "stream",
     "text": [
      "You have entered :  14\n",
      "DO YOU WANT TO CONTINUE\n",
      "You have entered :  15\n",
      "DO YOU WANT TO CONTINUE\n",
      "You have entered :  10\n",
      "DO YOU WANT TO CONTINUE\n",
      "You have entered :  2\n",
      "DO YOU WANT TO CONTINUE\n",
      "PROGRAM OVER\n",
      "Sum of all the numbers user has entered :  41\n"
     ]
    }
   ],
   "source": [
    "# Write a program to enter the numbers till user wants and at the end it should display the sum of numbers user entered.\n",
    "sum = 0\n",
    "\n",
    "while True:\n",
    "    num = int(input(\"enter any integer\"))\n",
    "    print(\"You have entered : \",num)\n",
    "    sum+=num\n",
    "    print(\"DO YOU WANT TO CONTINUE\")\n",
    "    ch=input(\"enter 'y' to continue and any other character to exit\")\n",
    "    if ch!= 'y':\n",
    "        print(\"PROGRAM OVER\") \n",
    "        break\n",
    "\n",
    "print(\"Sum of all the numbers user has entered : \",sum)\n",
    "\n"
   ]
  }
 ],
 "metadata": {
  "kernelspec": {
   "display_name": "base",
   "language": "python",
   "name": "python3"
  },
  "language_info": {
   "codemirror_mode": {
    "name": "ipython",
    "version": 3
   },
   "file_extension": ".py",
   "mimetype": "text/x-python",
   "name": "python",
   "nbconvert_exporter": "python",
   "pygments_lexer": "ipython3",
   "version": "3.9.13"
  }
 },
 "nbformat": 4,
 "nbformat_minor": 2
}
