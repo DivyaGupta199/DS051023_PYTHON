{
 "cells": [
  {
   "cell_type": "code",
   "execution_count": null,
   "metadata": {},
   "outputs": [],
   "source": []
  },
  {
   "cell_type": "markdown",
   "metadata": {},
   "source": [
    "Operators : operators are used for performing some operation on data or values (operands).\n",
    "\n",
    "Types of operators : \n",
    "1. Arithmetic operators : Arithmetic operators are used to perform mathematical operations like addition, substraction, multiplication and division etc.\n",
    "    1. Addition  (+)\n",
    "    2. Substraction (-)\n",
    "    3. Multiplication (*)\n",
    "    4. Division (/)\n",
    "    5. Floor Division (//)\n",
    "    6. Modulus  (%)\n",
    "    7. Exponent  (**)\n",
    "\n",
    "\n",
    "2. Assignment operator : It is used to assign some value/data to the variables.\n",
    "    = , +=, -=, *= , /=, //=, %=, **=\n",
    "\n",
    "3. Comparison operator : These operators are used for comparison between two values/variables.\n",
    "\n",
    "\n",
    "4. Logical operators : \n",
    "    1. AND\n",
    "    2. OR   \n",
    "    3. NOT\n",
    "\n",
    "5. Identity operators :\n",
    "    1. is\n",
    "    2. is not\n",
    "\n",
    "6. Membership operators : \n",
    "    1. in \n",
    "    2. in not\n",
    "\n",
    "7. Bitwise operator : these are used for doing bitwise operations.  (1,0)\n",
    "    1. AND (&) --> Returns 1 if both operands are 1 otherwise 0 ----> x & y \n",
    "    2. OR  (|) --> Returns 1 if both operands or either of the operands are 1 --> x|y\n",
    "    3. NOT (~)  --> inverts the result (bit)   ~X\n",
    "    4. XOR (^) --> returns 1 if either of the operands are 1 otherwise 0 ----> x ^ y\n",
    "    5. RIGHT SHIFT --> The bits is moved towards right.\n",
    "    6. LEFT SHIFT --> The bits is moved towards left.\n",
    "    "
   ]
  },
  {
   "cell_type": "code",
   "execution_count": 3,
   "metadata": {},
   "outputs": [
    {
     "name": "stdout",
     "output_type": "stream",
     "text": [
      "100\n"
     ]
    }
   ],
   "source": [
    "# Addition : \n",
    "number1 = 40\n",
    "number2 = 60\n",
    "print(30 + 70)"
   ]
  },
  {
   "cell_type": "code",
   "execution_count": 5,
   "metadata": {},
   "outputs": [
    {
     "name": "stdout",
     "output_type": "stream",
     "text": [
      "-10\n"
     ]
    }
   ],
   "source": [
    "# Substraction: \n",
    "number1 = 50\n",
    "number2 = 60\n",
    "subs = number1 - number2\n",
    "print(subs)"
   ]
  },
  {
   "cell_type": "code",
   "execution_count": 8,
   "metadata": {},
   "outputs": [
    {
     "name": "stdout",
     "output_type": "stream",
     "text": [
      "3007.3799999999997\n"
     ]
    }
   ],
   "source": [
    "# Multiplication : \n",
    "number1 = 50.123\n",
    "number2 = 60\n",
    "multiply = number1 * number2\n",
    "print(multiply)"
   ]
  },
  {
   "cell_type": "code",
   "execution_count": 9,
   "metadata": {},
   "outputs": [
    {
     "name": "stdout",
     "output_type": "stream",
     "text": [
      "7.5\n"
     ]
    }
   ],
   "source": [
    "# Division :\n",
    "number1 = 15\n",
    "number2 = 2\n",
    "divide = number1 / number2\n",
    "print(divide)"
   ]
  },
  {
   "cell_type": "code",
   "execution_count": 10,
   "metadata": {},
   "outputs": [
    {
     "name": "stdout",
     "output_type": "stream",
     "text": [
      "7\n"
     ]
    }
   ],
   "source": [
    "# Floor division \n",
    "number1 = 15\n",
    "number2 = 2\n",
    "divide = number1 // number2\n",
    "print(divide)"
   ]
  },
  {
   "cell_type": "code",
   "execution_count": 11,
   "metadata": {},
   "outputs": [
    {
     "name": "stdout",
     "output_type": "stream",
     "text": [
      "1\n"
     ]
    }
   ],
   "source": [
    "# Modulus : \n",
    "number1 = 15\n",
    "number2 = 2\n",
    "modulus = number1 % number2\n",
    "print(modulus)\n"
   ]
  },
  {
   "cell_type": "code",
   "execution_count": 15,
   "metadata": {},
   "outputs": [
    {
     "name": "stdout",
     "output_type": "stream",
     "text": [
      "81\n"
     ]
    }
   ],
   "source": [
    "# Exponent\n",
    "\n",
    "base = 3\n",
    "power = 4\n",
    "exponent = base ** power\n",
    "print(exponent)"
   ]
  },
  {
   "cell_type": "code",
   "execution_count": 19,
   "metadata": {},
   "outputs": [
    {
     "name": "stdout",
     "output_type": "stream",
     "text": [
      "30\n"
     ]
    }
   ],
   "source": [
    "# Assignment operator (+=) : \n",
    "\n",
    "number = 25\n",
    "# number = number + 5\n",
    "number+=5\n",
    "print(number)\n"
   ]
  },
  {
   "cell_type": "code",
   "execution_count": 27,
   "metadata": {},
   "outputs": [
    {
     "name": "stdout",
     "output_type": "stream",
     "text": [
      "False\n"
     ]
    }
   ],
   "source": [
    "# Comparison Operators \n",
    "# equal equal to(==):\n",
    "number1 = input(\"Enter the first number : \")\n",
    "number2 = input(\"Enter the second number : \")\n",
    "print(number1 == number2)\n",
    "\n"
   ]
  },
  {
   "cell_type": "code",
   "execution_count": 28,
   "metadata": {},
   "outputs": [
    {
     "name": "stdout",
     "output_type": "stream",
     "text": [
      "True\n"
     ]
    }
   ],
   "source": [
    "# not equal to(==):\n",
    "number1 = 13\n",
    "number2 = 16\n",
    "print(number1 != number2)\n"
   ]
  },
  {
   "cell_type": "code",
   "execution_count": 29,
   "metadata": {},
   "outputs": [
    {
     "name": "stdout",
     "output_type": "stream",
     "text": [
      "False\n"
     ]
    }
   ],
   "source": [
    "# greater than (>):\n",
    "number1 = 13\n",
    "number2 = 16\n",
    "print(number1 > number2)"
   ]
  },
  {
   "cell_type": "code",
   "execution_count": 30,
   "metadata": {},
   "outputs": [
    {
     "name": "stdout",
     "output_type": "stream",
     "text": [
      "True\n"
     ]
    }
   ],
   "source": [
    "# less than ():\n",
    "number1 = 13\n",
    "number2 = 16\n",
    "print(number1 < number2)"
   ]
  },
  {
   "cell_type": "code",
   "execution_count": 33,
   "metadata": {},
   "outputs": [
    {
     "name": "stdout",
     "output_type": "stream",
     "text": [
      "False\n"
     ]
    }
   ],
   "source": [
    "# less than equal to():\n",
    "number1 = 18\n",
    "number2 = 16\n",
    "print(number1 <= number2)"
   ]
  },
  {
   "cell_type": "code",
   "execution_count": 34,
   "metadata": {},
   "outputs": [
    {
     "name": "stdout",
     "output_type": "stream",
     "text": [
      "True\n"
     ]
    }
   ],
   "source": [
    "# greater than equal to(>=):\n",
    "number1 = 18\n",
    "number2 = 16\n",
    "print(number1 >= number2)"
   ]
  },
  {
   "cell_type": "code",
   "execution_count": 36,
   "metadata": {},
   "outputs": [
    {
     "name": "stdout",
     "output_type": "stream",
     "text": [
      "True\n"
     ]
    }
   ],
   "source": [
    "# Logical operator (AND) :\n",
    "number1 = 13\n",
    "number2 = 15\n",
    "print(number1<number2 and number1 == 13)\n"
   ]
  },
  {
   "cell_type": "code",
   "execution_count": 39,
   "metadata": {},
   "outputs": [
    {
     "name": "stdout",
     "output_type": "stream",
     "text": [
      "False\n"
     ]
    }
   ],
   "source": [
    "# Logical operator (OR) :\n",
    "number1 = 13\n",
    "number2 = 15\n",
    "print(number1>number2 or number1 != 13)"
   ]
  },
  {
   "cell_type": "code",
   "execution_count": 40,
   "metadata": {},
   "outputs": [
    {
     "name": "stdout",
     "output_type": "stream",
     "text": [
      "True\n"
     ]
    }
   ],
   "source": [
    "# Logical operator (not)\n",
    "number1 = 13\n",
    "number2 = 15\n",
    "print(not(number1>number2 or number1 != 13))\n"
   ]
  },
  {
   "cell_type": "code",
   "execution_count": 48,
   "metadata": {},
   "outputs": [
    {
     "name": "stdout",
     "output_type": "stream",
     "text": [
      "False\n"
     ]
    }
   ],
   "source": [
    "# Identity operator (is)\n",
    "string1 = \"Python\"\n",
    "print(type(string1) is int)"
   ]
  },
  {
   "cell_type": "code",
   "execution_count": 43,
   "metadata": {},
   "outputs": [
    {
     "name": "stdout",
     "output_type": "stream",
     "text": [
      "True\n"
     ]
    },
    {
     "name": "stderr",
     "output_type": "stream",
     "text": [
      "<>:4: SyntaxWarning: \"is\" with a literal. Did you mean \"==\"?\n",
      "<>:4: SyntaxWarning: \"is\" with a literal. Did you mean \"==\"?\n",
      "C:\\Users\\divya.gupta\\AppData\\Local\\Temp\\ipykernel_12764\\3908582664.py:4: SyntaxWarning: \"is\" with a literal. Did you mean \"==\"?\n",
      "  print(number is 20)\n"
     ]
    }
   ],
   "source": [
    "# Identity operator (is not)\n",
    "\n",
    "number = 20\n",
    "print(number is 20)"
   ]
  },
  {
   "cell_type": "code",
   "execution_count": 45,
   "metadata": {},
   "outputs": [
    {
     "name": "stdout",
     "output_type": "stream",
     "text": [
      "False\n"
     ]
    }
   ],
   "source": [
    "# Membership operator (in) : \n",
    "number = 20\n",
    "lst = [12,14,10,15,18]\n",
    "print(number in lst)"
   ]
  },
  {
   "cell_type": "code",
   "execution_count": 47,
   "metadata": {},
   "outputs": [
    {
     "name": "stdout",
     "output_type": "stream",
     "text": [
      "False\n"
     ]
    }
   ],
   "source": [
    "# Membership operator (in) : \n",
    "number = 10\n",
    "lst = [12,14,10,15,18]\n",
    "print(number not in lst)"
   ]
  },
  {
   "cell_type": "code",
   "execution_count": 4,
   "metadata": {},
   "outputs": [
    {
     "name": "stdout",
     "output_type": "stream",
     "text": [
      "0\n"
     ]
    }
   ],
   "source": [
    "# Bitwise AND Operator : \n",
    "num1 = 10   #1010\n",
    "num2 = 4    #0100\n",
    "print(num1 & num2)\n"
   ]
  }
 ],
 "metadata": {
  "kernelspec": {
   "display_name": "base",
   "language": "python",
   "name": "python3"
  },
  "language_info": {
   "codemirror_mode": {
    "name": "ipython",
    "version": 3
   },
   "file_extension": ".py",
   "mimetype": "text/x-python",
   "name": "python",
   "nbconvert_exporter": "python",
   "pygments_lexer": "ipython3",
   "version": "3.9.13"
  }
 },
 "nbformat": 4,
 "nbformat_minor": 2
}
